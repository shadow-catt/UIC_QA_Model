{
 "cells": [
  {
   "cell_type": "code",
   "execution_count": 1,
   "id": "b8f602d7",
   "metadata": {
    "execution": {
     "iopub.execute_input": "2022-11-16T17:00:19.003350Z",
     "iopub.status.busy": "2022-11-16T17:00:19.002853Z",
     "iopub.status.idle": "2022-11-16T17:00:21.778969Z",
     "shell.execute_reply": "2022-11-16T17:00:21.777777Z"
    },
    "papermill": {
     "duration": 2.788435,
     "end_time": "2022-11-16T17:00:21.781791",
     "exception": false,
     "start_time": "2022-11-16T17:00:18.993356",
     "status": "completed"
    },
    "tags": []
   },
   "outputs": [],
   "source": [
    "import pandas as pd\n",
    "import numpy as np\n",
    "import plotly.express as px\n",
    "from datasets import list_metrics,load_metric\n",
    "from sklearn.metrics import confusion_matrix"
   ]
  },
  {
   "cell_type": "markdown",
   "id": "4baa34a1",
   "metadata": {
    "papermill": {
     "duration": 0.007753,
     "end_time": "2022-11-16T17:00:21.799068",
     "exception": false,
     "start_time": "2022-11-16T17:00:21.791315",
     "status": "completed"
    },
    "tags": []
   },
   "source": [
    "## Evaluation function"
   ]
  },
  {
   "cell_type": "code",
   "execution_count": 2,
   "id": "6775b8b5",
   "metadata": {
    "execution": {
     "iopub.execute_input": "2022-11-16T17:00:21.814820Z",
     "iopub.status.busy": "2022-11-16T17:00:21.813837Z",
     "iopub.status.idle": "2022-11-16T17:00:21.829175Z",
     "shell.execute_reply": "2022-11-16T17:00:21.828008Z"
    },
    "papermill": {
     "duration": 0.026398,
     "end_time": "2022-11-16T17:00:21.831678",
     "exception": false,
     "start_time": "2022-11-16T17:00:21.805280",
     "status": "completed"
    },
    "tags": []
   },
   "outputs": [],
   "source": [
    "def performance(y_ture,y_pred):\n",
    "    f1_metric = load_metric(\"f1\")\n",
    "    re_metric = load_metric(\"recall\")\n",
    "    pre_metric = load_metric(\"precision\")\n",
    "    type_c_int = list(set(np.concatenate([y_ture, y_pred])))\n",
    "    type_c = [str(i) for i in type_c_int]\n",
    "    \n",
    "    f1_m_list = []\n",
    "    re_m_list = []\n",
    "    pre_m_list = []\n",
    "    \n",
    "    for i in type_c_int:\n",
    "        bi_ture = list(y_ture == i)\n",
    "        bi_pred = list(y_pred == i)\n",
    "        f1_m_results = f1_metric.compute(predictions=bi_pred, references=bi_ture, average=\"macro\")\n",
    "        re_m_results = re_metric.compute(predictions=bi_pred, references=bi_ture, average=\"macro\")\n",
    "        pre_m_results = pre_metric.compute(predictions=bi_pred, references=bi_ture, average=\"macro\")\n",
    "        \n",
    "        f1_m_list.append(f1_m_results[\"f1\"])\n",
    "        re_m_list.append(re_m_results[\"recall\"])\n",
    "        pre_m_list.append(pre_m_results[\"precision\"])\n",
    "        \n",
    "    data = {'Class_type':type_c_int,'F1-macro':f1_m_list,'Recall-macro':re_m_list,'Precision-macro':pre_m_list}\n",
    "    df = pd.DataFrame(data)\n",
    "    display(df)\n",
    "    \n",
    "    \n",
    "    z = confusion_matrix(y_ture, y_pred)\n",
    "    x_lab = type_c\n",
    "\n",
    "    fig = px.imshow(z, \n",
    "                    text_auto=True,\n",
    "                    labels=dict(x=\"True label\", y=\"Predicted label\", color=\"times\"),\n",
    "                    x=x_lab,\n",
    "                    y=x_lab)\n",
    "#     fig.show()\n",
    "    \n",
    "    return z,fig"
   ]
  },
  {
   "cell_type": "code",
   "execution_count": 3,
   "id": "85087547",
   "metadata": {
    "execution": {
     "iopub.execute_input": "2022-11-16T17:00:21.848374Z",
     "iopub.status.busy": "2022-11-16T17:00:21.847978Z",
     "iopub.status.idle": "2022-11-16T17:00:28.530407Z",
     "shell.execute_reply": "2022-11-16T17:00:28.528999Z"
    },
    "papermill": {
     "duration": 6.693442,
     "end_time": "2022-11-16T17:00:28.532965",
     "exception": false,
     "start_time": "2022-11-16T17:00:21.839523",
     "status": "completed"
    },
    "tags": []
   },
   "outputs": [
    {
     "data": {
      "application/vnd.jupyter.widget-view+json": {
       "model_id": "1f97fe73b34c4cdfba6ca30cb1f24cfc",
       "version_major": 2,
       "version_minor": 0
      },
      "text/plain": [
       "Downloading builder script:   0%|          | 0.00/2.06k [00:00<?, ?B/s]"
      ]
     },
     "metadata": {},
     "output_type": "display_data"
    },
    {
     "data": {
      "application/vnd.jupyter.widget-view+json": {
       "model_id": "eb0f71f3cf974e14aa5725a055a00674",
       "version_major": 2,
       "version_minor": 0
      },
      "text/plain": [
       "Downloading builder script:   0%|          | 0.00/2.21k [00:00<?, ?B/s]"
      ]
     },
     "metadata": {},
     "output_type": "display_data"
    },
    {
     "data": {
      "application/vnd.jupyter.widget-view+json": {
       "model_id": "81377896893d4dd0b1d0a17985a81030",
       "version_major": 2,
       "version_minor": 0
      },
      "text/plain": [
       "Downloading builder script:   0%|          | 0.00/2.20k [00:00<?, ?B/s]"
      ]
     },
     "metadata": {},
     "output_type": "display_data"
    },
    {
     "data": {
      "text/html": [
       "<div>\n",
       "<style scoped>\n",
       "    .dataframe tbody tr th:only-of-type {\n",
       "        vertical-align: middle;\n",
       "    }\n",
       "\n",
       "    .dataframe tbody tr th {\n",
       "        vertical-align: top;\n",
       "    }\n",
       "\n",
       "    .dataframe thead th {\n",
       "        text-align: right;\n",
       "    }\n",
       "</style>\n",
       "<table border=\"1\" class=\"dataframe\">\n",
       "  <thead>\n",
       "    <tr style=\"text-align: right;\">\n",
       "      <th></th>\n",
       "      <th>Class_type</th>\n",
       "      <th>F1-macro</th>\n",
       "      <th>Recall-macro</th>\n",
       "      <th>Precision-macro</th>\n",
       "    </tr>\n",
       "  </thead>\n",
       "  <tbody>\n",
       "    <tr>\n",
       "      <th>0</th>\n",
       "      <td>1</td>\n",
       "      <td>0.625</td>\n",
       "      <td>0.666667</td>\n",
       "      <td>0.800000</td>\n",
       "    </tr>\n",
       "    <tr>\n",
       "      <th>1</th>\n",
       "      <td>2</td>\n",
       "      <td>0.250</td>\n",
       "      <td>0.250000</td>\n",
       "      <td>0.250000</td>\n",
       "    </tr>\n",
       "    <tr>\n",
       "      <th>2</th>\n",
       "      <td>3</td>\n",
       "      <td>0.625</td>\n",
       "      <td>0.800000</td>\n",
       "      <td>0.666667</td>\n",
       "    </tr>\n",
       "  </tbody>\n",
       "</table>\n",
       "</div>"
      ],
      "text/plain": [
       "   Class_type  F1-macro  Recall-macro  Precision-macro\n",
       "0           1     0.625      0.666667         0.800000\n",
       "1           2     0.250      0.250000         0.250000\n",
       "2           3     0.625      0.800000         0.666667"
      ]
     },
     "metadata": {},
     "output_type": "display_data"
    },
    {
     "data": {
      "text/html": [
       "        <script type=\"text/javascript\">\n",
       "        window.PlotlyConfig = {MathJaxConfig: 'local'};\n",
       "        if (window.MathJax && window.MathJax.Hub && window.MathJax.Hub.Config) {window.MathJax.Hub.Config({SVG: {font: \"STIX-Web\"}});}\n",
       "        if (typeof require !== 'undefined') {\n",
       "        require.undef(\"plotly\");\n",
       "        requirejs.config({\n",
       "            paths: {\n",
       "                'plotly': ['https://cdn.plot.ly/plotly-2.14.0.min']\n",
       "            }\n",
       "        });\n",
       "        require(['plotly'], function(Plotly) {\n",
       "            window._Plotly = Plotly;\n",
       "        });\n",
       "        }\n",
       "        </script>\n",
       "        "
      ]
     },
     "metadata": {},
     "output_type": "display_data"
    },
    {
     "data": {
      "text/html": [
       "<div>                            <div id=\"c823713e-6207-4c71-b780-6d998600eab9\" class=\"plotly-graph-div\" style=\"height:525px; width:100%;\"></div>            <script type=\"text/javascript\">                require([\"plotly\"], function(Plotly) {                    window.PLOTLYENV=window.PLOTLYENV || {};                                    if (document.getElementById(\"c823713e-6207-4c71-b780-6d998600eab9\")) {                    Plotly.newPlot(                        \"c823713e-6207-4c71-b780-6d998600eab9\",                        [{\"coloraxis\":\"coloraxis\",\"name\":\"0\",\"texttemplate\":\"%{z}\",\"x\":[\"1\",\"2\",\"3\"],\"y\":[\"1\",\"2\",\"3\"],\"z\":[[1,2,0],[0,0,2],[0,0,1]],\"type\":\"heatmap\",\"xaxis\":\"x\",\"yaxis\":\"y\",\"hovertemplate\":\"True label: %{x}<br>Predicted label: %{y}<br>times: %{z}<extra></extra>\"}],                        {\"template\":{\"data\":{\"histogram2dcontour\":[{\"type\":\"histogram2dcontour\",\"colorbar\":{\"outlinewidth\":0,\"ticks\":\"\"},\"colorscale\":[[0.0,\"#0d0887\"],[0.1111111111111111,\"#46039f\"],[0.2222222222222222,\"#7201a8\"],[0.3333333333333333,\"#9c179e\"],[0.4444444444444444,\"#bd3786\"],[0.5555555555555556,\"#d8576b\"],[0.6666666666666666,\"#ed7953\"],[0.7777777777777778,\"#fb9f3a\"],[0.8888888888888888,\"#fdca26\"],[1.0,\"#f0f921\"]]}],\"choropleth\":[{\"type\":\"choropleth\",\"colorbar\":{\"outlinewidth\":0,\"ticks\":\"\"}}],\"histogram2d\":[{\"type\":\"histogram2d\",\"colorbar\":{\"outlinewidth\":0,\"ticks\":\"\"},\"colorscale\":[[0.0,\"#0d0887\"],[0.1111111111111111,\"#46039f\"],[0.2222222222222222,\"#7201a8\"],[0.3333333333333333,\"#9c179e\"],[0.4444444444444444,\"#bd3786\"],[0.5555555555555556,\"#d8576b\"],[0.6666666666666666,\"#ed7953\"],[0.7777777777777778,\"#fb9f3a\"],[0.8888888888888888,\"#fdca26\"],[1.0,\"#f0f921\"]]}],\"heatmap\":[{\"type\":\"heatmap\",\"colorbar\":{\"outlinewidth\":0,\"ticks\":\"\"},\"colorscale\":[[0.0,\"#0d0887\"],[0.1111111111111111,\"#46039f\"],[0.2222222222222222,\"#7201a8\"],[0.3333333333333333,\"#9c179e\"],[0.4444444444444444,\"#bd3786\"],[0.5555555555555556,\"#d8576b\"],[0.6666666666666666,\"#ed7953\"],[0.7777777777777778,\"#fb9f3a\"],[0.8888888888888888,\"#fdca26\"],[1.0,\"#f0f921\"]]}],\"heatmapgl\":[{\"type\":\"heatmapgl\",\"colorbar\":{\"outlinewidth\":0,\"ticks\":\"\"},\"colorscale\":[[0.0,\"#0d0887\"],[0.1111111111111111,\"#46039f\"],[0.2222222222222222,\"#7201a8\"],[0.3333333333333333,\"#9c179e\"],[0.4444444444444444,\"#bd3786\"],[0.5555555555555556,\"#d8576b\"],[0.6666666666666666,\"#ed7953\"],[0.7777777777777778,\"#fb9f3a\"],[0.8888888888888888,\"#fdca26\"],[1.0,\"#f0f921\"]]}],\"contourcarpet\":[{\"type\":\"contourcarpet\",\"colorbar\":{\"outlinewidth\":0,\"ticks\":\"\"}}],\"contour\":[{\"type\":\"contour\",\"colorbar\":{\"outlinewidth\":0,\"ticks\":\"\"},\"colorscale\":[[0.0,\"#0d0887\"],[0.1111111111111111,\"#46039f\"],[0.2222222222222222,\"#7201a8\"],[0.3333333333333333,\"#9c179e\"],[0.4444444444444444,\"#bd3786\"],[0.5555555555555556,\"#d8576b\"],[0.6666666666666666,\"#ed7953\"],[0.7777777777777778,\"#fb9f3a\"],[0.8888888888888888,\"#fdca26\"],[1.0,\"#f0f921\"]]}],\"surface\":[{\"type\":\"surface\",\"colorbar\":{\"outlinewidth\":0,\"ticks\":\"\"},\"colorscale\":[[0.0,\"#0d0887\"],[0.1111111111111111,\"#46039f\"],[0.2222222222222222,\"#7201a8\"],[0.3333333333333333,\"#9c179e\"],[0.4444444444444444,\"#bd3786\"],[0.5555555555555556,\"#d8576b\"],[0.6666666666666666,\"#ed7953\"],[0.7777777777777778,\"#fb9f3a\"],[0.8888888888888888,\"#fdca26\"],[1.0,\"#f0f921\"]]}],\"mesh3d\":[{\"type\":\"mesh3d\",\"colorbar\":{\"outlinewidth\":0,\"ticks\":\"\"}}],\"scatter\":[{\"fillpattern\":{\"fillmode\":\"overlay\",\"size\":10,\"solidity\":0.2},\"type\":\"scatter\"}],\"parcoords\":[{\"type\":\"parcoords\",\"line\":{\"colorbar\":{\"outlinewidth\":0,\"ticks\":\"\"}}}],\"scatterpolargl\":[{\"type\":\"scatterpolargl\",\"marker\":{\"colorbar\":{\"outlinewidth\":0,\"ticks\":\"\"}}}],\"bar\":[{\"error_x\":{\"color\":\"#2a3f5f\"},\"error_y\":{\"color\":\"#2a3f5f\"},\"marker\":{\"line\":{\"color\":\"#E5ECF6\",\"width\":0.5},\"pattern\":{\"fillmode\":\"overlay\",\"size\":10,\"solidity\":0.2}},\"type\":\"bar\"}],\"scattergeo\":[{\"type\":\"scattergeo\",\"marker\":{\"colorbar\":{\"outlinewidth\":0,\"ticks\":\"\"}}}],\"scatterpolar\":[{\"type\":\"scatterpolar\",\"marker\":{\"colorbar\":{\"outlinewidth\":0,\"ticks\":\"\"}}}],\"histogram\":[{\"marker\":{\"pattern\":{\"fillmode\":\"overlay\",\"size\":10,\"solidity\":0.2}},\"type\":\"histogram\"}],\"scattergl\":[{\"type\":\"scattergl\",\"marker\":{\"colorbar\":{\"outlinewidth\":0,\"ticks\":\"\"}}}],\"scatter3d\":[{\"type\":\"scatter3d\",\"line\":{\"colorbar\":{\"outlinewidth\":0,\"ticks\":\"\"}},\"marker\":{\"colorbar\":{\"outlinewidth\":0,\"ticks\":\"\"}}}],\"scattermapbox\":[{\"type\":\"scattermapbox\",\"marker\":{\"colorbar\":{\"outlinewidth\":0,\"ticks\":\"\"}}}],\"scatterternary\":[{\"type\":\"scatterternary\",\"marker\":{\"colorbar\":{\"outlinewidth\":0,\"ticks\":\"\"}}}],\"scattercarpet\":[{\"type\":\"scattercarpet\",\"marker\":{\"colorbar\":{\"outlinewidth\":0,\"ticks\":\"\"}}}],\"carpet\":[{\"aaxis\":{\"endlinecolor\":\"#2a3f5f\",\"gridcolor\":\"white\",\"linecolor\":\"white\",\"minorgridcolor\":\"white\",\"startlinecolor\":\"#2a3f5f\"},\"baxis\":{\"endlinecolor\":\"#2a3f5f\",\"gridcolor\":\"white\",\"linecolor\":\"white\",\"minorgridcolor\":\"white\",\"startlinecolor\":\"#2a3f5f\"},\"type\":\"carpet\"}],\"table\":[{\"cells\":{\"fill\":{\"color\":\"#EBF0F8\"},\"line\":{\"color\":\"white\"}},\"header\":{\"fill\":{\"color\":\"#C8D4E3\"},\"line\":{\"color\":\"white\"}},\"type\":\"table\"}],\"barpolar\":[{\"marker\":{\"line\":{\"color\":\"#E5ECF6\",\"width\":0.5},\"pattern\":{\"fillmode\":\"overlay\",\"size\":10,\"solidity\":0.2}},\"type\":\"barpolar\"}],\"pie\":[{\"automargin\":true,\"type\":\"pie\"}]},\"layout\":{\"autotypenumbers\":\"strict\",\"colorway\":[\"#636efa\",\"#EF553B\",\"#00cc96\",\"#ab63fa\",\"#FFA15A\",\"#19d3f3\",\"#FF6692\",\"#B6E880\",\"#FF97FF\",\"#FECB52\"],\"font\":{\"color\":\"#2a3f5f\"},\"hovermode\":\"closest\",\"hoverlabel\":{\"align\":\"left\"},\"paper_bgcolor\":\"white\",\"plot_bgcolor\":\"#E5ECF6\",\"polar\":{\"bgcolor\":\"#E5ECF6\",\"angularaxis\":{\"gridcolor\":\"white\",\"linecolor\":\"white\",\"ticks\":\"\"},\"radialaxis\":{\"gridcolor\":\"white\",\"linecolor\":\"white\",\"ticks\":\"\"}},\"ternary\":{\"bgcolor\":\"#E5ECF6\",\"aaxis\":{\"gridcolor\":\"white\",\"linecolor\":\"white\",\"ticks\":\"\"},\"baxis\":{\"gridcolor\":\"white\",\"linecolor\":\"white\",\"ticks\":\"\"},\"caxis\":{\"gridcolor\":\"white\",\"linecolor\":\"white\",\"ticks\":\"\"}},\"coloraxis\":{\"colorbar\":{\"outlinewidth\":0,\"ticks\":\"\"}},\"colorscale\":{\"sequential\":[[0.0,\"#0d0887\"],[0.1111111111111111,\"#46039f\"],[0.2222222222222222,\"#7201a8\"],[0.3333333333333333,\"#9c179e\"],[0.4444444444444444,\"#bd3786\"],[0.5555555555555556,\"#d8576b\"],[0.6666666666666666,\"#ed7953\"],[0.7777777777777778,\"#fb9f3a\"],[0.8888888888888888,\"#fdca26\"],[1.0,\"#f0f921\"]],\"sequentialminus\":[[0.0,\"#0d0887\"],[0.1111111111111111,\"#46039f\"],[0.2222222222222222,\"#7201a8\"],[0.3333333333333333,\"#9c179e\"],[0.4444444444444444,\"#bd3786\"],[0.5555555555555556,\"#d8576b\"],[0.6666666666666666,\"#ed7953\"],[0.7777777777777778,\"#fb9f3a\"],[0.8888888888888888,\"#fdca26\"],[1.0,\"#f0f921\"]],\"diverging\":[[0,\"#8e0152\"],[0.1,\"#c51b7d\"],[0.2,\"#de77ae\"],[0.3,\"#f1b6da\"],[0.4,\"#fde0ef\"],[0.5,\"#f7f7f7\"],[0.6,\"#e6f5d0\"],[0.7,\"#b8e186\"],[0.8,\"#7fbc41\"],[0.9,\"#4d9221\"],[1,\"#276419\"]]},\"xaxis\":{\"gridcolor\":\"white\",\"linecolor\":\"white\",\"ticks\":\"\",\"title\":{\"standoff\":15},\"zerolinecolor\":\"white\",\"automargin\":true,\"zerolinewidth\":2},\"yaxis\":{\"gridcolor\":\"white\",\"linecolor\":\"white\",\"ticks\":\"\",\"title\":{\"standoff\":15},\"zerolinecolor\":\"white\",\"automargin\":true,\"zerolinewidth\":2},\"scene\":{\"xaxis\":{\"backgroundcolor\":\"#E5ECF6\",\"gridcolor\":\"white\",\"linecolor\":\"white\",\"showbackground\":true,\"ticks\":\"\",\"zerolinecolor\":\"white\",\"gridwidth\":2},\"yaxis\":{\"backgroundcolor\":\"#E5ECF6\",\"gridcolor\":\"white\",\"linecolor\":\"white\",\"showbackground\":true,\"ticks\":\"\",\"zerolinecolor\":\"white\",\"gridwidth\":2},\"zaxis\":{\"backgroundcolor\":\"#E5ECF6\",\"gridcolor\":\"white\",\"linecolor\":\"white\",\"showbackground\":true,\"ticks\":\"\",\"zerolinecolor\":\"white\",\"gridwidth\":2}},\"shapedefaults\":{\"line\":{\"color\":\"#2a3f5f\"}},\"annotationdefaults\":{\"arrowcolor\":\"#2a3f5f\",\"arrowhead\":0,\"arrowwidth\":1},\"geo\":{\"bgcolor\":\"white\",\"landcolor\":\"#E5ECF6\",\"subunitcolor\":\"white\",\"showland\":true,\"showlakes\":true,\"lakecolor\":\"white\"},\"title\":{\"x\":0.05},\"mapbox\":{\"style\":\"light\"}}},\"xaxis\":{\"anchor\":\"y\",\"domain\":[0.0,1.0],\"scaleanchor\":\"y\",\"constrain\":\"domain\",\"title\":{\"text\":\"True label\"}},\"yaxis\":{\"anchor\":\"x\",\"domain\":[0.0,1.0],\"autorange\":\"reversed\",\"constrain\":\"domain\",\"title\":{\"text\":\"Predicted label\"}},\"coloraxis\":{\"colorbar\":{\"title\":{\"text\":\"times\"}},\"colorscale\":[[0.0,\"#0d0887\"],[0.1111111111111111,\"#46039f\"],[0.2222222222222222,\"#7201a8\"],[0.3333333333333333,\"#9c179e\"],[0.4444444444444444,\"#bd3786\"],[0.5555555555555556,\"#d8576b\"],[0.6666666666666666,\"#ed7953\"],[0.7777777777777778,\"#fb9f3a\"],[0.8888888888888888,\"#fdca26\"],[1.0,\"#f0f921\"]]},\"margin\":{\"t\":60}},                        {\"responsive\": true}                    ).then(function(){\n",
       "                            \n",
       "var gd = document.getElementById('c823713e-6207-4c71-b780-6d998600eab9');\n",
       "var x = new MutationObserver(function (mutations, observer) {{\n",
       "        var display = window.getComputedStyle(gd).display;\n",
       "        if (!display || display === 'none') {{\n",
       "            console.log([gd, 'removed!']);\n",
       "            Plotly.purge(gd);\n",
       "            observer.disconnect();\n",
       "        }}\n",
       "}});\n",
       "\n",
       "// Listen for the removal of the full notebook cells\n",
       "var notebookContainer = gd.closest('#notebook-container');\n",
       "if (notebookContainer) {{\n",
       "    x.observe(notebookContainer, {childList: true});\n",
       "}}\n",
       "\n",
       "// Listen for the clearing of the current output cell\n",
       "var outputEl = gd.closest('.output');\n",
       "if (outputEl) {{\n",
       "    x.observe(outputEl, {childList: true});\n",
       "}}\n",
       "\n",
       "                        })                };                });            </script>        </div>"
      ]
     },
     "metadata": {},
     "output_type": "display_data"
    }
   ],
   "source": [
    "# testing\n",
    "cf_matrix_test,figure_test = performance([1,3,1,2,2,1],[2,3,1,3,3,2])\n",
    "figure_test.show()"
   ]
  },
  {
   "cell_type": "markdown",
   "id": "9321006a",
   "metadata": {
    "papermill": {
     "duration": 0.006493,
     "end_time": "2022-11-16T17:00:28.546706",
     "exception": false,
     "start_time": "2022-11-16T17:00:28.540213",
     "status": "completed"
    },
    "tags": []
   },
   "source": [
    "# Loading the data for use"
   ]
  },
  {
   "cell_type": "code",
   "execution_count": 4,
   "id": "1482ed39",
   "metadata": {
    "execution": {
     "iopub.execute_input": "2022-11-16T17:00:28.562280Z",
     "iopub.status.busy": "2022-11-16T17:00:28.561842Z",
     "iopub.status.idle": "2022-11-16T17:00:55.708256Z",
     "shell.execute_reply": "2022-11-16T17:00:55.706888Z"
    },
    "papermill": {
     "duration": 27.157591,
     "end_time": "2022-11-16T17:00:55.711093",
     "exception": false,
     "start_time": "2022-11-16T17:00:28.553502",
     "status": "completed"
    },
    "tags": []
   },
   "outputs": [
    {
     "name": "stdout",
     "output_type": "stream",
     "text": [
      "Collecting sentence-transformers\r\n",
      "  Downloading sentence-transformers-2.2.2.tar.gz (85 kB)\r\n",
      "\u001b[2K     \u001b[90m━━━━━━━━━━━━━━━━━━━━━━━━━━━━━━━━━━━━━━━\u001b[0m \u001b[32m86.0/86.0 kB\u001b[0m \u001b[31m334.8 kB/s\u001b[0m eta \u001b[36m0:00:00\u001b[0m\r\n",
      "\u001b[?25h  Preparing metadata (setup.py) ... \u001b[?25l-\b \bdone\r\n",
      "\u001b[?25hRequirement already satisfied: transformers<5.0.0,>=4.6.0 in /opt/conda/lib/python3.7/site-packages (from sentence-transformers) (4.20.1)\r\n",
      "Requirement already satisfied: tqdm in /opt/conda/lib/python3.7/site-packages (from sentence-transformers) (4.64.0)\r\n",
      "Requirement already satisfied: torch>=1.6.0 in /opt/conda/lib/python3.7/site-packages (from sentence-transformers) (1.11.0+cpu)\r\n",
      "Requirement already satisfied: torchvision in /opt/conda/lib/python3.7/site-packages (from sentence-transformers) (0.12.0+cpu)\r\n",
      "Requirement already satisfied: numpy in /opt/conda/lib/python3.7/site-packages (from sentence-transformers) (1.21.6)\r\n",
      "Requirement already satisfied: scikit-learn in /opt/conda/lib/python3.7/site-packages (from sentence-transformers) (1.0.2)\r\n",
      "Requirement already satisfied: scipy in /opt/conda/lib/python3.7/site-packages (from sentence-transformers) (1.7.3)\r\n",
      "Requirement already satisfied: nltk in /opt/conda/lib/python3.7/site-packages (from sentence-transformers) (3.7)\r\n",
      "Requirement already satisfied: sentencepiece in /opt/conda/lib/python3.7/site-packages (from sentence-transformers) (0.1.97)\r\n",
      "Requirement already satisfied: huggingface-hub>=0.4.0 in /opt/conda/lib/python3.7/site-packages (from sentence-transformers) (0.10.1)\r\n",
      "Requirement already satisfied: filelock in /opt/conda/lib/python3.7/site-packages (from huggingface-hub>=0.4.0->sentence-transformers) (3.7.1)\r\n",
      "Requirement already satisfied: requests in /opt/conda/lib/python3.7/site-packages (from huggingface-hub>=0.4.0->sentence-transformers) (2.28.1)\r\n",
      "Requirement already satisfied: importlib-metadata in /opt/conda/lib/python3.7/site-packages (from huggingface-hub>=0.4.0->sentence-transformers) (4.13.0)\r\n",
      "Requirement already satisfied: packaging>=20.9 in /opt/conda/lib/python3.7/site-packages (from huggingface-hub>=0.4.0->sentence-transformers) (21.3)\r\n",
      "Requirement already satisfied: typing-extensions>=3.7.4.3 in /opt/conda/lib/python3.7/site-packages (from huggingface-hub>=0.4.0->sentence-transformers) (4.4.0)\r\n",
      "Requirement already satisfied: pyyaml>=5.1 in /opt/conda/lib/python3.7/site-packages (from huggingface-hub>=0.4.0->sentence-transformers) (6.0)\r\n",
      "Requirement already satisfied: regex!=2019.12.17 in /opt/conda/lib/python3.7/site-packages (from transformers<5.0.0,>=4.6.0->sentence-transformers) (2021.11.10)\r\n",
      "Requirement already satisfied: tokenizers!=0.11.3,<0.13,>=0.11.1 in /opt/conda/lib/python3.7/site-packages (from transformers<5.0.0,>=4.6.0->sentence-transformers) (0.12.1)\r\n",
      "Requirement already satisfied: click in /opt/conda/lib/python3.7/site-packages (from nltk->sentence-transformers) (8.0.4)\r\n",
      "Requirement already satisfied: joblib in /opt/conda/lib/python3.7/site-packages (from nltk->sentence-transformers) (1.0.1)\r\n",
      "Requirement already satisfied: threadpoolctl>=2.0.0 in /opt/conda/lib/python3.7/site-packages (from scikit-learn->sentence-transformers) (3.1.0)\r\n",
      "Requirement already satisfied: pillow!=8.3.*,>=5.3.0 in /opt/conda/lib/python3.7/site-packages (from torchvision->sentence-transformers) (9.1.1)\r\n",
      "Requirement already satisfied: pyparsing!=3.0.5,>=2.0.2 in /opt/conda/lib/python3.7/site-packages (from packaging>=20.9->huggingface-hub>=0.4.0->sentence-transformers) (3.0.9)\r\n",
      "Requirement already satisfied: zipp>=0.5 in /opt/conda/lib/python3.7/site-packages (from importlib-metadata->huggingface-hub>=0.4.0->sentence-transformers) (3.8.0)\r\n",
      "Requirement already satisfied: urllib3<1.27,>=1.21.1 in /opt/conda/lib/python3.7/site-packages (from requests->huggingface-hub>=0.4.0->sentence-transformers) (1.26.12)\r\n",
      "Requirement already satisfied: idna<4,>=2.5 in /opt/conda/lib/python3.7/site-packages (from requests->huggingface-hub>=0.4.0->sentence-transformers) (3.3)\r\n",
      "Requirement already satisfied: certifi>=2017.4.17 in /opt/conda/lib/python3.7/site-packages (from requests->huggingface-hub>=0.4.0->sentence-transformers) (2022.9.24)\r\n",
      "Requirement already satisfied: charset-normalizer<3,>=2 in /opt/conda/lib/python3.7/site-packages (from requests->huggingface-hub>=0.4.0->sentence-transformers) (2.1.0)\r\n",
      "Building wheels for collected packages: sentence-transformers\r\n",
      "  Building wheel for sentence-transformers (setup.py) ... \u001b[?25l-\b \b\\\b \b|\b \bdone\r\n",
      "\u001b[?25h  Created wheel for sentence-transformers: filename=sentence_transformers-2.2.2-py3-none-any.whl size=125938 sha256=c9dc03b515c9275ca900d7797a3acef298a5cafd8e96b4e06bef1a5bc5825fce\r\n",
      "  Stored in directory: /root/.cache/pip/wheels/bf/06/fb/d59c1e5bd1dac7f6cf61ec0036cc3a10ab8fecaa6b2c3d3ee9\r\n",
      "Successfully built sentence-transformers\r\n",
      "Installing collected packages: sentence-transformers\r\n",
      "Successfully installed sentence-transformers-2.2.2\r\n",
      "\u001b[33mWARNING: Running pip as the 'root' user can result in broken permissions and conflicting behaviour with the system package manager. It is recommended to use a virtual environment instead: https://pip.pypa.io/warnings/venv\u001b[0m\u001b[33m\r\n",
      "\u001b[0mRequirement already satisfied: openpyxl in /opt/conda/lib/python3.7/site-packages (3.0.10)\r\n",
      "Requirement already satisfied: et-xmlfile in /opt/conda/lib/python3.7/site-packages (from openpyxl) (1.1.0)\r\n",
      "\u001b[33mWARNING: Running pip as the 'root' user can result in broken permissions and conflicting behaviour with the system package manager. It is recommended to use a virtual environment instead: https://pip.pypa.io/warnings/venv\u001b[0m\u001b[33m\r\n",
      "\u001b[0m"
     ]
    }
   ],
   "source": [
    "!pip install -U sentence-transformers\n",
    "!pip install openpyxl"
   ]
  },
  {
   "cell_type": "code",
   "execution_count": 5,
   "id": "8d518ef9",
   "metadata": {
    "execution": {
     "iopub.execute_input": "2022-11-16T17:00:55.732287Z",
     "iopub.status.busy": "2022-11-16T17:00:55.731834Z",
     "iopub.status.idle": "2022-11-16T17:00:55.737826Z",
     "shell.execute_reply": "2022-11-16T17:00:55.736583Z"
    },
    "papermill": {
     "duration": 0.018598,
     "end_time": "2022-11-16T17:00:55.739946",
     "exception": false,
     "start_time": "2022-11-16T17:00:55.721348",
     "status": "completed"
    },
    "tags": []
   },
   "outputs": [],
   "source": [
    "from copy import deepcopy\n",
    "from random import randint,shuffle"
   ]
  },
  {
   "cell_type": "code",
   "execution_count": 6,
   "id": "6f1d538a",
   "metadata": {
    "execution": {
     "iopub.execute_input": "2022-11-16T17:00:55.759024Z",
     "iopub.status.busy": "2022-11-16T17:00:55.758630Z",
     "iopub.status.idle": "2022-11-16T17:00:55.765217Z",
     "shell.execute_reply": "2022-11-16T17:00:55.764079Z"
    },
    "papermill": {
     "duration": 0.018786,
     "end_time": "2022-11-16T17:00:55.767403",
     "exception": false,
     "start_time": "2022-11-16T17:00:55.748617",
     "status": "completed"
    },
    "tags": []
   },
   "outputs": [],
   "source": [
    "def read_and_split_the_excel(QA_path):\n",
    "    \"\"\"\n",
    "    :func: 根据xlsx文件获取问题list和答案list（需要更新openyxl）\n",
    "    :param path: 文件路径\n",
    "    :return: 问题list，答案list\n",
    "    \"\"\"\n",
    "    # 读取文件\n",
    "    df1 = pd.read_excel(QA_path)\n",
    "    # 分开\n",
    "    question_list = df1.iloc[:,0].tolist()\n",
    "    answer_list = df1.iloc[:,1].tolist()\n",
    "    # 返回\n",
    "    return question_list,answer_list"
   ]
  },
  {
   "cell_type": "code",
   "execution_count": 7,
   "id": "9ba13adf",
   "metadata": {
    "execution": {
     "iopub.execute_input": "2022-11-16T17:00:55.793058Z",
     "iopub.status.busy": "2022-11-16T17:00:55.792178Z",
     "iopub.status.idle": "2022-11-16T17:00:56.188035Z",
     "shell.execute_reply": "2022-11-16T17:00:56.186782Z"
    },
    "papermill": {
     "duration": 0.412307,
     "end_time": "2022-11-16T17:00:56.190561",
     "exception": false,
     "start_time": "2022-11-16T17:00:55.778254",
     "status": "completed"
    },
    "tags": []
   },
   "outputs": [
    {
     "data": {
      "text/plain": [
       "['UIC的办学性质是什么？', '学校现在有多少在校生？', 'UIC的全称是什么？']"
      ]
     },
     "metadata": {},
     "output_type": "display_data"
    }
   ],
   "source": [
    "# 测试read_and_split_the_excel\n",
    "question_list,answer_list = read_and_split_the_excel(\"../input/uic-cn-admission/CN_QA_dataset_all.xlsx\")\n",
    "display(question_list[:3])"
   ]
  },
  {
   "cell_type": "code",
   "execution_count": 8,
   "id": "eced8c76",
   "metadata": {
    "execution": {
     "iopub.execute_input": "2022-11-16T17:00:56.209472Z",
     "iopub.status.busy": "2022-11-16T17:00:56.209070Z",
     "iopub.status.idle": "2022-11-16T17:00:56.215901Z",
     "shell.execute_reply": "2022-11-16T17:00:56.214458Z"
    },
    "papermill": {
     "duration": 0.019379,
     "end_time": "2022-11-16T17:00:56.218517",
     "exception": false,
     "start_time": "2022-11-16T17:00:56.199138",
     "status": "completed"
    },
    "tags": []
   },
   "outputs": [],
   "source": [
    "def read_and_split_the_01(zero_one_path):\n",
    "    \"\"\"\n",
    "    :func: 根据xlsx文件获取原始list和测试list和label\n",
    "    :param path: 文件路径\n",
    "    :return: 问题list，答案list\n",
    "    \"\"\"\n",
    "    # 读取文件\n",
    "    df1 = pd.read_csv(zero_one_path)\n",
    "    # 分开\n",
    "    Sen1_list = df1.iloc[:,0].tolist()\n",
    "    Sen2_list = df1.iloc[:,1].tolist()\n",
    "    label_list = df1.iloc[:,2].tolist()\n",
    "    # 返回\n",
    "    return Sen1_list,Sen2_list,label_list"
   ]
  },
  {
   "cell_type": "code",
   "execution_count": 9,
   "id": "23d8e7c6",
   "metadata": {
    "execution": {
     "iopub.execute_input": "2022-11-16T17:00:56.237875Z",
     "iopub.status.busy": "2022-11-16T17:00:56.237051Z",
     "iopub.status.idle": "2022-11-16T17:00:56.279958Z",
     "shell.execute_reply": "2022-11-16T17:00:56.278894Z"
    },
    "papermill": {
     "duration": 0.055165,
     "end_time": "2022-11-16T17:00:56.282379",
     "exception": false,
     "start_time": "2022-11-16T17:00:56.227214",
     "status": "completed"
    },
    "tags": []
   },
   "outputs": [
    {
     "data": {
      "text/plain": [
       "['UIC的办学性质是什么？', '学校现在有多少在校生？', '北师港浸大的全称是什么？']"
      ]
     },
     "metadata": {},
     "output_type": "display_data"
    },
    {
     "data": {
      "text/plain": [
       "['UIC的业务性质是什么？', '目前有多少学生在学校就读？', '北师大香港浸会大学的全称是什么？']"
      ]
     },
     "metadata": {},
     "output_type": "display_data"
    },
    {
     "data": {
      "text/plain": [
       "[1, 1, 1]"
      ]
     },
     "metadata": {},
     "output_type": "display_data"
    }
   ],
   "source": [
    "# 测试read_and_split_the_excel\n",
    "Sen1_list, Sen2_list, label_list = read_and_split_the_01(\"../input/01-uic-rm-dup/01_all_rm_dup.csv\")\n",
    "display(Sen1_list[:3])\n",
    "display(Sen2_list[:3])\n",
    "display(label_list[:3])"
   ]
  },
  {
   "cell_type": "code",
   "execution_count": 10,
   "id": "e0e0a83b",
   "metadata": {
    "execution": {
     "iopub.execute_input": "2022-11-16T17:00:56.301753Z",
     "iopub.status.busy": "2022-11-16T17:00:56.301293Z",
     "iopub.status.idle": "2022-11-16T17:00:56.309106Z",
     "shell.execute_reply": "2022-11-16T17:00:56.307940Z"
    },
    "papermill": {
     "duration": 0.020047,
     "end_time": "2022-11-16T17:00:56.311256",
     "exception": false,
     "start_time": "2022-11-16T17:00:56.291209",
     "status": "completed"
    },
    "tags": []
   },
   "outputs": [],
   "source": [
    "def shuffle_without_repeated(list_):\n",
    "    temp_list = deepcopy(list_)\n",
    "    m = len(temp_list)\n",
    "    m = m-1\n",
    "    for i_current in range(m,1,-1):\n",
    "        rest = i_current - 1\n",
    "        i_replace = randint(0, rest)\n",
    "#         print(i_current)\n",
    "#         print(i_replace)\n",
    "        temp_list[i_current], temp_list[i_replace] = temp_list[i_replace], temp_list[i_current]\n",
    "    return temp_list\n",
    "    \n",
    "def obtain_shuffle_01(ori_list):\n",
    "    shuffle_q_list = shuffle_without_repeated(ori_list)\n",
    "    \n",
    "    shuffle_label_list = [0]*len(shuffle_q_list)\n",
    "    \n",
    "    return ori_list,shuffle_q_list,shuffle_label_list"
   ]
  },
  {
   "cell_type": "code",
   "execution_count": 11,
   "id": "0c0f4683",
   "metadata": {
    "execution": {
     "iopub.execute_input": "2022-11-16T17:00:56.330520Z",
     "iopub.status.busy": "2022-11-16T17:00:56.330114Z",
     "iopub.status.idle": "2022-11-16T17:00:56.338010Z",
     "shell.execute_reply": "2022-11-16T17:00:56.336908Z"
    },
    "papermill": {
     "duration": 0.020094,
     "end_time": "2022-11-16T17:00:56.340166",
     "exception": false,
     "start_time": "2022-11-16T17:00:56.320072",
     "status": "completed"
    },
    "tags": []
   },
   "outputs": [
    {
     "data": {
      "text/plain": [
       "(['The cat sits outside',\n",
       "  'A man is playing guitar',\n",
       "  'The new movie is awesome',\n",
       "  'The new opera is nice'],\n",
       " ['The cat sits outside',\n",
       "  'The new opera is nice',\n",
       "  'A man is playing guitar',\n",
       "  'The new movie is awesome'],\n",
       " [0, 0, 0, 0])"
      ]
     },
     "execution_count": 11,
     "metadata": {},
     "output_type": "execute_result"
    }
   ],
   "source": [
    "# Test the shuffle\n",
    "question_list = ['The cat sits outside',\n",
    "      'A man is playing guitar',\n",
    "      'The new movie is awesome',\n",
    "      'The new opera is nice']\n",
    "obtain_shuffle_01(question_list)"
   ]
  },
  {
   "cell_type": "code",
   "execution_count": 12,
   "id": "02d9eef2",
   "metadata": {
    "execution": {
     "iopub.execute_input": "2022-11-16T17:00:56.359560Z",
     "iopub.status.busy": "2022-11-16T17:00:56.359152Z",
     "iopub.status.idle": "2022-11-16T17:00:56.367046Z",
     "shell.execute_reply": "2022-11-16T17:00:56.366005Z"
    },
    "papermill": {
     "duration": 0.020175,
     "end_time": "2022-11-16T17:00:56.369275",
     "exception": false,
     "start_time": "2022-11-16T17:00:56.349100",
     "status": "completed"
    },
    "tags": []
   },
   "outputs": [],
   "source": [
    "def read_qa_and_expand_training_set(QA_path, zero_one_path):\n",
    "    # get the qa_data\n",
    "    question_list,answer_list = read_and_split_the_excel(QA_path)\n",
    "    # get the 01_data\n",
    "    Sen1_list, Sen2_list, label_list = read_and_split_the_01(zero_one_path)\n",
    "    # get expand 01 data\n",
    "    ori_list,shuffle_q_list,shuffle_label_list = obtain_shuffle_01(question_list)\n",
    "    Sen1_list.extend(ori_list)\n",
    "    Sen2_list.extend(shuffle_q_list)\n",
    "    label_list.extend(shuffle_label_list)\n",
    "    \n",
    "    # get the index of Sen1_list corresponding to the question_list\n",
    "    question_list_index = range(len(question_list))\n",
    "    question_index_dict = dict(zip(question_list,question_list_index))\n",
    "    \n",
    "    Sen1_list_index = []\n",
    "    for i in Sen1_list:\n",
    "        Sen1_list_index.append(question_index_dict[i])\n",
    "        \n",
    "#     print(Sen1_list_index)\n",
    "    \n",
    "    return question_list,answer_list,Sen1_list,Sen1_list_index,Sen2_list,label_list"
   ]
  },
  {
   "cell_type": "code",
   "execution_count": 13,
   "id": "5a7bc444",
   "metadata": {
    "execution": {
     "iopub.execute_input": "2022-11-16T17:00:56.388474Z",
     "iopub.status.busy": "2022-11-16T17:00:56.388067Z",
     "iopub.status.idle": "2022-11-16T17:00:56.469554Z",
     "shell.execute_reply": "2022-11-16T17:00:56.468497Z"
    },
    "papermill": {
     "duration": 0.093851,
     "end_time": "2022-11-16T17:00:56.471945",
     "exception": false,
     "start_time": "2022-11-16T17:00:56.378094",
     "status": "completed"
    },
    "tags": []
   },
   "outputs": [
    {
     "data": {
      "text/plain": [
       "['UIC的办学性质是什么？', '学校现在有多少在校生？', 'UIC的全称是什么？']"
      ]
     },
     "metadata": {},
     "output_type": "display_data"
    },
    {
     "data": {
      "text/plain": [
       "['UIC是北京师范大学与香港浸会大学合作办学的一所博雅大学。',\n",
       " '截至2021年10月底，北师港浸大现有本科、硕士、博士在校生共8100余人。',\n",
       " 'UIC的全称是北京师范大学-香港浸会大学联合国际学院。']"
      ]
     },
     "metadata": {},
     "output_type": "display_data"
    },
    {
     "data": {
      "text/plain": [
       "['UIC的办学性质是什么？', '学校现在有多少在校生？', '北师港浸大的全称是什么？']"
      ]
     },
     "metadata": {},
     "output_type": "display_data"
    },
    {
     "data": {
      "text/plain": [
       "[0, 1, 3, 4, 6, 9, 10, 11, 12, 13]"
      ]
     },
     "metadata": {},
     "output_type": "display_data"
    },
    {
     "data": {
      "text/plain": [
       "['UIC的业务性质是什么？', '目前有多少学生在学校就读？', '北师大香港浸会大学的全称是什么？']"
      ]
     },
     "metadata": {},
     "output_type": "display_data"
    },
    {
     "data": {
      "text/plain": [
       "[1, 1, 1]"
      ]
     },
     "metadata": {},
     "output_type": "display_data"
    }
   ],
   "source": [
    "# Test for getting all the QA data and the zero_one data\n",
    "QA_path = \"../input/uic-cn-admission/CN_QA_dataset_all.xlsx\"\n",
    "zero_one_path = \"../input/01-uic-rm-dup/01_all_rm_dup.csv\"\n",
    "question_list,answer_list,Sen1_list,Sen1_list_index,Sen2_list,label_list = read_qa_and_expand_training_set(QA_path, zero_one_path)\n",
    "\n",
    "# display the sample result\n",
    "display(question_list[:3])\n",
    "display(answer_list[:3])\n",
    "display(Sen1_list[:3])\n",
    "display(Sen1_list_index[:10])\n",
    "display(Sen2_list[:3])\n",
    "display(label_list[:3])"
   ]
  },
  {
   "cell_type": "code",
   "execution_count": 14,
   "id": "73cf41b0",
   "metadata": {
    "execution": {
     "iopub.execute_input": "2022-11-16T17:00:56.492581Z",
     "iopub.status.busy": "2022-11-16T17:00:56.492203Z",
     "iopub.status.idle": "2022-11-16T17:00:58.536111Z",
     "shell.execute_reply": "2022-11-16T17:00:58.534878Z"
    },
    "papermill": {
     "duration": 2.057127,
     "end_time": "2022-11-16T17:00:58.538573",
     "exception": false,
     "start_time": "2022-11-16T17:00:56.481446",
     "status": "completed"
    },
    "tags": []
   },
   "outputs": [
    {
     "name": "stderr",
     "output_type": "stream",
     "text": [
      "Processing: 100%|██████████| 200/200 [00:02<00:00, 98.39it/s]\n"
     ]
    }
   ],
   "source": [
    "import time\n",
    "from tqdm import tqdm\n",
    "\n",
    "# test\n",
    "with tqdm(total=200) as pbar:\n",
    "    pbar.set_description('Processing')\n",
    "    # total表示总的项目, 循环的次数20*10(每次更新数目) = 200(total)\n",
    "    for i in range(20):\n",
    "        # 进行动作, 这里是过0.1s\n",
    "        time.sleep(0.1)\n",
    "        # 进行进度更新, 这里设置10个\n",
    "        pbar.update(10)"
   ]
  },
  {
   "cell_type": "markdown",
   "id": "c1f68a57",
   "metadata": {
    "papermill": {
     "duration": 0.010715,
     "end_time": "2022-11-16T17:00:58.560276",
     "exception": false,
     "start_time": "2022-11-16T17:00:58.549561",
     "status": "completed"
    },
    "tags": []
   },
   "source": [
    "# TF-IDF-test"
   ]
  },
  {
   "cell_type": "code",
   "execution_count": 15,
   "id": "8be776fa",
   "metadata": {
    "execution": {
     "iopub.execute_input": "2022-11-16T17:00:58.583979Z",
     "iopub.status.busy": "2022-11-16T17:00:58.583588Z",
     "iopub.status.idle": "2022-11-16T17:00:58.810873Z",
     "shell.execute_reply": "2022-11-16T17:00:58.809676Z"
    },
    "papermill": {
     "duration": 0.242413,
     "end_time": "2022-11-16T17:00:58.813634",
     "exception": false,
     "start_time": "2022-11-16T17:00:58.571221",
     "status": "completed"
    },
    "tags": []
   },
   "outputs": [],
   "source": [
    "import jieba\n",
    "import pandas as pd\n",
    "import numpy as np\n",
    "from gensim import corpora, models, similarities\n",
    "from termcolor import colored"
   ]
  },
  {
   "cell_type": "code",
   "execution_count": 16,
   "id": "ee3733b8",
   "metadata": {
    "execution": {
     "iopub.execute_input": "2022-11-16T17:00:58.837868Z",
     "iopub.status.busy": "2022-11-16T17:00:58.837400Z",
     "iopub.status.idle": "2022-11-16T17:00:58.845594Z",
     "shell.execute_reply": "2022-11-16T17:00:58.844394Z"
    },
    "papermill": {
     "duration": 0.023029,
     "end_time": "2022-11-16T17:00:58.848057",
     "exception": false,
     "start_time": "2022-11-16T17:00:58.825028",
     "status": "completed"
    },
    "tags": []
   },
   "outputs": [],
   "source": [
    "def read_and_split_the_excel(path):\n",
    "    \"\"\"\n",
    "    :func: 根据xlsx文件获取问题list和答案list（需要更新openyxl）\n",
    "    :param path: 文件路径\n",
    "    :return: 问题list，答案list\n",
    "    \"\"\"\n",
    "    # 读取文件\n",
    "    df1 = pd.read_excel(path)\n",
    "    # 分开\n",
    "    question_list = df1.iloc[:,0].tolist()\n",
    "    answer_list = df1.iloc[:,1].tolist()\n",
    "    # 返回\n",
    "    return question_list,answer_list\n",
    "\n",
    "# # 测试read_and_split_the_excel\n",
    "# question_list,answer_list = read_and_split_the_excel(\"./dataset/CN_QA_dataset_all.xlsx\")\n",
    "# print(question_list[:3])\n",
    "\n",
    "# 导入停用词表\n",
    "def obtain_stop_word(path):\n",
    "    \"\"\"\n",
    "    :func: 获取stop_word\n",
    "    :param path: 文件路径\n",
    "    :return: 返回stop_word list\n",
    "    \"\"\"\n",
    "    stop_words = [line.strip() for line in open(path).readlines()]\n",
    "    stop_words.extend([\"\",\" \"])\n",
    "    return stop_words\n",
    "# # obtain stop word 代码测试\n",
    "# # 使用的是cn_stopwords，在kaggle搜索哈工大第一个\n",
    "# path = './dataset/cn_stopwords.txt'\n",
    "# stop_words = obtain_stop_word(path)\n",
    "# print(stop_words[:25])"
   ]
  },
  {
   "cell_type": "code",
   "execution_count": 17,
   "id": "7875a77a",
   "metadata": {
    "execution": {
     "iopub.execute_input": "2022-11-16T17:00:58.871837Z",
     "iopub.status.busy": "2022-11-16T17:00:58.871379Z",
     "iopub.status.idle": "2022-11-16T17:00:58.880956Z",
     "shell.execute_reply": "2022-11-16T17:00:58.879713Z"
    },
    "papermill": {
     "duration": 0.024353,
     "end_time": "2022-11-16T17:00:58.883428",
     "exception": false,
     "start_time": "2022-11-16T17:00:58.859075",
     "status": "completed"
    },
    "tags": []
   },
   "outputs": [],
   "source": [
    "def cn_stop_word_rm(sentence, stop_words):\n",
    "    \"\"\"\n",
    "    :func: 将输入的句子分词并且移除stopword，返回list\n",
    "    :param stop_words: 需要移除的stopword（用的是cn_stopwords）\n",
    "        eg:\n",
    "                ['$', '0', '1', '2', '3', '4', '5', '6', '7', '8',\n",
    "                '9', '?', '_', '“', '”', '、', '。','《', '》', '一',\n",
    "                '一些', '一何', '一切', '一则', '一方面', '一旦', '一来']\n",
    "    :param sentence: 句子\n",
    "        eg:\n",
    "            \"今天我想摆烂，你能拿我咋办，摸鱼我说了算\"\n",
    "    :return: 返回分词后的token list\n",
    "    \"\"\"\n",
    "    # split the sentence\n",
    "    word_tokens = list(jieba.cut_for_search(sentence))\n",
    "\n",
    "    # remove stop words\n",
    "    query = [w.lower() for w in word_tokens if not w in stop_words]\n",
    "    #     print(query)\n",
    "    #     question_list[index] = ' '.join(line for line in query)\n",
    "    return query\n",
    "\n",
    "# # 测试cn_stop_word_rm\n",
    "# sentence = \"我们认为，一些关键问题就是所谓问题的关键，所以问题的关键在于我们如何把握关键问题，这个是我们任务的关键\"\n",
    "# path = './dataset/cn_stopwords.txt'\n",
    "# stop_words = obtain_stop_word(path)\n",
    "# query = cn_stop_word_rm(sentence,stop_words)\n",
    "# print(query)\n",
    "\n",
    "def generate_question_t_list(question_list, stop_words):\n",
    "    \"\"\"\n",
    "    :func: 将输入的问句分词逐个转为token list\n",
    "\n",
    "    :param question_list: 句子列表\n",
    "        eg:\n",
    "            [\"今天我想摆烂\"，\n",
    "            \"你能拿我咋办\"，\n",
    "            \"摸鱼我说了算\"]\n",
    "\n",
    "    :param stop_words: 需要移除的stopword（用的是cn_stopwords）\n",
    "        eg:\n",
    "                ['$', '0', '1', '2', '3', '4', '5', '6', '7', '8',\n",
    "                '9', '?', '_', '“', '”', '、', '。','《', '》', '一',\n",
    "                '一些', '一何', '一切', '一则', '一方面', '一旦', '一来']\n",
    "\n",
    "    :return: 返回question_list每句分词后的token list\n",
    "    \"\"\"\n",
    "\n",
    "    # transfer the question list into the token form\n",
    "    question_token_list = ['' for i in range(len(question_list))]\n",
    "\n",
    "    for index in range(len(question_list)):\n",
    "        # split the sentence\n",
    "        question_token_list[index] = cn_stop_word_rm(question_list[index], stop_words)\n",
    "    # return the token list\n",
    "    return question_token_list\n",
    "\n",
    "# # 测试generate_question_t_list\n",
    "# question_list,answer_list = read_and_split_the_excel(\"./dataset/CN_QA_dataset_all.xlsx\")\n",
    "# path = './dataset/cn_stopwords.txt'\n",
    "# stop_words = obtain_stop_word(path)\n",
    "# question_token_list = generate_question_t_list(question_list, stop_words)\n",
    "# print(question_token_list[:4])"
   ]
  },
  {
   "cell_type": "code",
   "execution_count": 18,
   "id": "7443a23e",
   "metadata": {
    "execution": {
     "iopub.execute_input": "2022-11-16T17:00:58.907566Z",
     "iopub.status.busy": "2022-11-16T17:00:58.907183Z",
     "iopub.status.idle": "2022-11-16T17:00:58.926351Z",
     "shell.execute_reply": "2022-11-16T17:00:58.925129Z"
    },
    "papermill": {
     "duration": 0.034447,
     "end_time": "2022-11-16T17:00:58.928947",
     "exception": false,
     "start_time": "2022-11-16T17:00:58.894500",
     "status": "completed"
    },
    "tags": []
   },
   "outputs": [],
   "source": [
    "def similarity_cn(query, dictionary, tfidf, corpus_tfidf, topk=3, threshold=0.7, all_score_without_rank=0):\n",
    "    \"\"\"\n",
    "    :func: 计算问题与知识库中问题的相似度\n",
    "    :param Corp: 分词后的问题\n",
    "        eg:\n",
    "                [['UIC', '学校', '办学', '性质'],\n",
    "                 ['学校', '现在', '在校', '在校生'],\n",
    "                 ['UIC', '全称'],\n",
    "                 ['北师', '北师港', '浸大', '全称']]\n",
    "    :param query: 分词后的问题\n",
    "        eg:\n",
    "                ['UIC', '全称', '名字']\n",
    "    :return: 返回\n",
    "        if_valid: 最匹配的答案的相似度是否超过了threshold\n",
    "        max_loc: 前topk个最匹配的答案所在的index\n",
    "        sims: 每一个问题与查找问题的相似度，依据index来的\n",
    "    \"\"\"\n",
    "\n",
    "    #     print(corpus_tfidf)\n",
    "    # # 得到TF-IDF值\n",
    "    #     for temp in corpus_tfidf:\n",
    "    #         print(temp)\n",
    "\n",
    "    vec_bow = dictionary.doc2bow(query)\n",
    "    vec_tfidf = tfidf[vec_bow]\n",
    "    #     print(vec_tfidf)\n",
    "\n",
    "    index = similarities.MatrixSimilarity(corpus_tfidf)\n",
    "    #     print(index)\n",
    "\n",
    "    sims = index[vec_tfidf]\n",
    "    #     print(sims)\n",
    "\n",
    "    if all_score_without_rank:\n",
    "        return sims\n",
    "    else:\n",
    "        max_loc = np.argsort(sims)[::-1][:topk]\n",
    "        #     print(np.argsort(sims)[::-1])\n",
    "\n",
    "        #     top_max_sim = sims[max_loc]\n",
    "        #     print(top_max_sim)\n",
    "\n",
    "        # if the score is larger than the threshold\n",
    "        if sims[max_loc[0]] < threshold:\n",
    "            if_valid = 0\n",
    "        else:\n",
    "            if_valid = 1\n",
    "\n",
    "        return if_valid, max_loc, sims\n",
    "\n",
    "\n",
    "\n",
    "# # 测试，用query的问句去问系统，这里面返回前三个的相似度\n",
    "# # generate question_t_list\n",
    "# question_list,answer_list = read_and_split_the_excel(\"./dataset/CN_QA_dataset_all.xlsx\")\n",
    "# path = './dataset/cn_stopwords.txt'\n",
    "# stop_words = obtain_stop_word(path)\n",
    "# question_token_list = generate_question_t_list(question_list, stop_words)\n",
    "#\n",
    "# Corp = question_token_list\n",
    "# query = ['uic', '全称', '名字']\n",
    "# if_vaild, max_loc, top_max_sim = similarity_cn(Corp, query)\n",
    "# print(if_vaild)\n",
    "# print(max_loc)\n",
    "# print(top_max_sim[:3])\n",
    "\n",
    "def TF_IDF_prepared(data_file_path, stopword_file_path):\n",
    "    # 准备TF-IDF回答过程中需要的材料\n",
    "    # read the file\n",
    "    question_list, answer_list = read_and_split_the_excel(data_file_path)\n",
    "\n",
    "    # stop words list\n",
    "    stop_words = obtain_stop_word(stopword_file_path)\n",
    "\n",
    "    # generate question token list\n",
    "    question_token_list = generate_question_t_list(question_list, stop_words)\n",
    "\n",
    "    # 建立词典\n",
    "    dictionary = corpora.Dictionary(question_token_list)\n",
    "\n",
    "    # 基于词典，将分词列表集转换成稀疏向量集，即语料库\n",
    "    corpus = [dictionary.doc2bow(text) for text in question_token_list]\n",
    "\n",
    "    # 训练TF-IDF模型，传入语料库进行训练\n",
    "    tfidf = models.TfidfModel(corpus)\n",
    "\n",
    "    # 用训练好的TF-IDF模型处理被检索文本，即语料库\n",
    "    corpus_tfidf = tfidf[corpus]\n",
    "\n",
    "    return question_list, question_token_list, answer_list, stop_words,dictionary, tfidf, corpus_tfidf\n",
    "\n",
    "def TF_IDF_reply(query, question_list, answer_list, stop_words, topk_TFIDF,threshold_TFIDF, dictionary, tfidf, corpus_tfidf):\n",
    "    # 对查询的问题进行处理\n",
    "    query_processed = cn_stop_word_rm(query, stop_words)\n",
    "\n",
    "    # 得到问题（答案）所对应的行索引\n",
    "    if_valid, topk_idx_TF, score_TF = similarity_cn(query_processed, dictionary, tfidf, corpus_tfidf, topk_TFIDF, threshold_TFIDF, all_score_without_rank=0)\n",
    "\n",
    "    #回答答案，可以注释\n",
    "#     print('top few questions(TFIDF: %d) similar to \"%s\"' % (topk_TFIDF, colored(query, 'green')))\n",
    "#     print(\"The best similarity for TF-IDF is:\", score_TF[topk_idx_TF[0]])\n",
    "\n",
    "#     for idx in topk_idx_TF:\n",
    "#         print('TF-IDF; %s\\t%s' % (colored('%.4f' % score_TF[idx], 'cyan'), colored(question_list[idx], 'yellow')))\n",
    "\n",
    "    # get the answer\n",
    "#     if if_valid:\n",
    "#         print(answer_list[topk_idx_TF[0]])\n",
    "\n",
    "    return if_valid, topk_idx_TF, score_TF\n",
    "# 下面为主函数\n",
    "def TF_IDF_QA_test():\n",
    "    # file storing the data\n",
    "    print(\"数据准备中\")\n",
    "    data_file_path = \"../input/uic-cn-admission/CN_QA_dataset_all.xlsx\"\n",
    "    stopword_file_path = '../input/english-and-chinese-stopwords/cn_stopwords.txt'\n",
    "    # 显示前几个答案\n",
    "    topk_TFIDF = 3\n",
    "    # 超过多少相似度才算合格\n",
    "    threshold_TFIDF = 0.7\n",
    "    # data prepared\n",
    "    question_list, question_token_list, answer_list, stop_words, dictionary, \\\n",
    "        tfidf, corpus_tfidf = TF_IDF_prepared(data_file_path, stopword_file_path)\n",
    "    \n",
    "    # prepared testing data\n",
    "    question_list,answer_list,Sen1_list,Sen1_list_index,Sen2_list,label_list = read_qa_and_expand_training_set(QA_path, zero_one_path)\n",
    "    \n",
    "    print(\"准备完毕\")\n",
    "    \n",
    "    # obtain the question\n",
    "    \n",
    "    predict_result = []\n",
    "    \n",
    "    with tqdm(total=len(Sen1_list)) as pbar:\n",
    "        pbar.set_description('正在测试')\n",
    "        \n",
    "        for index, test_query in enumerate(Sen2_list):\n",
    "\n",
    "            if_valid, topk_idx_TF, score_TF = TF_IDF_reply(test_query, question_list, answer_list, stop_words, topk_TFIDF,\n",
    "                         threshold_TFIDF, dictionary, tfidf, corpus_tfidf)\n",
    "\n",
    "            if topk_idx_TF[0] == Sen1_list_index[index]:\n",
    "                prediction = 1\n",
    "            else:\n",
    "                prediction = 0\n",
    "            \n",
    "            predict_result.append(prediction)\n",
    "            \n",
    "#             print(question_list[topk_idx_TF[0]])\n",
    "#             print(Sen2_list[index])\n",
    "#             print(Sen1_list[index])\n",
    "            \n",
    "            pbar.update(1)\n",
    "            \n",
    "#     print(label_list[:10])\n",
    "#     print(predict_result)\n",
    "\n",
    "    cf_matrix_test,figure_test = performance(label_list,predict_result)\n",
    "    figure_test.show()"
   ]
  },
  {
   "cell_type": "code",
   "execution_count": 19,
   "id": "982b73ef",
   "metadata": {
    "execution": {
     "iopub.execute_input": "2022-11-16T17:00:58.953505Z",
     "iopub.status.busy": "2022-11-16T17:00:58.952905Z",
     "iopub.status.idle": "2022-11-16T17:08:19.814855Z",
     "shell.execute_reply": "2022-11-16T17:08:19.813674Z"
    },
    "papermill": {
     "duration": 440.877237,
     "end_time": "2022-11-16T17:08:19.817539",
     "exception": false,
     "start_time": "2022-11-16T17:00:58.940302",
     "status": "completed"
    },
    "tags": []
   },
   "outputs": [
    {
     "name": "stderr",
     "output_type": "stream",
     "text": [
      "Building prefix dict from the default dictionary ...\n"
     ]
    },
    {
     "name": "stdout",
     "output_type": "stream",
     "text": [
      "数据准备中\n"
     ]
    },
    {
     "name": "stderr",
     "output_type": "stream",
     "text": [
      "Dumping model to file cache /tmp/jieba.cache\n",
      "Loading model cost 1.031 seconds.\n",
      "Prefix dict has been built successfully.\n"
     ]
    },
    {
     "name": "stdout",
     "output_type": "stream",
     "text": [
      "准备完毕\n"
     ]
    },
    {
     "name": "stderr",
     "output_type": "stream",
     "text": [
      "正在测试: 100%|██████████| 2968/2968 [07:14<00:00,  6.83it/s]\n"
     ]
    },
    {
     "data": {
      "text/html": [
       "<div>\n",
       "<style scoped>\n",
       "    .dataframe tbody tr th:only-of-type {\n",
       "        vertical-align: middle;\n",
       "    }\n",
       "\n",
       "    .dataframe tbody tr th {\n",
       "        vertical-align: top;\n",
       "    }\n",
       "\n",
       "    .dataframe thead th {\n",
       "        text-align: right;\n",
       "    }\n",
       "</style>\n",
       "<table border=\"1\" class=\"dataframe\">\n",
       "  <thead>\n",
       "    <tr style=\"text-align: right;\">\n",
       "      <th></th>\n",
       "      <th>Class_type</th>\n",
       "      <th>F1-macro</th>\n",
       "      <th>Recall-macro</th>\n",
       "      <th>Precision-macro</th>\n",
       "    </tr>\n",
       "  </thead>\n",
       "  <tbody>\n",
       "    <tr>\n",
       "      <th>0</th>\n",
       "      <td>0</td>\n",
       "      <td>0.959484</td>\n",
       "      <td>0.96037</td>\n",
       "      <td>0.959061</td>\n",
       "    </tr>\n",
       "    <tr>\n",
       "      <th>1</th>\n",
       "      <td>1</td>\n",
       "      <td>0.959484</td>\n",
       "      <td>0.96037</td>\n",
       "      <td>0.959061</td>\n",
       "    </tr>\n",
       "  </tbody>\n",
       "</table>\n",
       "</div>"
      ],
      "text/plain": [
       "   Class_type  F1-macro  Recall-macro  Precision-macro\n",
       "0           0  0.959484       0.96037         0.959061\n",
       "1           1  0.959484       0.96037         0.959061"
      ]
     },
     "metadata": {},
     "output_type": "display_data"
    },
    {
     "data": {
      "text/html": [
       "<div>                            <div id=\"f6818437-8660-4d36-86ad-544269d5d9bd\" class=\"plotly-graph-div\" style=\"height:525px; width:100%;\"></div>            <script type=\"text/javascript\">                require([\"plotly\"], function(Plotly) {                    window.PLOTLYENV=window.PLOTLYENV || {};                                    if (document.getElementById(\"f6818437-8660-4d36-86ad-544269d5d9bd\")) {                    Plotly.newPlot(                        \"f6818437-8660-4d36-86ad-544269d5d9bd\",                        [{\"coloraxis\":\"coloraxis\",\"name\":\"0\",\"texttemplate\":\"%{z}\",\"x\":[\"0\",\"1\"],\"y\":[\"0\",\"1\"],\"z\":[[1356,37],[83,1492]],\"type\":\"heatmap\",\"xaxis\":\"x\",\"yaxis\":\"y\",\"hovertemplate\":\"True label: %{x}<br>Predicted label: %{y}<br>times: %{z}<extra></extra>\"}],                        {\"template\":{\"data\":{\"histogram2dcontour\":[{\"type\":\"histogram2dcontour\",\"colorbar\":{\"outlinewidth\":0,\"ticks\":\"\"},\"colorscale\":[[0.0,\"#0d0887\"],[0.1111111111111111,\"#46039f\"],[0.2222222222222222,\"#7201a8\"],[0.3333333333333333,\"#9c179e\"],[0.4444444444444444,\"#bd3786\"],[0.5555555555555556,\"#d8576b\"],[0.6666666666666666,\"#ed7953\"],[0.7777777777777778,\"#fb9f3a\"],[0.8888888888888888,\"#fdca26\"],[1.0,\"#f0f921\"]]}],\"choropleth\":[{\"type\":\"choropleth\",\"colorbar\":{\"outlinewidth\":0,\"ticks\":\"\"}}],\"histogram2d\":[{\"type\":\"histogram2d\",\"colorbar\":{\"outlinewidth\":0,\"ticks\":\"\"},\"colorscale\":[[0.0,\"#0d0887\"],[0.1111111111111111,\"#46039f\"],[0.2222222222222222,\"#7201a8\"],[0.3333333333333333,\"#9c179e\"],[0.4444444444444444,\"#bd3786\"],[0.5555555555555556,\"#d8576b\"],[0.6666666666666666,\"#ed7953\"],[0.7777777777777778,\"#fb9f3a\"],[0.8888888888888888,\"#fdca26\"],[1.0,\"#f0f921\"]]}],\"heatmap\":[{\"type\":\"heatmap\",\"colorbar\":{\"outlinewidth\":0,\"ticks\":\"\"},\"colorscale\":[[0.0,\"#0d0887\"],[0.1111111111111111,\"#46039f\"],[0.2222222222222222,\"#7201a8\"],[0.3333333333333333,\"#9c179e\"],[0.4444444444444444,\"#bd3786\"],[0.5555555555555556,\"#d8576b\"],[0.6666666666666666,\"#ed7953\"],[0.7777777777777778,\"#fb9f3a\"],[0.8888888888888888,\"#fdca26\"],[1.0,\"#f0f921\"]]}],\"heatmapgl\":[{\"type\":\"heatmapgl\",\"colorbar\":{\"outlinewidth\":0,\"ticks\":\"\"},\"colorscale\":[[0.0,\"#0d0887\"],[0.1111111111111111,\"#46039f\"],[0.2222222222222222,\"#7201a8\"],[0.3333333333333333,\"#9c179e\"],[0.4444444444444444,\"#bd3786\"],[0.5555555555555556,\"#d8576b\"],[0.6666666666666666,\"#ed7953\"],[0.7777777777777778,\"#fb9f3a\"],[0.8888888888888888,\"#fdca26\"],[1.0,\"#f0f921\"]]}],\"contourcarpet\":[{\"type\":\"contourcarpet\",\"colorbar\":{\"outlinewidth\":0,\"ticks\":\"\"}}],\"contour\":[{\"type\":\"contour\",\"colorbar\":{\"outlinewidth\":0,\"ticks\":\"\"},\"colorscale\":[[0.0,\"#0d0887\"],[0.1111111111111111,\"#46039f\"],[0.2222222222222222,\"#7201a8\"],[0.3333333333333333,\"#9c179e\"],[0.4444444444444444,\"#bd3786\"],[0.5555555555555556,\"#d8576b\"],[0.6666666666666666,\"#ed7953\"],[0.7777777777777778,\"#fb9f3a\"],[0.8888888888888888,\"#fdca26\"],[1.0,\"#f0f921\"]]}],\"surface\":[{\"type\":\"surface\",\"colorbar\":{\"outlinewidth\":0,\"ticks\":\"\"},\"colorscale\":[[0.0,\"#0d0887\"],[0.1111111111111111,\"#46039f\"],[0.2222222222222222,\"#7201a8\"],[0.3333333333333333,\"#9c179e\"],[0.4444444444444444,\"#bd3786\"],[0.5555555555555556,\"#d8576b\"],[0.6666666666666666,\"#ed7953\"],[0.7777777777777778,\"#fb9f3a\"],[0.8888888888888888,\"#fdca26\"],[1.0,\"#f0f921\"]]}],\"mesh3d\":[{\"type\":\"mesh3d\",\"colorbar\":{\"outlinewidth\":0,\"ticks\":\"\"}}],\"scatter\":[{\"fillpattern\":{\"fillmode\":\"overlay\",\"size\":10,\"solidity\":0.2},\"type\":\"scatter\"}],\"parcoords\":[{\"type\":\"parcoords\",\"line\":{\"colorbar\":{\"outlinewidth\":0,\"ticks\":\"\"}}}],\"scatterpolargl\":[{\"type\":\"scatterpolargl\",\"marker\":{\"colorbar\":{\"outlinewidth\":0,\"ticks\":\"\"}}}],\"bar\":[{\"error_x\":{\"color\":\"#2a3f5f\"},\"error_y\":{\"color\":\"#2a3f5f\"},\"marker\":{\"line\":{\"color\":\"#E5ECF6\",\"width\":0.5},\"pattern\":{\"fillmode\":\"overlay\",\"size\":10,\"solidity\":0.2}},\"type\":\"bar\"}],\"scattergeo\":[{\"type\":\"scattergeo\",\"marker\":{\"colorbar\":{\"outlinewidth\":0,\"ticks\":\"\"}}}],\"scatterpolar\":[{\"type\":\"scatterpolar\",\"marker\":{\"colorbar\":{\"outlinewidth\":0,\"ticks\":\"\"}}}],\"histogram\":[{\"marker\":{\"pattern\":{\"fillmode\":\"overlay\",\"size\":10,\"solidity\":0.2}},\"type\":\"histogram\"}],\"scattergl\":[{\"type\":\"scattergl\",\"marker\":{\"colorbar\":{\"outlinewidth\":0,\"ticks\":\"\"}}}],\"scatter3d\":[{\"type\":\"scatter3d\",\"line\":{\"colorbar\":{\"outlinewidth\":0,\"ticks\":\"\"}},\"marker\":{\"colorbar\":{\"outlinewidth\":0,\"ticks\":\"\"}}}],\"scattermapbox\":[{\"type\":\"scattermapbox\",\"marker\":{\"colorbar\":{\"outlinewidth\":0,\"ticks\":\"\"}}}],\"scatterternary\":[{\"type\":\"scatterternary\",\"marker\":{\"colorbar\":{\"outlinewidth\":0,\"ticks\":\"\"}}}],\"scattercarpet\":[{\"type\":\"scattercarpet\",\"marker\":{\"colorbar\":{\"outlinewidth\":0,\"ticks\":\"\"}}}],\"carpet\":[{\"aaxis\":{\"endlinecolor\":\"#2a3f5f\",\"gridcolor\":\"white\",\"linecolor\":\"white\",\"minorgridcolor\":\"white\",\"startlinecolor\":\"#2a3f5f\"},\"baxis\":{\"endlinecolor\":\"#2a3f5f\",\"gridcolor\":\"white\",\"linecolor\":\"white\",\"minorgridcolor\":\"white\",\"startlinecolor\":\"#2a3f5f\"},\"type\":\"carpet\"}],\"table\":[{\"cells\":{\"fill\":{\"color\":\"#EBF0F8\"},\"line\":{\"color\":\"white\"}},\"header\":{\"fill\":{\"color\":\"#C8D4E3\"},\"line\":{\"color\":\"white\"}},\"type\":\"table\"}],\"barpolar\":[{\"marker\":{\"line\":{\"color\":\"#E5ECF6\",\"width\":0.5},\"pattern\":{\"fillmode\":\"overlay\",\"size\":10,\"solidity\":0.2}},\"type\":\"barpolar\"}],\"pie\":[{\"automargin\":true,\"type\":\"pie\"}]},\"layout\":{\"autotypenumbers\":\"strict\",\"colorway\":[\"#636efa\",\"#EF553B\",\"#00cc96\",\"#ab63fa\",\"#FFA15A\",\"#19d3f3\",\"#FF6692\",\"#B6E880\",\"#FF97FF\",\"#FECB52\"],\"font\":{\"color\":\"#2a3f5f\"},\"hovermode\":\"closest\",\"hoverlabel\":{\"align\":\"left\"},\"paper_bgcolor\":\"white\",\"plot_bgcolor\":\"#E5ECF6\",\"polar\":{\"bgcolor\":\"#E5ECF6\",\"angularaxis\":{\"gridcolor\":\"white\",\"linecolor\":\"white\",\"ticks\":\"\"},\"radialaxis\":{\"gridcolor\":\"white\",\"linecolor\":\"white\",\"ticks\":\"\"}},\"ternary\":{\"bgcolor\":\"#E5ECF6\",\"aaxis\":{\"gridcolor\":\"white\",\"linecolor\":\"white\",\"ticks\":\"\"},\"baxis\":{\"gridcolor\":\"white\",\"linecolor\":\"white\",\"ticks\":\"\"},\"caxis\":{\"gridcolor\":\"white\",\"linecolor\":\"white\",\"ticks\":\"\"}},\"coloraxis\":{\"colorbar\":{\"outlinewidth\":0,\"ticks\":\"\"}},\"colorscale\":{\"sequential\":[[0.0,\"#0d0887\"],[0.1111111111111111,\"#46039f\"],[0.2222222222222222,\"#7201a8\"],[0.3333333333333333,\"#9c179e\"],[0.4444444444444444,\"#bd3786\"],[0.5555555555555556,\"#d8576b\"],[0.6666666666666666,\"#ed7953\"],[0.7777777777777778,\"#fb9f3a\"],[0.8888888888888888,\"#fdca26\"],[1.0,\"#f0f921\"]],\"sequentialminus\":[[0.0,\"#0d0887\"],[0.1111111111111111,\"#46039f\"],[0.2222222222222222,\"#7201a8\"],[0.3333333333333333,\"#9c179e\"],[0.4444444444444444,\"#bd3786\"],[0.5555555555555556,\"#d8576b\"],[0.6666666666666666,\"#ed7953\"],[0.7777777777777778,\"#fb9f3a\"],[0.8888888888888888,\"#fdca26\"],[1.0,\"#f0f921\"]],\"diverging\":[[0,\"#8e0152\"],[0.1,\"#c51b7d\"],[0.2,\"#de77ae\"],[0.3,\"#f1b6da\"],[0.4,\"#fde0ef\"],[0.5,\"#f7f7f7\"],[0.6,\"#e6f5d0\"],[0.7,\"#b8e186\"],[0.8,\"#7fbc41\"],[0.9,\"#4d9221\"],[1,\"#276419\"]]},\"xaxis\":{\"gridcolor\":\"white\",\"linecolor\":\"white\",\"ticks\":\"\",\"title\":{\"standoff\":15},\"zerolinecolor\":\"white\",\"automargin\":true,\"zerolinewidth\":2},\"yaxis\":{\"gridcolor\":\"white\",\"linecolor\":\"white\",\"ticks\":\"\",\"title\":{\"standoff\":15},\"zerolinecolor\":\"white\",\"automargin\":true,\"zerolinewidth\":2},\"scene\":{\"xaxis\":{\"backgroundcolor\":\"#E5ECF6\",\"gridcolor\":\"white\",\"linecolor\":\"white\",\"showbackground\":true,\"ticks\":\"\",\"zerolinecolor\":\"white\",\"gridwidth\":2},\"yaxis\":{\"backgroundcolor\":\"#E5ECF6\",\"gridcolor\":\"white\",\"linecolor\":\"white\",\"showbackground\":true,\"ticks\":\"\",\"zerolinecolor\":\"white\",\"gridwidth\":2},\"zaxis\":{\"backgroundcolor\":\"#E5ECF6\",\"gridcolor\":\"white\",\"linecolor\":\"white\",\"showbackground\":true,\"ticks\":\"\",\"zerolinecolor\":\"white\",\"gridwidth\":2}},\"shapedefaults\":{\"line\":{\"color\":\"#2a3f5f\"}},\"annotationdefaults\":{\"arrowcolor\":\"#2a3f5f\",\"arrowhead\":0,\"arrowwidth\":1},\"geo\":{\"bgcolor\":\"white\",\"landcolor\":\"#E5ECF6\",\"subunitcolor\":\"white\",\"showland\":true,\"showlakes\":true,\"lakecolor\":\"white\"},\"title\":{\"x\":0.05},\"mapbox\":{\"style\":\"light\"}}},\"xaxis\":{\"anchor\":\"y\",\"domain\":[0.0,1.0],\"scaleanchor\":\"y\",\"constrain\":\"domain\",\"title\":{\"text\":\"True label\"}},\"yaxis\":{\"anchor\":\"x\",\"domain\":[0.0,1.0],\"autorange\":\"reversed\",\"constrain\":\"domain\",\"title\":{\"text\":\"Predicted label\"}},\"coloraxis\":{\"colorbar\":{\"title\":{\"text\":\"times\"}},\"colorscale\":[[0.0,\"#0d0887\"],[0.1111111111111111,\"#46039f\"],[0.2222222222222222,\"#7201a8\"],[0.3333333333333333,\"#9c179e\"],[0.4444444444444444,\"#bd3786\"],[0.5555555555555556,\"#d8576b\"],[0.6666666666666666,\"#ed7953\"],[0.7777777777777778,\"#fb9f3a\"],[0.8888888888888888,\"#fdca26\"],[1.0,\"#f0f921\"]]},\"margin\":{\"t\":60}},                        {\"responsive\": true}                    ).then(function(){\n",
       "                            \n",
       "var gd = document.getElementById('f6818437-8660-4d36-86ad-544269d5d9bd');\n",
       "var x = new MutationObserver(function (mutations, observer) {{\n",
       "        var display = window.getComputedStyle(gd).display;\n",
       "        if (!display || display === 'none') {{\n",
       "            console.log([gd, 'removed!']);\n",
       "            Plotly.purge(gd);\n",
       "            observer.disconnect();\n",
       "        }}\n",
       "}});\n",
       "\n",
       "// Listen for the removal of the full notebook cells\n",
       "var notebookContainer = gd.closest('#notebook-container');\n",
       "if (notebookContainer) {{\n",
       "    x.observe(notebookContainer, {childList: true});\n",
       "}}\n",
       "\n",
       "// Listen for the clearing of the current output cell\n",
       "var outputEl = gd.closest('.output');\n",
       "if (outputEl) {{\n",
       "    x.observe(outputEl, {childList: true});\n",
       "}}\n",
       "\n",
       "                        })                };                });            </script>        </div>"
      ]
     },
     "metadata": {},
     "output_type": "display_data"
    }
   ],
   "source": [
    "TF_IDF_QA_test()"
   ]
  }
 ],
 "metadata": {
  "kernelspec": {
   "display_name": "Python 3",
   "language": "python",
   "name": "python3"
  },
  "language_info": {
   "codemirror_mode": {
    "name": "ipython",
    "version": 3
   },
   "file_extension": ".py",
   "mimetype": "text/x-python",
   "name": "python",
   "nbconvert_exporter": "python",
   "pygments_lexer": "ipython3",
   "version": "3.7.12"
  },
  "papermill": {
   "default_parameters": {},
   "duration": 490.624758,
   "end_time": "2022-11-16T17:08:21.131544",
   "environment_variables": {},
   "exception": null,
   "input_path": "__notebook__.ipynb",
   "output_path": "__notebook__.ipynb",
   "parameters": {},
   "start_time": "2022-11-16T17:00:10.506786",
   "version": "2.3.4"
  },
  "widgets": {
   "application/vnd.jupyter.widget-state+json": {
    "state": {
     "070965298ca345dfa872972b0bce571e": {
      "model_module": "@jupyter-widgets/controls",
      "model_module_version": "1.5.0",
      "model_name": "FloatProgressModel",
      "state": {
       "_dom_classes": [],
       "_model_module": "@jupyter-widgets/controls",
       "_model_module_version": "1.5.0",
       "_model_name": "FloatProgressModel",
       "_view_count": null,
       "_view_module": "@jupyter-widgets/controls",
       "_view_module_version": "1.5.0",
       "_view_name": "ProgressView",
       "bar_style": "success",
       "description": "",
       "description_tooltip": null,
       "layout": "IPY_MODEL_b7d413d3b3ad4e0198b59146621dcc95",
       "max": 2205.0,
       "min": 0.0,
       "orientation": "horizontal",
       "style": "IPY_MODEL_5debb7d2562e49c1ba12f58a276e9e55",
       "value": 2205.0
      }
     },
     "0b8b903313f646548fffb0b194ab2103": {
      "model_module": "@jupyter-widgets/base",
      "model_module_version": "1.2.0",
      "model_name": "LayoutModel",
      "state": {
       "_model_module": "@jupyter-widgets/base",
       "_model_module_version": "1.2.0",
       "_model_name": "LayoutModel",
       "_view_count": null,
       "_view_module": "@jupyter-widgets/base",
       "_view_module_version": "1.2.0",
       "_view_name": "LayoutView",
       "align_content": null,
       "align_items": null,
       "align_self": null,
       "border": null,
       "bottom": null,
       "display": null,
       "flex": null,
       "flex_flow": null,
       "grid_area": null,
       "grid_auto_columns": null,
       "grid_auto_flow": null,
       "grid_auto_rows": null,
       "grid_column": null,
       "grid_gap": null,
       "grid_row": null,
       "grid_template_areas": null,
       "grid_template_columns": null,
       "grid_template_rows": null,
       "height": null,
       "justify_content": null,
       "justify_items": null,
       "left": null,
       "margin": null,
       "max_height": null,
       "max_width": null,
       "min_height": null,
       "min_width": null,
       "object_fit": null,
       "object_position": null,
       "order": null,
       "overflow": null,
       "overflow_x": null,
       "overflow_y": null,
       "padding": null,
       "right": null,
       "top": null,
       "visibility": null,
       "width": null
      }
     },
     "1df7236b0c9749a2b70e5110122a66f8": {
      "model_module": "@jupyter-widgets/controls",
      "model_module_version": "1.5.0",
      "model_name": "DescriptionStyleModel",
      "state": {
       "_model_module": "@jupyter-widgets/controls",
       "_model_module_version": "1.5.0",
       "_model_name": "DescriptionStyleModel",
       "_view_count": null,
       "_view_module": "@jupyter-widgets/base",
       "_view_module_version": "1.2.0",
       "_view_name": "StyleView",
       "description_width": ""
      }
     },
     "1f97fe73b34c4cdfba6ca30cb1f24cfc": {
      "model_module": "@jupyter-widgets/controls",
      "model_module_version": "1.5.0",
      "model_name": "HBoxModel",
      "state": {
       "_dom_classes": [],
       "_model_module": "@jupyter-widgets/controls",
       "_model_module_version": "1.5.0",
       "_model_name": "HBoxModel",
       "_view_count": null,
       "_view_module": "@jupyter-widgets/controls",
       "_view_module_version": "1.5.0",
       "_view_name": "HBoxView",
       "box_style": "",
       "children": [
        "IPY_MODEL_d5a17e0b05074ab6a06f55881e0d6e5f",
        "IPY_MODEL_860d0cd53eee4b20b39d31f8f344236f",
        "IPY_MODEL_ea9fad37a91c44488d45e75bd896c449"
       ],
       "layout": "IPY_MODEL_22a9b6238512440cbce07ae55122aa36"
      }
     },
     "202ba7e6993a4557874bd8022ab0caa1": {
      "model_module": "@jupyter-widgets/controls",
      "model_module_version": "1.5.0",
      "model_name": "DescriptionStyleModel",
      "state": {
       "_model_module": "@jupyter-widgets/controls",
       "_model_module_version": "1.5.0",
       "_model_name": "DescriptionStyleModel",
       "_view_count": null,
       "_view_module": "@jupyter-widgets/base",
       "_view_module_version": "1.2.0",
       "_view_name": "StyleView",
       "description_width": ""
      }
     },
     "22a9b6238512440cbce07ae55122aa36": {
      "model_module": "@jupyter-widgets/base",
      "model_module_version": "1.2.0",
      "model_name": "LayoutModel",
      "state": {
       "_model_module": "@jupyter-widgets/base",
       "_model_module_version": "1.2.0",
       "_model_name": "LayoutModel",
       "_view_count": null,
       "_view_module": "@jupyter-widgets/base",
       "_view_module_version": "1.2.0",
       "_view_name": "LayoutView",
       "align_content": null,
       "align_items": null,
       "align_self": null,
       "border": null,
       "bottom": null,
       "display": null,
       "flex": null,
       "flex_flow": null,
       "grid_area": null,
       "grid_auto_columns": null,
       "grid_auto_flow": null,
       "grid_auto_rows": null,
       "grid_column": null,
       "grid_gap": null,
       "grid_row": null,
       "grid_template_areas": null,
       "grid_template_columns": null,
       "grid_template_rows": null,
       "height": null,
       "justify_content": null,
       "justify_items": null,
       "left": null,
       "margin": null,
       "max_height": null,
       "max_width": null,
       "min_height": null,
       "min_width": null,
       "object_fit": null,
       "object_position": null,
       "order": null,
       "overflow": null,
       "overflow_x": null,
       "overflow_y": null,
       "padding": null,
       "right": null,
       "top": null,
       "visibility": null,
       "width": null
      }
     },
     "288178acf7884660b8e308e927a02b0d": {
      "model_module": "@jupyter-widgets/base",
      "model_module_version": "1.2.0",
      "model_name": "LayoutModel",
      "state": {
       "_model_module": "@jupyter-widgets/base",
       "_model_module_version": "1.2.0",
       "_model_name": "LayoutModel",
       "_view_count": null,
       "_view_module": "@jupyter-widgets/base",
       "_view_module_version": "1.2.0",
       "_view_name": "LayoutView",
       "align_content": null,
       "align_items": null,
       "align_self": null,
       "border": null,
       "bottom": null,
       "display": null,
       "flex": null,
       "flex_flow": null,
       "grid_area": null,
       "grid_auto_columns": null,
       "grid_auto_flow": null,
       "grid_auto_rows": null,
       "grid_column": null,
       "grid_gap": null,
       "grid_row": null,
       "grid_template_areas": null,
       "grid_template_columns": null,
       "grid_template_rows": null,
       "height": null,
       "justify_content": null,
       "justify_items": null,
       "left": null,
       "margin": null,
       "max_height": null,
       "max_width": null,
       "min_height": null,
       "min_width": null,
       "object_fit": null,
       "object_position": null,
       "order": null,
       "overflow": null,
       "overflow_x": null,
       "overflow_y": null,
       "padding": null,
       "right": null,
       "top": null,
       "visibility": null,
       "width": null
      }
     },
     "30aa68ab98994b94bd49750994579945": {
      "model_module": "@jupyter-widgets/controls",
      "model_module_version": "1.5.0",
      "model_name": "DescriptionStyleModel",
      "state": {
       "_model_module": "@jupyter-widgets/controls",
       "_model_module_version": "1.5.0",
       "_model_name": "DescriptionStyleModel",
       "_view_count": null,
       "_view_module": "@jupyter-widgets/base",
       "_view_module_version": "1.2.0",
       "_view_name": "StyleView",
       "description_width": ""
      }
     },
     "407fe5fcc00f438d937dce49e0fd9e6a": {
      "model_module": "@jupyter-widgets/base",
      "model_module_version": "1.2.0",
      "model_name": "LayoutModel",
      "state": {
       "_model_module": "@jupyter-widgets/base",
       "_model_module_version": "1.2.0",
       "_model_name": "LayoutModel",
       "_view_count": null,
       "_view_module": "@jupyter-widgets/base",
       "_view_module_version": "1.2.0",
       "_view_name": "LayoutView",
       "align_content": null,
       "align_items": null,
       "align_self": null,
       "border": null,
       "bottom": null,
       "display": null,
       "flex": null,
       "flex_flow": null,
       "grid_area": null,
       "grid_auto_columns": null,
       "grid_auto_flow": null,
       "grid_auto_rows": null,
       "grid_column": null,
       "grid_gap": null,
       "grid_row": null,
       "grid_template_areas": null,
       "grid_template_columns": null,
       "grid_template_rows": null,
       "height": null,
       "justify_content": null,
       "justify_items": null,
       "left": null,
       "margin": null,
       "max_height": null,
       "max_width": null,
       "min_height": null,
       "min_width": null,
       "object_fit": null,
       "object_position": null,
       "order": null,
       "overflow": null,
       "overflow_x": null,
       "overflow_y": null,
       "padding": null,
       "right": null,
       "top": null,
       "visibility": null,
       "width": null
      }
     },
     "42ccd9005f4e46fa8c080bc7c347ed3d": {
      "model_module": "@jupyter-widgets/controls",
      "model_module_version": "1.5.0",
      "model_name": "DescriptionStyleModel",
      "state": {
       "_model_module": "@jupyter-widgets/controls",
       "_model_module_version": "1.5.0",
       "_model_name": "DescriptionStyleModel",
       "_view_count": null,
       "_view_module": "@jupyter-widgets/base",
       "_view_module_version": "1.2.0",
       "_view_name": "StyleView",
       "description_width": ""
      }
     },
     "5debb7d2562e49c1ba12f58a276e9e55": {
      "model_module": "@jupyter-widgets/controls",
      "model_module_version": "1.5.0",
      "model_name": "ProgressStyleModel",
      "state": {
       "_model_module": "@jupyter-widgets/controls",
       "_model_module_version": "1.5.0",
       "_model_name": "ProgressStyleModel",
       "_view_count": null,
       "_view_module": "@jupyter-widgets/base",
       "_view_module_version": "1.2.0",
       "_view_name": "StyleView",
       "bar_color": null,
       "description_width": ""
      }
     },
     "6a3f09d9acec4faa96ca163ddda329fc": {
      "model_module": "@jupyter-widgets/base",
      "model_module_version": "1.2.0",
      "model_name": "LayoutModel",
      "state": {
       "_model_module": "@jupyter-widgets/base",
       "_model_module_version": "1.2.0",
       "_model_name": "LayoutModel",
       "_view_count": null,
       "_view_module": "@jupyter-widgets/base",
       "_view_module_version": "1.2.0",
       "_view_name": "LayoutView",
       "align_content": null,
       "align_items": null,
       "align_self": null,
       "border": null,
       "bottom": null,
       "display": null,
       "flex": null,
       "flex_flow": null,
       "grid_area": null,
       "grid_auto_columns": null,
       "grid_auto_flow": null,
       "grid_auto_rows": null,
       "grid_column": null,
       "grid_gap": null,
       "grid_row": null,
       "grid_template_areas": null,
       "grid_template_columns": null,
       "grid_template_rows": null,
       "height": null,
       "justify_content": null,
       "justify_items": null,
       "left": null,
       "margin": null,
       "max_height": null,
       "max_width": null,
       "min_height": null,
       "min_width": null,
       "object_fit": null,
       "object_position": null,
       "order": null,
       "overflow": null,
       "overflow_x": null,
       "overflow_y": null,
       "padding": null,
       "right": null,
       "top": null,
       "visibility": null,
       "width": null
      }
     },
     "70de1a1bdab446488c506bf15c910421": {
      "model_module": "@jupyter-widgets/controls",
      "model_module_version": "1.5.0",
      "model_name": "DescriptionStyleModel",
      "state": {
       "_model_module": "@jupyter-widgets/controls",
       "_model_module_version": "1.5.0",
       "_model_name": "DescriptionStyleModel",
       "_view_count": null,
       "_view_module": "@jupyter-widgets/base",
       "_view_module_version": "1.2.0",
       "_view_name": "StyleView",
       "description_width": ""
      }
     },
     "78303f8413c645c4b71ed1a9b8c074c1": {
      "model_module": "@jupyter-widgets/base",
      "model_module_version": "1.2.0",
      "model_name": "LayoutModel",
      "state": {
       "_model_module": "@jupyter-widgets/base",
       "_model_module_version": "1.2.0",
       "_model_name": "LayoutModel",
       "_view_count": null,
       "_view_module": "@jupyter-widgets/base",
       "_view_module_version": "1.2.0",
       "_view_name": "LayoutView",
       "align_content": null,
       "align_items": null,
       "align_self": null,
       "border": null,
       "bottom": null,
       "display": null,
       "flex": null,
       "flex_flow": null,
       "grid_area": null,
       "grid_auto_columns": null,
       "grid_auto_flow": null,
       "grid_auto_rows": null,
       "grid_column": null,
       "grid_gap": null,
       "grid_row": null,
       "grid_template_areas": null,
       "grid_template_columns": null,
       "grid_template_rows": null,
       "height": null,
       "justify_content": null,
       "justify_items": null,
       "left": null,
       "margin": null,
       "max_height": null,
       "max_width": null,
       "min_height": null,
       "min_width": null,
       "object_fit": null,
       "object_position": null,
       "order": null,
       "overflow": null,
       "overflow_x": null,
       "overflow_y": null,
       "padding": null,
       "right": null,
       "top": null,
       "visibility": null,
       "width": null
      }
     },
     "783858141c474f4793a33edf877fad3b": {
      "model_module": "@jupyter-widgets/controls",
      "model_module_version": "1.5.0",
      "model_name": "HTMLModel",
      "state": {
       "_dom_classes": [],
       "_model_module": "@jupyter-widgets/controls",
       "_model_module_version": "1.5.0",
       "_model_name": "HTMLModel",
       "_view_count": null,
       "_view_module": "@jupyter-widgets/controls",
       "_view_module_version": "1.5.0",
       "_view_name": "HTMLView",
       "description": "",
       "description_tooltip": null,
       "layout": "IPY_MODEL_407fe5fcc00f438d937dce49e0fd9e6a",
       "placeholder": "​",
       "style": "IPY_MODEL_70de1a1bdab446488c506bf15c910421",
       "value": "Downloading builder script: "
      }
     },
     "81377896893d4dd0b1d0a17985a81030": {
      "model_module": "@jupyter-widgets/controls",
      "model_module_version": "1.5.0",
      "model_name": "HBoxModel",
      "state": {
       "_dom_classes": [],
       "_model_module": "@jupyter-widgets/controls",
       "_model_module_version": "1.5.0",
       "_model_name": "HBoxModel",
       "_view_count": null,
       "_view_module": "@jupyter-widgets/controls",
       "_view_module_version": "1.5.0",
       "_view_name": "HBoxView",
       "box_style": "",
       "children": [
        "IPY_MODEL_783858141c474f4793a33edf877fad3b",
        "IPY_MODEL_e8a3cd21ff0f429fa4a4797e34c0cd37",
        "IPY_MODEL_8391f0f9a7f14862a88b2d55829f44dc"
       ],
       "layout": "IPY_MODEL_6a3f09d9acec4faa96ca163ddda329fc"
      }
     },
     "8391f0f9a7f14862a88b2d55829f44dc": {
      "model_module": "@jupyter-widgets/controls",
      "model_module_version": "1.5.0",
      "model_name": "HTMLModel",
      "state": {
       "_dom_classes": [],
       "_model_module": "@jupyter-widgets/controls",
       "_model_module_version": "1.5.0",
       "_model_name": "HTMLModel",
       "_view_count": null,
       "_view_module": "@jupyter-widgets/controls",
       "_view_module_version": "1.5.0",
       "_view_name": "HTMLView",
       "description": "",
       "description_tooltip": null,
       "layout": "IPY_MODEL_0b8b903313f646548fffb0b194ab2103",
       "placeholder": "​",
       "style": "IPY_MODEL_42ccd9005f4e46fa8c080bc7c347ed3d",
       "value": " 5.83k/? [00:00&lt;00:00, 200kB/s]"
      }
     },
     "85e49c1b7f874073a6e808cc2d58e7bb": {
      "model_module": "@jupyter-widgets/controls",
      "model_module_version": "1.5.0",
      "model_name": "HTMLModel",
      "state": {
       "_dom_classes": [],
       "_model_module": "@jupyter-widgets/controls",
       "_model_module_version": "1.5.0",
       "_model_name": "HTMLModel",
       "_view_count": null,
       "_view_module": "@jupyter-widgets/controls",
       "_view_module_version": "1.5.0",
       "_view_name": "HTMLView",
       "description": "",
       "description_tooltip": null,
       "layout": "IPY_MODEL_9ca6710d2f7f45b5ac05c8269d641935",
       "placeholder": "​",
       "style": "IPY_MODEL_30aa68ab98994b94bd49750994579945",
       "value": " 5.76k/? [00:00&lt;00:00, 166kB/s]"
      }
     },
     "860d0cd53eee4b20b39d31f8f344236f": {
      "model_module": "@jupyter-widgets/controls",
      "model_module_version": "1.5.0",
      "model_name": "FloatProgressModel",
      "state": {
       "_dom_classes": [],
       "_model_module": "@jupyter-widgets/controls",
       "_model_module_version": "1.5.0",
       "_model_name": "FloatProgressModel",
       "_view_count": null,
       "_view_module": "@jupyter-widgets/controls",
       "_view_module_version": "1.5.0",
       "_view_name": "ProgressView",
       "bar_style": "success",
       "description": "",
       "description_tooltip": null,
       "layout": "IPY_MODEL_b65c141d42874d7eaf5bad5502c4d39d",
       "max": 2059.0,
       "min": 0.0,
       "orientation": "horizontal",
       "style": "IPY_MODEL_f1a235c0b7ec4aeb81e70b1fbe4ff402",
       "value": 2059.0
      }
     },
     "86bda7147133474387cf68bd44af2d00": {
      "model_module": "@jupyter-widgets/base",
      "model_module_version": "1.2.0",
      "model_name": "LayoutModel",
      "state": {
       "_model_module": "@jupyter-widgets/base",
       "_model_module_version": "1.2.0",
       "_model_name": "LayoutModel",
       "_view_count": null,
       "_view_module": "@jupyter-widgets/base",
       "_view_module_version": "1.2.0",
       "_view_name": "LayoutView",
       "align_content": null,
       "align_items": null,
       "align_self": null,
       "border": null,
       "bottom": null,
       "display": null,
       "flex": null,
       "flex_flow": null,
       "grid_area": null,
       "grid_auto_columns": null,
       "grid_auto_flow": null,
       "grid_auto_rows": null,
       "grid_column": null,
       "grid_gap": null,
       "grid_row": null,
       "grid_template_areas": null,
       "grid_template_columns": null,
       "grid_template_rows": null,
       "height": null,
       "justify_content": null,
       "justify_items": null,
       "left": null,
       "margin": null,
       "max_height": null,
       "max_width": null,
       "min_height": null,
       "min_width": null,
       "object_fit": null,
       "object_position": null,
       "order": null,
       "overflow": null,
       "overflow_x": null,
       "overflow_y": null,
       "padding": null,
       "right": null,
       "top": null,
       "visibility": null,
       "width": null
      }
     },
     "9ca6710d2f7f45b5ac05c8269d641935": {
      "model_module": "@jupyter-widgets/base",
      "model_module_version": "1.2.0",
      "model_name": "LayoutModel",
      "state": {
       "_model_module": "@jupyter-widgets/base",
       "_model_module_version": "1.2.0",
       "_model_name": "LayoutModel",
       "_view_count": null,
       "_view_module": "@jupyter-widgets/base",
       "_view_module_version": "1.2.0",
       "_view_name": "LayoutView",
       "align_content": null,
       "align_items": null,
       "align_self": null,
       "border": null,
       "bottom": null,
       "display": null,
       "flex": null,
       "flex_flow": null,
       "grid_area": null,
       "grid_auto_columns": null,
       "grid_auto_flow": null,
       "grid_auto_rows": null,
       "grid_column": null,
       "grid_gap": null,
       "grid_row": null,
       "grid_template_areas": null,
       "grid_template_columns": null,
       "grid_template_rows": null,
       "height": null,
       "justify_content": null,
       "justify_items": null,
       "left": null,
       "margin": null,
       "max_height": null,
       "max_width": null,
       "min_height": null,
       "min_width": null,
       "object_fit": null,
       "object_position": null,
       "order": null,
       "overflow": null,
       "overflow_x": null,
       "overflow_y": null,
       "padding": null,
       "right": null,
       "top": null,
       "visibility": null,
       "width": null
      }
     },
     "9e187a9014ab485a8dc2e8f29839290a": {
      "model_module": "@jupyter-widgets/base",
      "model_module_version": "1.2.0",
      "model_name": "LayoutModel",
      "state": {
       "_model_module": "@jupyter-widgets/base",
       "_model_module_version": "1.2.0",
       "_model_name": "LayoutModel",
       "_view_count": null,
       "_view_module": "@jupyter-widgets/base",
       "_view_module_version": "1.2.0",
       "_view_name": "LayoutView",
       "align_content": null,
       "align_items": null,
       "align_self": null,
       "border": null,
       "bottom": null,
       "display": null,
       "flex": null,
       "flex_flow": null,
       "grid_area": null,
       "grid_auto_columns": null,
       "grid_auto_flow": null,
       "grid_auto_rows": null,
       "grid_column": null,
       "grid_gap": null,
       "grid_row": null,
       "grid_template_areas": null,
       "grid_template_columns": null,
       "grid_template_rows": null,
       "height": null,
       "justify_content": null,
       "justify_items": null,
       "left": null,
       "margin": null,
       "max_height": null,
       "max_width": null,
       "min_height": null,
       "min_width": null,
       "object_fit": null,
       "object_position": null,
       "order": null,
       "overflow": null,
       "overflow_x": null,
       "overflow_y": null,
       "padding": null,
       "right": null,
       "top": null,
       "visibility": null,
       "width": null
      }
     },
     "a23151d925e64e1c95ae3fe881b92256": {
      "model_module": "@jupyter-widgets/controls",
      "model_module_version": "1.5.0",
      "model_name": "ProgressStyleModel",
      "state": {
       "_model_module": "@jupyter-widgets/controls",
       "_model_module_version": "1.5.0",
       "_model_name": "ProgressStyleModel",
       "_view_count": null,
       "_view_module": "@jupyter-widgets/base",
       "_view_module_version": "1.2.0",
       "_view_name": "StyleView",
       "bar_color": null,
       "description_width": ""
      }
     },
     "b65c141d42874d7eaf5bad5502c4d39d": {
      "model_module": "@jupyter-widgets/base",
      "model_module_version": "1.2.0",
      "model_name": "LayoutModel",
      "state": {
       "_model_module": "@jupyter-widgets/base",
       "_model_module_version": "1.2.0",
       "_model_name": "LayoutModel",
       "_view_count": null,
       "_view_module": "@jupyter-widgets/base",
       "_view_module_version": "1.2.0",
       "_view_name": "LayoutView",
       "align_content": null,
       "align_items": null,
       "align_self": null,
       "border": null,
       "bottom": null,
       "display": null,
       "flex": null,
       "flex_flow": null,
       "grid_area": null,
       "grid_auto_columns": null,
       "grid_auto_flow": null,
       "grid_auto_rows": null,
       "grid_column": null,
       "grid_gap": null,
       "grid_row": null,
       "grid_template_areas": null,
       "grid_template_columns": null,
       "grid_template_rows": null,
       "height": null,
       "justify_content": null,
       "justify_items": null,
       "left": null,
       "margin": null,
       "max_height": null,
       "max_width": null,
       "min_height": null,
       "min_width": null,
       "object_fit": null,
       "object_position": null,
       "order": null,
       "overflow": null,
       "overflow_x": null,
       "overflow_y": null,
       "padding": null,
       "right": null,
       "top": null,
       "visibility": null,
       "width": null
      }
     },
     "b7d413d3b3ad4e0198b59146621dcc95": {
      "model_module": "@jupyter-widgets/base",
      "model_module_version": "1.2.0",
      "model_name": "LayoutModel",
      "state": {
       "_model_module": "@jupyter-widgets/base",
       "_model_module_version": "1.2.0",
       "_model_name": "LayoutModel",
       "_view_count": null,
       "_view_module": "@jupyter-widgets/base",
       "_view_module_version": "1.2.0",
       "_view_name": "LayoutView",
       "align_content": null,
       "align_items": null,
       "align_self": null,
       "border": null,
       "bottom": null,
       "display": null,
       "flex": null,
       "flex_flow": null,
       "grid_area": null,
       "grid_auto_columns": null,
       "grid_auto_flow": null,
       "grid_auto_rows": null,
       "grid_column": null,
       "grid_gap": null,
       "grid_row": null,
       "grid_template_areas": null,
       "grid_template_columns": null,
       "grid_template_rows": null,
       "height": null,
       "justify_content": null,
       "justify_items": null,
       "left": null,
       "margin": null,
       "max_height": null,
       "max_width": null,
       "min_height": null,
       "min_width": null,
       "object_fit": null,
       "object_position": null,
       "order": null,
       "overflow": null,
       "overflow_x": null,
       "overflow_y": null,
       "padding": null,
       "right": null,
       "top": null,
       "visibility": null,
       "width": null
      }
     },
     "b93b879a99b3474da58d98c847e8f3ca": {
      "model_module": "@jupyter-widgets/controls",
      "model_module_version": "1.5.0",
      "model_name": "DescriptionStyleModel",
      "state": {
       "_model_module": "@jupyter-widgets/controls",
       "_model_module_version": "1.5.0",
       "_model_name": "DescriptionStyleModel",
       "_view_count": null,
       "_view_module": "@jupyter-widgets/base",
       "_view_module_version": "1.2.0",
       "_view_name": "StyleView",
       "description_width": ""
      }
     },
     "cceabbb5d7f94538af1e03673efa36d6": {
      "model_module": "@jupyter-widgets/controls",
      "model_module_version": "1.5.0",
      "model_name": "HTMLModel",
      "state": {
       "_dom_classes": [],
       "_model_module": "@jupyter-widgets/controls",
       "_model_module_version": "1.5.0",
       "_model_name": "HTMLModel",
       "_view_count": null,
       "_view_module": "@jupyter-widgets/controls",
       "_view_module_version": "1.5.0",
       "_view_name": "HTMLView",
       "description": "",
       "description_tooltip": null,
       "layout": "IPY_MODEL_288178acf7884660b8e308e927a02b0d",
       "placeholder": "​",
       "style": "IPY_MODEL_1df7236b0c9749a2b70e5110122a66f8",
       "value": "Downloading builder script: "
      }
     },
     "d5a17e0b05074ab6a06f55881e0d6e5f": {
      "model_module": "@jupyter-widgets/controls",
      "model_module_version": "1.5.0",
      "model_name": "HTMLModel",
      "state": {
       "_dom_classes": [],
       "_model_module": "@jupyter-widgets/controls",
       "_model_module_version": "1.5.0",
       "_model_name": "HTMLModel",
       "_view_count": null,
       "_view_module": "@jupyter-widgets/controls",
       "_view_module_version": "1.5.0",
       "_view_name": "HTMLView",
       "description": "",
       "description_tooltip": null,
       "layout": "IPY_MODEL_86bda7147133474387cf68bd44af2d00",
       "placeholder": "​",
       "style": "IPY_MODEL_202ba7e6993a4557874bd8022ab0caa1",
       "value": "Downloading builder script: "
      }
     },
     "e8a3cd21ff0f429fa4a4797e34c0cd37": {
      "model_module": "@jupyter-widgets/controls",
      "model_module_version": "1.5.0",
      "model_name": "FloatProgressModel",
      "state": {
       "_dom_classes": [],
       "_model_module": "@jupyter-widgets/controls",
       "_model_module_version": "1.5.0",
       "_model_name": "FloatProgressModel",
       "_view_count": null,
       "_view_module": "@jupyter-widgets/controls",
       "_view_module_version": "1.5.0",
       "_view_name": "ProgressView",
       "bar_style": "success",
       "description": "",
       "description_tooltip": null,
       "layout": "IPY_MODEL_9e187a9014ab485a8dc2e8f29839290a",
       "max": 2202.0,
       "min": 0.0,
       "orientation": "horizontal",
       "style": "IPY_MODEL_a23151d925e64e1c95ae3fe881b92256",
       "value": 2202.0
      }
     },
     "e8b23ba518714dbdae87c53194192dd0": {
      "model_module": "@jupyter-widgets/base",
      "model_module_version": "1.2.0",
      "model_name": "LayoutModel",
      "state": {
       "_model_module": "@jupyter-widgets/base",
       "_model_module_version": "1.2.0",
       "_model_name": "LayoutModel",
       "_view_count": null,
       "_view_module": "@jupyter-widgets/base",
       "_view_module_version": "1.2.0",
       "_view_name": "LayoutView",
       "align_content": null,
       "align_items": null,
       "align_self": null,
       "border": null,
       "bottom": null,
       "display": null,
       "flex": null,
       "flex_flow": null,
       "grid_area": null,
       "grid_auto_columns": null,
       "grid_auto_flow": null,
       "grid_auto_rows": null,
       "grid_column": null,
       "grid_gap": null,
       "grid_row": null,
       "grid_template_areas": null,
       "grid_template_columns": null,
       "grid_template_rows": null,
       "height": null,
       "justify_content": null,
       "justify_items": null,
       "left": null,
       "margin": null,
       "max_height": null,
       "max_width": null,
       "min_height": null,
       "min_width": null,
       "object_fit": null,
       "object_position": null,
       "order": null,
       "overflow": null,
       "overflow_x": null,
       "overflow_y": null,
       "padding": null,
       "right": null,
       "top": null,
       "visibility": null,
       "width": null
      }
     },
     "ea9fad37a91c44488d45e75bd896c449": {
      "model_module": "@jupyter-widgets/controls",
      "model_module_version": "1.5.0",
      "model_name": "HTMLModel",
      "state": {
       "_dom_classes": [],
       "_model_module": "@jupyter-widgets/controls",
       "_model_module_version": "1.5.0",
       "_model_name": "HTMLModel",
       "_view_count": null,
       "_view_module": "@jupyter-widgets/controls",
       "_view_module_version": "1.5.0",
       "_view_name": "HTMLView",
       "description": "",
       "description_tooltip": null,
       "layout": "IPY_MODEL_e8b23ba518714dbdae87c53194192dd0",
       "placeholder": "​",
       "style": "IPY_MODEL_b93b879a99b3474da58d98c847e8f3ca",
       "value": " 5.27k/? [00:00&lt;00:00, 157kB/s]"
      }
     },
     "eb0f71f3cf974e14aa5725a055a00674": {
      "model_module": "@jupyter-widgets/controls",
      "model_module_version": "1.5.0",
      "model_name": "HBoxModel",
      "state": {
       "_dom_classes": [],
       "_model_module": "@jupyter-widgets/controls",
       "_model_module_version": "1.5.0",
       "_model_name": "HBoxModel",
       "_view_count": null,
       "_view_module": "@jupyter-widgets/controls",
       "_view_module_version": "1.5.0",
       "_view_name": "HBoxView",
       "box_style": "",
       "children": [
        "IPY_MODEL_cceabbb5d7f94538af1e03673efa36d6",
        "IPY_MODEL_070965298ca345dfa872972b0bce571e",
        "IPY_MODEL_85e49c1b7f874073a6e808cc2d58e7bb"
       ],
       "layout": "IPY_MODEL_78303f8413c645c4b71ed1a9b8c074c1"
      }
     },
     "f1a235c0b7ec4aeb81e70b1fbe4ff402": {
      "model_module": "@jupyter-widgets/controls",
      "model_module_version": "1.5.0",
      "model_name": "ProgressStyleModel",
      "state": {
       "_model_module": "@jupyter-widgets/controls",
       "_model_module_version": "1.5.0",
       "_model_name": "ProgressStyleModel",
       "_view_count": null,
       "_view_module": "@jupyter-widgets/base",
       "_view_module_version": "1.2.0",
       "_view_name": "StyleView",
       "bar_color": null,
       "description_width": ""
      }
     }
    },
    "version_major": 2,
    "version_minor": 0
   }
  }
 },
 "nbformat": 4,
 "nbformat_minor": 5
}
