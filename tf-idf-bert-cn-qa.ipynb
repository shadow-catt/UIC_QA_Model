{
 "cells": [
  {
   "cell_type": "markdown",
   "id": "3a9157ce",
   "metadata": {
    "papermill": {
     "duration": 0.013642,
     "end_time": "2022-08-03T13:40:55.777153",
     "exception": false,
     "start_time": "2022-08-03T13:40:55.763511",
     "status": "completed"
    },
    "tags": []
   },
   "source": [
    "# Read file"
   ]
  },
  {
   "cell_type": "code",
   "execution_count": 1,
   "id": "88898632",
   "metadata": {
    "execution": {
     "iopub.execute_input": "2022-08-03T13:40:55.804105Z",
     "iopub.status.busy": "2022-08-03T13:40:55.802855Z",
     "iopub.status.idle": "2022-08-03T13:41:08.485490Z",
     "shell.execute_reply": "2022-08-03T13:41:08.483684Z"
    },
    "papermill": {
     "duration": 12.698608,
     "end_time": "2022-08-03T13:41:08.488059",
     "exception": false,
     "start_time": "2022-08-03T13:40:55.789451",
     "status": "completed"
    },
    "tags": []
   },
   "outputs": [
    {
     "name": "stdout",
     "output_type": "stream",
     "text": [
      "Collecting openpyxl\r\n",
      "  Downloading openpyxl-3.0.10-py2.py3-none-any.whl (242 kB)\r\n",
      "\u001b[2K     \u001b[90m━━━━━━━━━━━━━━━━━━━━━━━━━━━━━━━━━━━━━━━\u001b[0m \u001b[32m242.1/242.1 kB\u001b[0m \u001b[31m4.2 MB/s\u001b[0m eta \u001b[36m0:00:00\u001b[0m\r\n",
      "\u001b[?25hCollecting et-xmlfile\r\n",
      "  Downloading et_xmlfile-1.1.0-py3-none-any.whl (4.7 kB)\r\n",
      "Installing collected packages: et-xmlfile, openpyxl\r\n",
      "Successfully installed et-xmlfile-1.1.0 openpyxl-3.0.10\r\n",
      "\u001b[33mWARNING: Running pip as the 'root' user can result in broken permissions and conflicting behaviour with the system package manager. It is recommended to use a virtual environment instead: https://pip.pypa.io/warnings/venv\u001b[0m\u001b[33m\r\n",
      "\u001b[0mNote: you may need to restart the kernel to use updated packages.\n"
     ]
    }
   ],
   "source": [
    "pip install openpyxl"
   ]
  },
  {
   "cell_type": "code",
   "execution_count": 2,
   "id": "ccf8422a",
   "metadata": {
    "execution": {
     "iopub.execute_input": "2022-08-03T13:41:08.515785Z",
     "iopub.status.busy": "2022-08-03T13:41:08.515383Z",
     "iopub.status.idle": "2022-08-03T13:41:21.339003Z",
     "shell.execute_reply": "2022-08-03T13:41:21.337797Z"
    },
    "papermill": {
     "duration": 12.840813,
     "end_time": "2022-08-03T13:41:21.341689",
     "exception": false,
     "start_time": "2022-08-03T13:41:08.500876",
     "status": "completed"
    },
    "tags": []
   },
   "outputs": [],
   "source": [
    "# import libaray\n",
    "import re\n",
    "import torch\n",
    "import jieba\n",
    "from jieba import analyse\n",
    "import pandas as pd\n",
    "import numpy as np\n",
    "from gensim import corpora, models, similarities\n",
    "from termcolor import colored\n",
    "from sklearn.model_selection import train_test_split\n",
    "from transformers import BertTokenizer, BertModel"
   ]
  },
  {
   "cell_type": "code",
   "execution_count": 3,
   "id": "5183075d",
   "metadata": {
    "execution": {
     "iopub.execute_input": "2022-08-03T13:41:21.370181Z",
     "iopub.status.busy": "2022-08-03T13:41:21.369504Z",
     "iopub.status.idle": "2022-08-03T13:41:21.376442Z",
     "shell.execute_reply": "2022-08-03T13:41:21.375162Z"
    },
    "papermill": {
     "duration": 0.024266,
     "end_time": "2022-08-03T13:41:21.378816",
     "exception": false,
     "start_time": "2022-08-03T13:41:21.354550",
     "status": "completed"
    },
    "tags": []
   },
   "outputs": [],
   "source": [
    "def read_and_split_the_excel(path):\n",
    "    \"\"\"\n",
    "    :func: 根据xlsx文件获取问题list和答案list（需要更新openyxl）\n",
    "    :param path: 文件路径\n",
    "    :return: 问题list，答案list\n",
    "    \"\"\"\n",
    "    # 读取文件\n",
    "    df1 = pd.read_excel(path)\n",
    "    # 分开\n",
    "    question_list = df1.iloc[:,0].tolist()\n",
    "    answer_list = df1.iloc[:,1].tolist()\n",
    "    # 返回\n",
    "    return question_list,answer_list"
   ]
  },
  {
   "cell_type": "code",
   "execution_count": 4,
   "id": "0e858162",
   "metadata": {
    "execution": {
     "iopub.execute_input": "2022-08-03T13:41:21.406290Z",
     "iopub.status.busy": "2022-08-03T13:41:21.405601Z",
     "iopub.status.idle": "2022-08-03T13:41:21.678384Z",
     "shell.execute_reply": "2022-08-03T13:41:21.677262Z"
    },
    "papermill": {
     "duration": 0.289333,
     "end_time": "2022-08-03T13:41:21.680835",
     "exception": false,
     "start_time": "2022-08-03T13:41:21.391502",
     "status": "completed"
    },
    "tags": []
   },
   "outputs": [
    {
     "data": {
      "text/plain": [
       "['UIC的办学性质是什么？', '学校现在有多少在校生？', 'UIC的全称是什么？']"
      ]
     },
     "metadata": {},
     "output_type": "display_data"
    }
   ],
   "source": [
    "# 测试read_and_split_the_excel\n",
    "question_list,answer_list = read_and_split_the_excel(\"../input/uic-cn-admission/CN_QA_dataset_all.xlsx\")\n",
    "display(question_list[:3])"
   ]
  },
  {
   "cell_type": "markdown",
   "id": "bff9cbfc",
   "metadata": {
    "papermill": {
     "duration": 0.012633,
     "end_time": "2022-08-03T13:41:21.706630",
     "exception": false,
     "start_time": "2022-08-03T13:41:21.693997",
     "status": "completed"
    },
    "tags": []
   },
   "source": [
    "# TF-IDF-CN"
   ]
  },
  {
   "cell_type": "code",
   "execution_count": 5,
   "id": "2830cb75",
   "metadata": {
    "execution": {
     "iopub.execute_input": "2022-08-03T13:41:21.734291Z",
     "iopub.status.busy": "2022-08-03T13:41:21.733877Z",
     "iopub.status.idle": "2022-08-03T13:41:21.739419Z",
     "shell.execute_reply": "2022-08-03T13:41:21.738506Z"
    },
    "papermill": {
     "duration": 0.021676,
     "end_time": "2022-08-03T13:41:21.741346",
     "exception": false,
     "start_time": "2022-08-03T13:41:21.719670",
     "status": "completed"
    },
    "tags": []
   },
   "outputs": [],
   "source": [
    "# 导入停用词表\n",
    "def obtain_stop_word(path):\n",
    "    \"\"\"\n",
    "    :func: 获取stop_word\n",
    "    :param path: 文件路径\n",
    "    :return: 返回stop_word list\n",
    "    \"\"\"\n",
    "    stop_words = [line.strip() for line in open(path).readlines()]\n",
    "    stop_words.extend([\"\",\" \"])\n",
    "    return stop_words"
   ]
  },
  {
   "cell_type": "code",
   "execution_count": 6,
   "id": "8cc830c1",
   "metadata": {
    "execution": {
     "iopub.execute_input": "2022-08-03T13:41:21.769587Z",
     "iopub.status.busy": "2022-08-03T13:41:21.769152Z",
     "iopub.status.idle": "2022-08-03T13:41:21.779475Z",
     "shell.execute_reply": "2022-08-03T13:41:21.778447Z"
    },
    "papermill": {
     "duration": 0.027281,
     "end_time": "2022-08-03T13:41:21.781753",
     "exception": false,
     "start_time": "2022-08-03T13:41:21.754472",
     "status": "completed"
    },
    "tags": []
   },
   "outputs": [
    {
     "data": {
      "text/plain": [
       "['$',\n",
       " '0',\n",
       " '1',\n",
       " '2',\n",
       " '3',\n",
       " '4',\n",
       " '5',\n",
       " '6',\n",
       " '7',\n",
       " '8',\n",
       " '9',\n",
       " '?',\n",
       " '_',\n",
       " '“',\n",
       " '”',\n",
       " '、',\n",
       " '。',\n",
       " '《',\n",
       " '》',\n",
       " '一',\n",
       " '一些',\n",
       " '一何',\n",
       " '一切',\n",
       " '一则',\n",
       " '一方面']"
      ]
     },
     "execution_count": 6,
     "metadata": {},
     "output_type": "execute_result"
    }
   ],
   "source": [
    "# obtain stop word 代码测试\n",
    "# 使用的是cn_stopwords，在kaggle搜索哈工大第一个\n",
    "path = '../input/english-and-chinese-stopwords/cn_stopwords.txt'\n",
    "stop_words = obtain_stop_word(path)\n",
    "stop_words[:25]"
   ]
  },
  {
   "cell_type": "code",
   "execution_count": 7,
   "id": "1418883b",
   "metadata": {
    "execution": {
     "iopub.execute_input": "2022-08-03T13:41:21.810206Z",
     "iopub.status.busy": "2022-08-03T13:41:21.809467Z",
     "iopub.status.idle": "2022-08-03T13:41:21.815626Z",
     "shell.execute_reply": "2022-08-03T13:41:21.814610Z"
    },
    "papermill": {
     "duration": 0.023073,
     "end_time": "2022-08-03T13:41:21.817977",
     "exception": false,
     "start_time": "2022-08-03T13:41:21.794904",
     "status": "completed"
    },
    "tags": []
   },
   "outputs": [],
   "source": [
    "def cn_stop_word_rm(sentence,stop_words):\n",
    "    \"\"\"\n",
    "    :func: 将输入的句子分词并且移除stopword，返回list\n",
    "    :param stop_words: 需要移除的stopword（用的是cn_stopwords）\n",
    "        eg:\n",
    "                ['$', '0', '1', '2', '3', '4', '5', '6', '7', '8',\n",
    "                '9', '?', '_', '“', '”', '、', '。','《', '》', '一',\n",
    "                '一些', '一何', '一切', '一则', '一方面', '一旦', '一来']\n",
    "    :param sentence: 句子\n",
    "        eg:\n",
    "            \"今天我想摆烂，你能拿我咋办，摸鱼我说了算\"\n",
    "    :return: 返回分词后的token list\n",
    "    \"\"\"\n",
    "    # split the sentence\n",
    "    word_tokens = list(jieba.cut_for_search(sentence))\n",
    "    \n",
    "    # remove stop words\n",
    "    query = [w.lower() for w in word_tokens if not w in stop_words] \n",
    "#     print(query)\n",
    "#     question_list[index] = ' '.join(line for line in query)\n",
    "    return query"
   ]
  },
  {
   "cell_type": "code",
   "execution_count": 8,
   "id": "7a7ce0df",
   "metadata": {
    "execution": {
     "iopub.execute_input": "2022-08-03T13:41:21.846326Z",
     "iopub.status.busy": "2022-08-03T13:41:21.845928Z",
     "iopub.status.idle": "2022-08-03T13:41:22.902946Z",
     "shell.execute_reply": "2022-08-03T13:41:22.901645Z"
    },
    "papermill": {
     "duration": 1.07412,
     "end_time": "2022-08-03T13:41:22.905388",
     "exception": false,
     "start_time": "2022-08-03T13:41:21.831268",
     "status": "completed"
    },
    "tags": []
   },
   "outputs": [
    {
     "name": "stderr",
     "output_type": "stream",
     "text": [
      "Building prefix dict from the default dictionary ...\n",
      "Dumping model to file cache /tmp/jieba.cache\n",
      "Loading model cost 1.044 seconds.\n",
      "Prefix dict has been built successfully.\n"
     ]
    },
    {
     "data": {
      "text/plain": [
       "['认为',\n",
       " '关键',\n",
       " '问题',\n",
       " '关键问题',\n",
       " '所谓',\n",
       " '问题',\n",
       " '关键',\n",
       " '问题',\n",
       " '关键',\n",
       " '关键在于',\n",
       " '把握',\n",
       " '关键',\n",
       " '问题',\n",
       " '关键问题',\n",
       " '任务',\n",
       " '关键']"
      ]
     },
     "execution_count": 8,
     "metadata": {},
     "output_type": "execute_result"
    }
   ],
   "source": [
    "# 测试cn_stop_word_rm\n",
    "sentence = \"我们认为，关键问题就是所谓问题的关键，所以问题的关键在于我们如何把握关键问题，这个是我们任务的关键\"\n",
    "query = cn_stop_word_rm(sentence,stop_words)\n",
    "query"
   ]
  },
  {
   "cell_type": "code",
   "execution_count": 9,
   "id": "c21c6740",
   "metadata": {
    "execution": {
     "iopub.execute_input": "2022-08-03T13:41:22.935134Z",
     "iopub.status.busy": "2022-08-03T13:41:22.934455Z",
     "iopub.status.idle": "2022-08-03T13:41:22.940849Z",
     "shell.execute_reply": "2022-08-03T13:41:22.939980Z"
    },
    "papermill": {
     "duration": 0.023563,
     "end_time": "2022-08-03T13:41:22.942971",
     "exception": false,
     "start_time": "2022-08-03T13:41:22.919408",
     "status": "completed"
    },
    "tags": []
   },
   "outputs": [],
   "source": [
    "def generate_question_t_list(question_list, stop_words):\n",
    "    \"\"\"\n",
    "    :func: 将输入的问句分词逐个转为token list\n",
    "    \n",
    "    :param question_list: 句子列表\n",
    "        eg:\n",
    "            [\"今天我想摆烂\"，\n",
    "            \"你能拿我咋办\"，\n",
    "            \"摸鱼我说了算\"]\n",
    "            \n",
    "    :param stop_words: 需要移除的stopword（用的是cn_stopwords）\n",
    "        eg:\n",
    "                ['$', '0', '1', '2', '3', '4', '5', '6', '7', '8',\n",
    "                '9', '?', '_', '“', '”', '、', '。','《', '》', '一',\n",
    "                '一些', '一何', '一切', '一则', '一方面', '一旦', '一来']\n",
    "    \n",
    "    :return: 返回question_list每句分词后的token list\n",
    "    \"\"\"\n",
    "    \n",
    "    # transfer the question list into the token form\n",
    "    question_token_list = ['' for i in range(len(question_list))]\n",
    "    \n",
    "    for index in range(len(question_list)):\n",
    "        # split the sentence\n",
    "        question_token_list[index] = cn_stop_word_rm(question_list[index],stop_words)\n",
    "    # return the token list\n",
    "    return question_token_list"
   ]
  },
  {
   "cell_type": "code",
   "execution_count": 10,
   "id": "e0d6d66c",
   "metadata": {
    "execution": {
     "iopub.execute_input": "2022-08-03T13:41:22.972200Z",
     "iopub.status.busy": "2022-08-03T13:41:22.971432Z",
     "iopub.status.idle": "2022-08-03T13:41:23.119581Z",
     "shell.execute_reply": "2022-08-03T13:41:23.118576Z"
    },
    "papermill": {
     "duration": 0.165784,
     "end_time": "2022-08-03T13:41:23.122186",
     "exception": false,
     "start_time": "2022-08-03T13:41:22.956402",
     "status": "completed"
    },
    "tags": []
   },
   "outputs": [
    {
     "data": {
      "text/plain": [
       "[['uic', '办学', '性质'],\n",
       " ['学校', '现在', '在校', '在校生'],\n",
       " ['uic', '全称'],\n",
       " ['北师', '北师港', '浸大', '全称']]"
      ]
     },
     "execution_count": 10,
     "metadata": {},
     "output_type": "execute_result"
    }
   ],
   "source": [
    "# 测试generate_question_t_list\n",
    "question_token_list = generate_question_t_list(question_list, stop_words)\n",
    "question_token_list[:4]"
   ]
  },
  {
   "cell_type": "code",
   "execution_count": 11,
   "id": "c87390d8",
   "metadata": {
    "execution": {
     "iopub.execute_input": "2022-08-03T13:41:23.151539Z",
     "iopub.status.busy": "2022-08-03T13:41:23.150516Z",
     "iopub.status.idle": "2022-08-03T13:41:23.160263Z",
     "shell.execute_reply": "2022-08-03T13:41:23.159136Z"
    },
    "papermill": {
     "duration": 0.026937,
     "end_time": "2022-08-03T13:41:23.162631",
     "exception": false,
     "start_time": "2022-08-03T13:41:23.135694",
     "status": "completed"
    },
    "tags": []
   },
   "outputs": [],
   "source": [
    "def similarity_cn(Corp, query,topk = 3, threshold = 0.7,all_score_without_rank=0):\n",
    "    \"\"\"\n",
    "    :func: 计算问题与知识库中问题的相似度\n",
    "    :param Corp: 分词后的问题\n",
    "        eg:\n",
    "                [['UIC', '学校', '办学', '性质'],\n",
    "                 ['学校', '现在', '在校', '在校生'],\n",
    "                 ['UIC', '全称'],\n",
    "                 ['北师', '北师港', '浸大', '全称']]\n",
    "    :param query: 分词后的问题\n",
    "        eg:\n",
    "                ['UIC', '全称', '名字']\n",
    "    :return: 返回满足阈值要求的问题所在行索引——对应答案所在的行索引\n",
    "    \"\"\"\n",
    "\n",
    "    # 建立词典\n",
    "    dictionary = corpora.Dictionary(Corp)\n",
    "\n",
    "    # 基于词典，将分词列表集转换成稀疏向量集，即语料库\n",
    "    corpus = [dictionary.doc2bow(text) for text in Corp]\n",
    "    \n",
    "    # 训练TF-IDF模型，传入语料库进行训练\n",
    "    tfidf = models.TfidfModel(corpus)\n",
    "\n",
    "    # 用训练好的TF-IDF模型处理被检索文本，即语料库\n",
    "    corpus_tfidf = tfidf[corpus]\n",
    "    \n",
    "#     print(corpus_tfidf)\n",
    "    # # 得到TF-IDF值\n",
    "#     for temp in corpus_tfidf:\n",
    "#         print(temp)\n",
    "\n",
    "    vec_bow = dictionary.doc2bow(query)\n",
    "    vec_tfidf = tfidf[vec_bow]\n",
    "#     print(vec_tfidf)\n",
    "    \n",
    "    index = similarities.MatrixSimilarity(corpus_tfidf)\n",
    "#     print(index)\n",
    "    \n",
    "    sims = index[vec_tfidf]\n",
    "#     print(sims)\n",
    "\n",
    "\n",
    "    if all_score_without_rank:\n",
    "        return sims\n",
    "    else:\n",
    "        max_loc = np.argsort(sims)[::-1][:topk]\n",
    "    #     print(np.argsort(sims)[::-1])\n",
    "\n",
    "    #     top_max_sim = sims[max_loc]\n",
    "    #     print(top_max_sim)\n",
    "\n",
    "        # if the score is larger than the threshold\n",
    "        if sims[max_loc[0]] < threshold:\n",
    "            if_vaild = 0\n",
    "        else:\n",
    "            if_vaild = 1\n",
    "\n",
    "        return if_vaild, max_loc, sims\n",
    "\n",
    "# 未来可能的改进\n",
    "# row_index默认为-1，即未匹配到满足相似度阈值的问题"
   ]
  },
  {
   "cell_type": "code",
   "execution_count": 12,
   "id": "dd70dcac",
   "metadata": {
    "execution": {
     "iopub.execute_input": "2022-08-03T13:41:23.192376Z",
     "iopub.status.busy": "2022-08-03T13:41:23.191929Z",
     "iopub.status.idle": "2022-08-03T13:41:23.293957Z",
     "shell.execute_reply": "2022-08-03T13:41:23.292770Z"
    },
    "papermill": {
     "duration": 0.120953,
     "end_time": "2022-08-03T13:41:23.297068",
     "exception": false,
     "start_time": "2022-08-03T13:41:23.176115",
     "status": "completed"
    },
    "tags": []
   },
   "outputs": [
    {
     "data": {
      "text/plain": [
       "1"
      ]
     },
     "metadata": {},
     "output_type": "display_data"
    },
    {
     "data": {
      "text/plain": [
       "array([2, 3, 5])"
      ]
     },
     "metadata": {},
     "output_type": "display_data"
    },
    {
     "data": {
      "text/plain": [
       "array([0.10827172, 0.        , 1.        ], dtype=float32)"
      ]
     },
     "metadata": {},
     "output_type": "display_data"
    }
   ],
   "source": [
    "# 测试\n",
    "Corp = question_token_list\n",
    "query = ['uic', '全称', '名字']\n",
    "if_vaild, max_loc, top_max_sim = similarity_cn(Corp, query)\n",
    "display(if_vaild)\n",
    "display(max_loc)\n",
    "display(top_max_sim[:3])"
   ]
  },
  {
   "cell_type": "code",
   "execution_count": 13,
   "id": "267250ee",
   "metadata": {
    "execution": {
     "iopub.execute_input": "2022-08-03T13:41:23.343633Z",
     "iopub.status.busy": "2022-08-03T13:41:23.343037Z",
     "iopub.status.idle": "2022-08-03T13:41:23.358522Z",
     "shell.execute_reply": "2022-08-03T13:41:23.357216Z"
    },
    "papermill": {
     "duration": 0.043157,
     "end_time": "2022-08-03T13:41:23.362292",
     "exception": false,
     "start_time": "2022-08-03T13:41:23.319135",
     "status": "completed"
    },
    "tags": []
   },
   "outputs": [],
   "source": [
    "# 单轮测试的Q&A\n",
    "# TF-IDF的测试代码\n",
    "def cn_main_single(question, data_file_path, stopword_file_path, topk = 3, threshold = 0.95):\n",
    "    # read the file\n",
    "    question_list,answer_list = read_and_split_the_excel(data_file_path)\n",
    "\n",
    "    # stop words list\n",
    "    stop_words = obtain_stop_word(stopword_file_path)\n",
    "    \n",
    "    # genetate question token list\n",
    "    question_token_list = generate_question_t_list(question_list, stop_words)\n",
    "\n",
    "\n",
    "    # can be modify as recurrence\n",
    "    \n",
    "\n",
    "    # 对查询的问题进行处理\n",
    "    query = cn_stop_word_rm(question, stop_words)\n",
    "\n",
    "    # 得到问题（答案）所对应的行索引\n",
    "    if_vaild, topk_idx, score = similarity_cn(question_token_list, query, topk, threshold)\n",
    "    \n",
    "    # 返回最相似的问题\n",
    "    print('top %d questions similar to \"%s\"' % (topk, colored(question, 'green')))\n",
    "    for idx in topk_idx:\n",
    "        print('TF-IDF; %s\\t%s' % (colored('%.4f' % score[idx], 'cyan'), colored(question_list[idx], 'yellow')))\n",
    "    print(\"The best similarity is:\", score[topk_idx[0]])\n",
    "    \n",
    "    # get the answer\n",
    "    if if_vaild:\n",
    "        print(answer_list[topk_idx[0]])\n",
    "    else:\n",
    "        print(\"Sorry, I don't know what you say\")\n",
    "    return 0"
   ]
  },
  {
   "cell_type": "code",
   "execution_count": 14,
   "id": "76f5e79d",
   "metadata": {
    "execution": {
     "iopub.execute_input": "2022-08-03T13:41:23.407362Z",
     "iopub.status.busy": "2022-08-03T13:41:23.406945Z",
     "iopub.status.idle": "2022-08-03T13:41:23.699815Z",
     "shell.execute_reply": "2022-08-03T13:41:23.698673Z"
    },
    "papermill": {
     "duration": 0.320087,
     "end_time": "2022-08-03T13:41:23.705013",
     "exception": false,
     "start_time": "2022-08-03T13:41:23.384926",
     "status": "completed"
    },
    "tags": []
   },
   "outputs": [
    {
     "name": "stdout",
     "output_type": "stream",
     "text": [
      "top 3 questions similar to \"\u001b[32m我想知道，UIC的全称叫什么名字\u001b[0m\"\n",
      "TF-IDF; \u001b[36m1.0000\u001b[0m\t\u001b[33mUIC的全称是什么？\u001b[0m\n",
      "TF-IDF; \u001b[36m0.4206\u001b[0m\t\u001b[33m北师港浸大的全称是什么？\u001b[0m\n",
      "TF-IDF; \u001b[36m0.3891\u001b[0m\t\u001b[33mUIC是什么？\u001b[0m\n",
      "The best similarity is: 1.0\n",
      "UIC的全称是北京师范大学-香港浸会大学联合国际学院。\n"
     ]
    },
    {
     "data": {
      "text/plain": [
       "0"
      ]
     },
     "execution_count": 14,
     "metadata": {},
     "output_type": "execute_result"
    }
   ],
   "source": [
    "# 测试\n",
    "data_file_path = \"../input/uic-cn-admission/CN_QA_dataset_all.xlsx\"\n",
    "stopword_file_path = '../input/english-and-chinese-stopwords/cn_stopwords.txt'\n",
    "quest_in = '我想知道，UIC的全称叫什么名字'\n",
    "cn_main_single(quest_in, data_file_path, stopword_file_path)"
   ]
  },
  {
   "cell_type": "code",
   "execution_count": 15,
   "id": "0ad9e124",
   "metadata": {
    "execution": {
     "iopub.execute_input": "2022-08-03T13:41:23.752534Z",
     "iopub.status.busy": "2022-08-03T13:41:23.751995Z",
     "iopub.status.idle": "2022-08-03T13:41:23.763330Z",
     "shell.execute_reply": "2022-08-03T13:41:23.762064Z"
    },
    "papermill": {
     "duration": 0.038558,
     "end_time": "2022-08-03T13:41:23.766363",
     "exception": false,
     "start_time": "2022-08-03T13:41:23.727805",
     "status": "completed"
    },
    "tags": []
   },
   "outputs": [],
   "source": [
    "# 最终的CN_main函数\n",
    "# TF-IDF的测试代码\n",
    "def cn_main(data_file_path, stopword_file_path):\n",
    "    # read the file\n",
    "    question_list,answer_list = read_and_split_the_excel(data_file_path)\n",
    "\n",
    "    # stop words list\n",
    "    stop_words = obtain_stop_word(stopword_file_path)\n",
    "    \n",
    "    # genetate question token list\n",
    "    question_token_list = generate_question_t_list(question_list, stop_words)\n",
    "    \n",
    "    while True:\n",
    "        question = input('Your question: ')\n",
    "        if question == \"quit\":\n",
    "            break\n",
    "        \n",
    "        # 对查询的问题进行处理\n",
    "        query = cn_stop_word_rm(question, stop_words)\n",
    "\n",
    "        # 得到问题（答案）所对应的行索引\n",
    "        row_index = similarity_cn(question_token_list, query)\n",
    "\n",
    "        # 判断是否有结果\n",
    "        if row_index != -2:\n",
    "            question, answer = get_qestion_answer(question_list, answer_list, row_index)\n",
    "            print(question)\n",
    "            print(answer)\n",
    "        else:\n",
    "            print(\"Sorry, I don't know what you say\")   \n",
    "\n",
    "    return 0"
   ]
  },
  {
   "cell_type": "code",
   "execution_count": 16,
   "id": "73b60fd5",
   "metadata": {
    "execution": {
     "iopub.execute_input": "2022-08-03T13:41:23.813303Z",
     "iopub.status.busy": "2022-08-03T13:41:23.812752Z",
     "iopub.status.idle": "2022-08-03T13:41:23.818323Z",
     "shell.execute_reply": "2022-08-03T13:41:23.817053Z"
    },
    "papermill": {
     "duration": 0.031827,
     "end_time": "2022-08-03T13:41:23.820636",
     "exception": false,
     "start_time": "2022-08-03T13:41:23.788809",
     "status": "completed"
    },
    "tags": []
   },
   "outputs": [],
   "source": [
    "# 测试\n",
    "data_file_path = \"../input/uic-cn-admission/CN_QA_dataset_all.xlsx\"\n",
    "stopword_file_path = '../input/english-and-chinese-stopwords/cn_stopwords.txt'\n",
    "# cn_main(data_file_path, stopword_file_path)"
   ]
  },
  {
   "cell_type": "markdown",
   "id": "dfffd06b",
   "metadata": {
    "papermill": {
     "duration": 0.013726,
     "end_time": "2022-08-03T13:41:23.848794",
     "exception": false,
     "start_time": "2022-08-03T13:41:23.835068",
     "status": "completed"
    },
    "tags": []
   },
   "source": [
    "# BERT_Embedding CN"
   ]
  },
  {
   "cell_type": "code",
   "execution_count": 17,
   "id": "db4cdbe5",
   "metadata": {
    "execution": {
     "iopub.execute_input": "2022-08-03T13:41:23.878886Z",
     "iopub.status.busy": "2022-08-03T13:41:23.878114Z",
     "iopub.status.idle": "2022-08-03T13:41:23.884311Z",
     "shell.execute_reply": "2022-08-03T13:41:23.883366Z"
    },
    "papermill": {
     "duration": 0.024046,
     "end_time": "2022-08-03T13:41:23.886751",
     "exception": false,
     "start_time": "2022-08-03T13:41:23.862705",
     "status": "completed"
    },
    "tags": []
   },
   "outputs": [],
   "source": [
    "def transfer_sentence_vector(sentence,tokenizer,model):\n",
    "    \"\"\"\n",
    "    :func: 把句子embedding成向量\n",
    "    :param sentence: 句子\n",
    "    :param tokenizer: 分词器\n",
    "    :param model: 模型\n",
    "    :return: 转成的向量\n",
    "    \"\"\"\n",
    "    # generate question vector\n",
    "    encoded_input = tokenizer(sentence, return_tensors='pt')\n",
    "    output = model(**encoded_input)[1].detach().numpy()\n",
    "    return output.tolist()[0]"
   ]
  },
  {
   "cell_type": "code",
   "execution_count": 18,
   "id": "07b6bf7f",
   "metadata": {
    "execution": {
     "iopub.execute_input": "2022-08-03T13:41:23.917176Z",
     "iopub.status.busy": "2022-08-03T13:41:23.916413Z",
     "iopub.status.idle": "2022-08-03T13:41:40.107411Z",
     "shell.execute_reply": "2022-08-03T13:41:40.106449Z"
    },
    "papermill": {
     "duration": 16.209904,
     "end_time": "2022-08-03T13:41:40.110716",
     "exception": false,
     "start_time": "2022-08-03T13:41:23.900812",
     "status": "completed"
    },
    "tags": []
   },
   "outputs": [
    {
     "data": {
      "application/vnd.jupyter.widget-view+json": {
       "model_id": "6ad5bfac5a7d4c60abbea5e539369596",
       "version_major": 2,
       "version_minor": 0
      },
      "text/plain": [
       "Downloading:   0%|          | 0.00/107k [00:00<?, ?B/s]"
      ]
     },
     "metadata": {},
     "output_type": "display_data"
    },
    {
     "data": {
      "application/vnd.jupyter.widget-view+json": {
       "model_id": "ff6db8f0692c45b78f38fd3e86ad538a",
       "version_major": 2,
       "version_minor": 0
      },
      "text/plain": [
       "Downloading:   0%|          | 0.00/29.0 [00:00<?, ?B/s]"
      ]
     },
     "metadata": {},
     "output_type": "display_data"
    },
    {
     "data": {
      "application/vnd.jupyter.widget-view+json": {
       "model_id": "789246aad632486281949dd608b9fb1f",
       "version_major": 2,
       "version_minor": 0
      },
      "text/plain": [
       "Downloading:   0%|          | 0.00/624 [00:00<?, ?B/s]"
      ]
     },
     "metadata": {},
     "output_type": "display_data"
    },
    {
     "data": {
      "application/vnd.jupyter.widget-view+json": {
       "model_id": "a501ac108de44712b606f54a68a44a11",
       "version_major": 2,
       "version_minor": 0
      },
      "text/plain": [
       "Downloading:   0%|          | 0.00/393M [00:00<?, ?B/s]"
      ]
     },
     "metadata": {},
     "output_type": "display_data"
    },
    {
     "name": "stderr",
     "output_type": "stream",
     "text": [
      "Some weights of the model checkpoint at bert-base-chinese were not used when initializing BertModel: ['cls.predictions.transform.dense.weight', 'cls.predictions.bias', 'cls.predictions.transform.dense.bias', 'cls.predictions.decoder.weight', 'cls.seq_relationship.weight', 'cls.predictions.transform.LayerNorm.weight', 'cls.predictions.transform.LayerNorm.bias', 'cls.seq_relationship.bias']\n",
      "- This IS expected if you are initializing BertModel from the checkpoint of a model trained on another task or with another architecture (e.g. initializing a BertForSequenceClassification model from a BertForPreTraining model).\n",
      "- This IS NOT expected if you are initializing BertModel from the checkpoint of a model that you expect to be exactly identical (initializing a BertForSequenceClassification model from a BertForSequenceClassification model).\n"
     ]
    },
    {
     "name": "stdout",
     "output_type": "stream",
     "text": [
      "[0.9995291829109192, 0.999877393245697, 0.9812514185905457, 0.9879932999610901, 0.9224331974983215, 0.6182746887207031, -0.6998699903488159, 0.9265468120574951, 0.9752839803695679, -0.9983439445495605, 0.9999923706054688, 0.9989728331565857, 0.9653666019439697, -0.791135311126709, 0.9990866780281067, -0.9998182654380798, 0.8282744288444519, 0.9996429681777954, 0.9712729454040527, 0.28822869062423706, 0.9996145963668823, -0.9999863505363464, -0.9714978933334351, -0.9338252544403076, -0.08185579627752304, 0.9993001222610474, 0.9836791753768921, 0.2707619369029999, -0.999713659286499, 0.997393012046814, 0.9350379109382629, 0.9993559122085571, 0.9562469720840454, -0.999920666217804, -0.9999659657478333, 0.42838069796562195, -0.9091864228248596, 0.7876582145690918, -0.6098946928977966, -0.9389352798461914, -0.9700639247894287, -0.1435333788394928, 0.8450793027877808, -0.9975762367248535, -0.9844191670417786, 0.4589720070362091, -0.9999994039535522, -0.9997289776802063, 0.8935610055923462, 0.9999414086341858, -0.6940788626670837, -0.9997935891151428, 0.512811005115509, -0.7491139769554138, 0.28502413630485535, 0.9773259162902832, -0.9976924061775208, 0.9980193376541138, 0.9999989867210388, 0.5583182573318481, 0.9989185333251953, -0.9679765701293945, -0.5873320698738098, -0.9996838569641113, 0.9999591112136841, -0.9981565475463867, -0.9713394641876221, 0.7732158899307251, 0.9996758699417114, 0.9999954700469971, -0.8238794803619385, 0.893147349357605, 0.9999921321868896, 0.981615424156189, -0.22679533064365387, 0.99805748462677, -0.999622106552124, 0.7653765678405762, -0.9999896883964539, 0.19403457641601562, 0.9999924898147583, 0.9974191188812256, -0.7378068566322327, 0.8470122218132019, -0.9680051207542419, -0.9998252391815186, -0.9997828602790833, 0.9999576807022095, -0.960946261882782, 0.4419309198856354, 0.9943153858184814, -0.9993120431900024, -0.9999979734420776, 0.995190441608429, -0.9975746870040894, -0.9959238171577454, -0.9994492530822754, 0.9985048770904541, -0.8831263184547424, -0.6516310572624207, -0.06338389217853546, 0.9336671233177185, -0.9945393204689026, -0.9946762919425964, 0.9988419413566589, 0.9944729804992676, 0.4773637056350708, -0.9996991157531738, 0.9999680519104004, 0.6056841611862183, -0.9999991655349731, -0.41067633032798767, -0.9994063377380371, -0.05475092679262161, -0.9799818396568298, 0.9983141422271729, 0.41459619998931885, -0.940933883190155, 0.9975626468658447, -0.9928151965141296, 0.6719083786010742, -0.9990485906600952, -0.906090497970581, -0.9866848587989807, 0.9912747144699097, 0.9998864531517029, 0.9977195858955383, -0.9987654685974121, 0.9961328506469727, 0.9999861717224121, 0.990881621837616, 0.9972136616706848, -0.9913853406906128, 0.9738879203796387, 0.5309779047966003, -0.9581418037414551, 0.9293396472930908, -0.5467537641525269, 0.9999918937683105, 0.9759006500244141, 0.9984230399131775, -0.8008812665939331, 0.9981766939163208, -0.9915837645530701, 0.999880850315094, -0.9998500347137451, 0.9984908103942871, -0.9999502897262573, -0.994941771030426, 0.9989278316497803, 0.8883689045906067, 0.9999978542327881, -0.8375095725059509, 0.9998779892921448, -0.9916939735412598, -0.9985108375549316, 0.9918736219406128, 0.8075675368309021, 0.9989928007125854, -0.9999459981918335, 0.9757816791534424, 0.8859193921089172, 0.4848882853984833, 0.166360005736351, -0.9999997615814209, 0.9998651742935181, -0.7994730472564697, 0.999981164932251, 0.9969744682312012, -0.2778176963329315, -0.985917329788208, -0.9990493059158325, 0.9396717548370361, -0.9994046688079834, -0.9970362186431885, 0.9545055627822876, -0.5992063879966736, 0.9987733960151672, -0.9532694816589355, -0.947364866733551, -0.4593472182750702, -0.8766406774520874, -0.9999343752861023, 0.9874522686004639, -0.1715129017829895, 0.15761777758598328, 0.9870197772979736, 0.6953307390213013, 0.9955615997314453, 0.9111224412918091, 0.25827276706695557, 0.9998816251754761, -0.010205037891864777, 0.9841132164001465, 0.9997756481170654, -0.2997971773147583, -0.9617951512336731, -0.995800256729126, -0.9999861121177673, -0.6415916681289673, 0.999904453754425, -0.3316965699195862, -0.9994432926177979, 0.8578005433082581, -0.9999544620513916, 0.9797776937484741, -0.9019811749458313, 0.29543203115463257, -0.2176627665758133, -0.9999697804450989, 0.9965700507164001, -0.9837806820869446, -0.9984768033027649, 0.9592572450637817, 0.3601143956184387, -0.4753163754940033, -0.9991469979286194, 0.4444734752178192, 0.9963337182998657, 0.06495756655931473, 0.9518594741821289, -0.9764686226844788, -0.9968357682228088, 0.602812647819519, -0.9693456292152405, 0.8499876260757446, 0.992746889591217, 0.999997079372406, 0.9980208277702332, -0.2831743359565735, -0.7933180332183838, 0.9996224641799927, 0.8303068280220032, -0.9999995827674866, 0.84383624792099, -0.985590398311615, -0.9467517733573914, 0.9998342394828796, -0.9979739785194397, 0.8747915029525757, 0.9999473690986633, 0.8358901739120483, 0.9999989867210388, -0.9636445641517639, -0.9913870692253113, -0.9984024167060852, 0.9999957084655762, 0.9951388835906982, 0.9995172023773193, -0.995660126209259, -0.9996344447135925, 0.628238320350647, -0.6212915778160095, -0.9999862909317017, -0.9998714327812195, -0.7084651589393616, 0.9963851571083069, 0.9997062683105469, 0.757622241973877, -0.9358266592025757, 0.46050602197647095, -0.9968852400779724, 0.9999775290489197, -0.9468255639076233, 0.9999606013298035, 0.9314685463905334, -0.9289954304695129, -0.9292157292366028, 0.9653703570365906, -0.6992391347885132, -0.9995877146720886, -0.7389964461326599, -0.9997544288635254, -0.9355388879776001, -0.99989253282547, 0.9841052293777466, -0.9995244741439819, -0.9999985098838806, 0.8576135039329529, 0.9999297261238098, 0.614077627658844, -0.9998223781585693, 0.998500645160675, 0.9972022771835327, 0.30776190757751465, -0.95206218957901, 0.7764040231704712, -0.9999977946281433, 0.9999988675117493, -0.9982182383537292, 0.7241272926330566, -0.7477638125419617, -0.9753167033195496, -0.5318251252174377, 0.9969922304153442, 0.9944530129432678, -0.9874976277351379, -0.8429068922996521, -0.9650496244430542, -0.9995044469833374, -0.31521737575531006, 0.9979555606842041, -0.41173213720321655, 0.9916112422943115, -0.9544636011123657, -0.9521496295928955, 0.2843065857887268, -0.996157705783844, -0.9988119602203369, -0.8625658750534058, 0.9999942183494568, -0.9485958218574524, 0.9999983906745911, 0.952269971370697, 0.9999983310699463, 0.0853496566414833, -0.9972866177558899, 0.9874400496482849, 0.8506855368614197, -0.11085140705108643, 0.5469540953636169, -0.6458656191825867, 0.9459245204925537, -0.6189967393875122, 0.5276058316230774, -0.9991321563720703, 0.9997982382774353, 0.9973545074462891, 0.9922476410865784, 0.9626889228820801, -0.9443216323852539, 0.04916774854063988, 0.9729478359222412, -0.9898806214332581, 0.9982114434242249, -0.9994847178459167, -0.7538649439811707, 0.9974307417869568, 0.999930202960968, 0.9989942908287048, 0.46187976002693176, -0.17261913418769836, 0.9984276294708252, -0.9719153642654419, 0.9993388056755066, -0.9998792409896851, 0.9985483288764954, -0.5982435941696167, 0.9961332678794861, -0.9657251238822937, -0.8443037271499634, 0.9999526143074036, 0.9142436981201172, -0.28916484117507935, 0.9998422265052795, -0.9550970196723938, 0.9804858565330505, 0.9992297291755676, 0.9519000053405762, 0.9980993270874023, 0.981991171836853, 0.9999644756317139, -0.9915983080863953, -0.9971297979354858, -0.9954813718795776, -0.9932532906532288, -0.9935393333435059, -0.999991774559021, 0.4577268064022064, -0.9999446272850037, -0.9205334186553955, -0.0672333762049675, 0.3308522403240204, -0.21129123866558075, -0.9679363369941711, -0.740673303604126, -0.9284042119979858, 0.6239660382270813, -0.8734506368637085, 0.5371830463409424, 0.7725092172622681, -0.9970828890800476, -0.9907495975494385, -0.9999629855155945, -0.9976166486740112, 0.9186195731163025, 0.9998674392700195, -0.9998207688331604, 0.9930874109268188, -0.9999109506607056, -0.9638013243675232, 0.5505509376525879, -0.7313979864120483, -0.9110280871391296, 0.9988630414009094, -0.9999433755874634, 0.8350934386253357, 0.9988834261894226, 0.9999993443489075, 0.9973578453063965, 0.9995663166046143, -0.6347219944000244, -0.9999130964279175, -0.9994460344314575, -0.9998350739479065, -0.9999926686286926, -0.9997813105583191, 0.8572226762771606, 0.37821632623672485, -0.9999565482139587, -0.3046742379665375, 0.7916570901870728, 0.9999854564666748, 0.9917165637016296, -0.9993854761123657, 0.46050140261650085, -0.9977836608886719, -0.9613595008850098, 0.9953374266624451, -0.444673627614975, -0.9995585680007935, 0.9993395805358887, -0.4796218276023865, 0.9999383687973022, -0.5736720561981201, 0.9885688424110413, 0.9662150740623474, 0.8482676148414612, 0.9951086640357971, -0.9998611211776733, 0.9990934133529663, 0.9999827742576599, 0.9892688393592834, -0.9999843239784241, -0.9563599824905396, -0.956296980381012, -0.9999799132347107, -0.311225563287735, 0.7748767733573914, 0.9996581077575684, -0.9999195337295532, -0.6904474496841431, -0.9498007297515869, 0.6258945465087891, 0.9634805917739868, 0.9994992017745972, 0.9945295453071594, 0.9543536901473999, 0.9703060984611511, 0.9801467061042786, 0.4388335347175598, 0.9998860955238342, 0.6882820725440979, -0.9968953728675842, 0.9975296854972839, -0.08246124535799026, 0.24351219832897186, -0.9986909627914429, 0.9986504912376404, -0.981336772441864, 0.9998019933700562, 0.33690541982650757, 0.19824035465717316, -0.9901740550994873, -0.9988154768943787, 0.9845965504646301, 0.9999845623970032, -0.9758037328720093, 0.6718540787696838, -0.9972727298736572, -0.9997941255569458, -0.9848483204841614, -0.022468123584985733, -0.481367826461792, -0.9143078327178955, -0.9988619089126587, 0.07928057760000229, 0.993669331073761, 0.9999966025352478, 0.9999598264694214, 0.9943773150444031, -0.8426936864852905, -0.7162997126579285, 0.9882552027702332, -0.49696511030197144, 0.9962646961212158, -0.9597491025924683, -0.9999980330467224, -0.9036400318145752, -0.9987901449203491, 0.9998674392700195, -0.9874020218849182, -0.23877516388893127, -0.9741997718811035, 0.36091718077659607, 0.910994827747345, -0.9999772906303406, -0.9749011397361755, -0.9980263710021973, 0.9299007058143616, 0.999993622303009, -0.9994797706604004, 0.9561280012130737, -0.9989182949066162, -0.029289815574884415, 0.4705469310283661, 0.32502689957618713, 0.9425857663154602, -0.8861807584762573, -0.7909899950027466, -0.6595475673675537, 0.0911664143204689, 0.9970013499259949, 0.994916558265686, -0.9992669820785522, 0.6306168437004089, 0.9987589120864868, -0.8303784132003784, 0.9986932277679443, 0.45670583844184875, 0.905351996421814, 0.9745179414749146, 0.9999750852584839, 0.9827631711959839, 0.999450147151947, 0.5321612358093262, 0.9994332194328308, 0.9995880126953125, -0.9909557104110718, 0.8944137096405029, 0.704809844493866, -0.9394505023956299, 0.09014079719781876, 0.969168484210968, 0.9998787045478821, 0.47935163974761963, -0.7620232701301575, -0.998264491558075, 0.9986900687217712, 0.9995499849319458, 0.9999991655349731, -0.7881581783294678, 0.9779454469680786, -0.9649716019630432, 0.9955122470855713, 0.3704712390899658, 0.8140377998352051, -0.16438469290733337, 0.17678450047969818, 0.9932525157928467, 0.9977254867553711, -0.999932050704956, -0.9998923540115356, -0.9999995827674866, 0.9999898076057434, 0.9995683431625366, -0.9827625155448914, -0.9999977946281433, 0.9984210133552551, -0.7000480890274048, 0.9628053307533264, 0.9911408424377441, 0.46310144662857056, -0.9955808520317078, 0.9208869934082031, -0.9986929297447205, -0.0641903206706047, -0.48064500093460083, 0.9536173939704895, 0.9193580150604248, 0.9976506233215332, -0.9994325637817383, 0.8412240743637085, 0.9999698996543884, 0.06864956021308899, 0.9999025464057922, -0.0002445802092552185, -0.9987636804580688, 0.9990425109863281, -0.9994069933891296, -0.9992481470108032, -0.931054413318634, 0.9993380904197693, 0.9981666207313538, -0.4422609508037567, 0.7757818102836609, 0.9962977170944214, -0.9997804760932922, 0.99994295835495, -0.9999127388000488, 0.6996282935142517, -0.9764465093612671, 0.9998736381530762, -0.9766359329223633, -0.980672299861908, -0.7547062039375305, 0.9805712103843689, 0.9467079639434814, -0.9293967485427856, 0.9999327659606934, -0.6592780947685242, -0.9900168180465698, 0.6940596103668213, -0.9911789894104004, -0.9907218217849731, -0.9341671466827393, -0.7885779142379761, -0.9999403357505798, 0.8789857625961304, -0.5270506739616394, -0.5538060069084167, -0.9815400838851929, -0.9998300671577454, 0.9998857378959656, -0.8579865097999573, -0.8650078773498535, 0.9998754858970642, -0.9937537908554077, -0.9999926090240479, 0.8690019845962524, -0.999702513217926, 0.24135681986808777, 0.9375369548797607, 0.8790449500083923, 0.5550227165222168, -0.9998286366462708, 0.5772491097450256, 0.9995560050010681, -0.9913349151611328, -0.884243369102478, -0.9589778780937195, -0.929794430732727, 0.8458584547042847, 0.9533873200416565, 0.9970844388008118, 0.01836906000971794, 0.8090689778327942, -0.6266387701034546, 0.858535885810852, -0.8483692407608032, -0.21849282085895538, -0.9945741891860962, -0.848355770111084, -0.49073314666748047, -0.9929422736167908, -0.9994181990623474, -0.9999382495880127, 0.9999988079071045, 0.9998406171798706, 0.9998218417167664, -0.6674951910972595, -0.6930462121963501, 0.2956923246383667, 0.991688072681427, -0.9994255900382996, -0.9174859523773193, 0.91042160987854, 0.9939497113227844, -0.6062780618667603, -0.9987035393714905, -0.5991456508636475, -0.9999402761459351, 0.6827238202095032, 0.411883145570755, -0.984347939491272, 0.6700519323348999, 0.9999822378158569, 0.9995314478874207, -0.9994840025901794, -0.997315526008606, -0.9907583594322205, -0.9982610940933228, 0.9996702075004578, 0.9975202083587646, 0.9981997609138489, -0.9529258608818054, -0.30656716227531433, 0.9927757382392883, 0.3886466324329376, -0.6962378621101379, -0.9935365915298462, -0.9795185923576355, -0.9999665021896362, 0.807319164276123, -0.9853695631027222, -0.9997134208679199, 0.997585117816925, 0.9998297691345215, 0.591032087802887, -0.999966025352478, -0.8837937712669373, 0.9997236132621765, 0.9912524223327637, 0.999998152256012, -0.2984176576137543, 0.9994988441467285, -0.9928010702133179, 0.9958868622779846, -0.9994227886199951, 0.9999774694442749, -0.9999486207962036, 0.9999721646308899, 0.9998826384544373, 0.9950763583183289, 0.9948235154151917, -0.9892100691795349, 0.9903923273086548, -0.997620165348053, 0.6508566737174988, 0.9882655143737793, -0.3982590138912201, -0.9943294525146484, 0.9779006242752075, 0.9805092215538025, -0.983654260635376, 0.9999883770942688, 0.8036367893218994, -0.40963271260261536, 0.2979210913181305, 0.9694376587867737, 0.4431231617927551, 0.36199426651000977, -0.9947726726531982, 0.9364529848098755, 0.9998278021812439, 0.9956204295158386, 0.9999889731407166, 0.796571671962738, 0.9998888373374939, -0.8841723203659058, -0.9927784204483032, 0.948891818523407, -0.7587893009185791, -0.5627856850624084, -0.999739408493042, 0.9999366998672485, 0.9994423985481262, -0.9994236826896667, -0.9957038760185242, 0.28470972180366516, 0.8417841196060181, 0.9999208450317383, 0.9982073307037354, 0.9997717142105103, 0.9783300161361694, 0.9013558030128479, 0.9880794882774353, -0.9966780543327332, -0.12481442838907242, -0.9949131011962891, -0.9880422353744507, 0.9999072551727295, -0.9695150256156921, 0.9987894296646118, -0.9941747188568115, 0.9978685975074768, -0.9946414232254028, 0.7879623174667358, 0.9837391376495361, 0.913768470287323, -0.9611086249351501, 0.9999687075614929, 0.3816114664077759, -0.9812024831771851, -0.47735705971717834, -0.9908143877983093, -0.9944505095481873, 0.9785968661308289]\n"
     ]
    }
   ],
   "source": [
    "# 测试\n",
    "tokenizer = BertTokenizer.from_pretrained('bert-base-chinese')\n",
    "model = BertModel.from_pretrained('bert-base-chinese')\n",
    "sentence = '学校现在有多少在校生？'\n",
    "print(transfer_sentence_vector(sentence,tokenizer,model))"
   ]
  },
  {
   "cell_type": "code",
   "execution_count": 19,
   "id": "db63ad58",
   "metadata": {
    "execution": {
     "iopub.execute_input": "2022-08-03T13:41:40.144777Z",
     "iopub.status.busy": "2022-08-03T13:41:40.143886Z",
     "iopub.status.idle": "2022-08-03T13:41:40.149617Z",
     "shell.execute_reply": "2022-08-03T13:41:40.148563Z"
    },
    "papermill": {
     "duration": 0.02501,
     "end_time": "2022-08-03T13:41:40.152384",
     "exception": false,
     "start_time": "2022-08-03T13:41:40.127374",
     "status": "completed"
    },
    "tags": []
   },
   "outputs": [],
   "source": [
    "def transfer_all_q2v(sentence_list,tokenizer,model):\n",
    "    \"\"\"\n",
    "    :func: 把句子list都embedding成向量\n",
    "    :param sentence: 句子的list\n",
    "    :param tokenizer: 分词器\n",
    "    :param model: 模型\n",
    "    :return: 转成的向量list\n",
    "    \"\"\"\n",
    "    doc_vecs=[]\n",
    "    for sentence in sentence_list:\n",
    "        doc_vecs.append(transfer_sentence_vector(sentence,tokenizer,model))\n",
    "    doc_vecs = np.array(doc_vecs)\n",
    "    return doc_vecs"
   ]
  },
  {
   "cell_type": "code",
   "execution_count": 20,
   "id": "e7033e23",
   "metadata": {
    "execution": {
     "iopub.execute_input": "2022-08-03T13:41:40.185118Z",
     "iopub.status.busy": "2022-08-03T13:41:40.184671Z",
     "iopub.status.idle": "2022-08-03T13:42:14.751663Z",
     "shell.execute_reply": "2022-08-03T13:42:14.750585Z"
    },
    "papermill": {
     "duration": 34.599995,
     "end_time": "2022-08-03T13:42:14.767791",
     "exception": false,
     "start_time": "2022-08-03T13:41:40.167796",
     "status": "completed"
    },
    "tags": []
   },
   "outputs": [
    {
     "data": {
      "text/plain": [
       "array([[ 0.99958241,  0.99990588,  0.81502736, ..., -0.996768  ,\n",
       "        -0.99450332,  0.95210838],\n",
       "       [ 0.99952918,  0.99987739,  0.98125142, ..., -0.99081439,\n",
       "        -0.99445051,  0.97859687],\n",
       "       [ 0.99907655,  0.99989069,  0.9948076 , ..., -0.99802631,\n",
       "        -0.97939253,  0.93087041],\n",
       "       ...,\n",
       "       [ 0.99916857,  0.99923247,  0.99998689, ..., -0.99986476,\n",
       "        -0.99519753,  0.66582525],\n",
       "       [ 0.99823868,  0.99970043,  0.9967646 , ..., -0.99984264,\n",
       "        -0.99581432,  0.73592114],\n",
       "       [ 0.99856842,  0.9996742 ,  0.99790406, ..., -0.99984467,\n",
       "        -0.99580306,  0.72018516]])"
      ]
     },
     "execution_count": 20,
     "metadata": {},
     "output_type": "execute_result"
    }
   ],
   "source": [
    "# 测试\n",
    "doc_vecs = transfer_all_q2v(question_list,tokenizer,model)\n",
    "doc_vecs"
   ]
  },
  {
   "cell_type": "code",
   "execution_count": 21,
   "id": "e954b547",
   "metadata": {
    "execution": {
     "iopub.execute_input": "2022-08-03T13:42:14.800380Z",
     "iopub.status.busy": "2022-08-03T13:42:14.799919Z",
     "iopub.status.idle": "2022-08-03T13:42:14.808381Z",
     "shell.execute_reply": "2022-08-03T13:42:14.807171Z"
    },
    "papermill": {
     "duration": 0.027328,
     "end_time": "2022-08-03T13:42:14.810849",
     "exception": false,
     "start_time": "2022-08-03T13:42:14.783521",
     "status": "completed"
    },
    "tags": []
   },
   "outputs": [],
   "source": [
    "def get_similar_q_id(query_vec,doc_vecs,tokenizer,model,topk = 5,threshold = 0.95, all_score_without_rank=0):\n",
    "    \"\"\"\n",
    "    :func: 通过cosine similarity找到相似句子\n",
    "    :param sentence: 转为向量的句子\n",
    "    :param doc_vecs: 已经转换为向量的句子列表\n",
    "    :param topk: 显示前topk个最相似的句子\n",
    "    :param threshold: 认为是匹配的问句的有效阈值\n",
    "    :param tokenizer: 分词器\n",
    "    :param model: 模型\n",
    "    :return: 是否达到要求，返回满足阈值要求的问题所在行索引——对应答案所在的行索引的np.array，相似度分数\n",
    "    \"\"\"\n",
    "    # compute normalized dot product as score\n",
    "    score = np.sum(query_vec * doc_vecs, axis=1) / np.linalg.norm(doc_vecs, axis=1) / np.linalg.norm(query_vec)\n",
    "    \n",
    "    if all_score_without_rank:\n",
    "        return score\n",
    "    else:\n",
    "        # get the top \"topk\" score's id\n",
    "        topk_idx = np.argsort(score)[::-1][:topk]\n",
    "\n",
    "        # if the score is larger than the threshold\n",
    "        if score[topk_idx[0]] < threshold:\n",
    "            if_vaild = 0\n",
    "        else:\n",
    "            if_vaild = 1\n",
    "\n",
    "        return if_vaild, topk_idx, score"
   ]
  },
  {
   "cell_type": "code",
   "execution_count": 22,
   "id": "42e14368",
   "metadata": {
    "execution": {
     "iopub.execute_input": "2022-08-03T13:42:14.843081Z",
     "iopub.status.busy": "2022-08-03T13:42:14.842353Z",
     "iopub.status.idle": "2022-08-03T13:42:14.911582Z",
     "shell.execute_reply": "2022-08-03T13:42:14.910616Z"
    },
    "papermill": {
     "duration": 0.087902,
     "end_time": "2022-08-03T13:42:14.913825",
     "exception": false,
     "start_time": "2022-08-03T13:42:14.825923",
     "status": "completed"
    },
    "tags": []
   },
   "outputs": [
    {
     "data": {
      "text/plain": [
       "1"
      ]
     },
     "metadata": {},
     "output_type": "display_data"
    },
    {
     "data": {
      "text/plain": [
       "array([  1,  39, 503,  29,  10])"
      ]
     },
     "metadata": {},
     "output_type": "display_data"
    },
    {
     "data": {
      "text/plain": [
       "array([0.96110737, 1.        , 0.94652379, 0.92392588, 0.93067066])"
      ]
     },
     "metadata": {},
     "output_type": "display_data"
    }
   ],
   "source": [
    "# 测试\n",
    "sentence = '学校现在有多少在校生？'\n",
    "sentence_vec = transfer_sentence_vector(sentence,tokenizer,model)\n",
    "topk = 5\n",
    "threshold = 0.95\n",
    "if_vaild, topk_idx, score = get_similar_q_id(sentence_vec,doc_vecs,tokenizer,model,topk,threshold)\n",
    "display(if_vaild)\n",
    "display(topk_idx)\n",
    "display(score[:5])"
   ]
  },
  {
   "cell_type": "code",
   "execution_count": 23,
   "id": "73809057",
   "metadata": {
    "execution": {
     "iopub.execute_input": "2022-08-03T13:42:14.946103Z",
     "iopub.status.busy": "2022-08-03T13:42:14.945680Z",
     "iopub.status.idle": "2022-08-03T13:42:14.954745Z",
     "shell.execute_reply": "2022-08-03T13:42:14.953728Z"
    },
    "papermill": {
     "duration": 0.02776,
     "end_time": "2022-08-03T13:42:14.956853",
     "exception": false,
     "start_time": "2022-08-03T13:42:14.929093",
     "status": "completed"
    },
    "tags": []
   },
   "outputs": [],
   "source": [
    "# BERT的测试代码\n",
    "def main_single(query,data_path, bert_model_name, topk = 5, threshold = 0.95):\n",
    "    \"\"\"\n",
    "    :func: 一遍的匹配\n",
    "    :param data_path: 数据集的路径xlsx\n",
    "    :param bert_model_name: bert模型名字\n",
    "    :param topk: 显示前topk个最相似的句子\n",
    "    :param threshold: 认为是匹配的问句的有效阈值\n",
    "    :备注: 每次会返回前topk个最相似的问题和答案\n",
    "    :return: 0 程序执行成功的话\n",
    "    \"\"\"\n",
    "    # initial things\n",
    "    tokenizer = BertTokenizer.from_pretrained(bert_model_name)\n",
    "    model = BertModel.from_pretrained(bert_model_name)\n",
    "    question_list,answer_list = read_and_split_the_excel(path)\n",
    "    doc_vecs = transfer_all_q2v(question_list,tokenizer,model)\n",
    "    \n",
    "    # 这里开始循环\n",
    "    \n",
    "    query_vec = transfer_sentence_vector(query,tokenizer,model)\n",
    "    \n",
    "    # 匹配\n",
    "    if_vaild, topk_idx, score = get_similar_q_id(query_vec,doc_vecs,tokenizer,model,topk,threshold)\n",
    "    \n",
    "    # 返回最相似的问题\n",
    "    print('top %d questions similar to \"%s\"' % (topk, colored(query, 'green')))\n",
    "    for idx in topk_idx:\n",
    "        print('&gt; %s\\t%s' % (colored('%.4f' % score[idx], 'cyan'), colored(question_list[idx], 'yellow')))\n",
    "    print(\"The best similarity is:\", score[topk_idx[0]])\n",
    "    \n",
    "    # get the answer\n",
    "    if if_vaild:\n",
    "        print(answer_list[topk_idx[0]])\n",
    "    else:\n",
    "        print(\"Sorry, I don't know what you say\")\n",
    "    return 0"
   ]
  },
  {
   "cell_type": "code",
   "execution_count": 24,
   "id": "66fa2a76",
   "metadata": {
    "execution": {
     "iopub.execute_input": "2022-08-03T13:42:14.989855Z",
     "iopub.status.busy": "2022-08-03T13:42:14.989438Z",
     "iopub.status.idle": "2022-08-03T13:42:50.980688Z",
     "shell.execute_reply": "2022-08-03T13:42:50.979636Z"
    },
    "papermill": {
     "duration": 36.02817,
     "end_time": "2022-08-03T13:42:51.000798",
     "exception": false,
     "start_time": "2022-08-03T13:42:14.972628",
     "status": "completed"
    },
    "tags": []
   },
   "outputs": [
    {
     "name": "stderr",
     "output_type": "stream",
     "text": [
      "Some weights of the model checkpoint at bert-base-chinese were not used when initializing BertModel: ['cls.predictions.transform.dense.weight', 'cls.predictions.bias', 'cls.predictions.transform.dense.bias', 'cls.predictions.decoder.weight', 'cls.seq_relationship.weight', 'cls.predictions.transform.LayerNorm.weight', 'cls.predictions.transform.LayerNorm.bias', 'cls.seq_relationship.bias']\n",
      "- This IS expected if you are initializing BertModel from the checkpoint of a model trained on another task or with another architecture (e.g. initializing a BertForSequenceClassification model from a BertForPreTraining model).\n",
      "- This IS NOT expected if you are initializing BertModel from the checkpoint of a model that you expect to be exactly identical (initializing a BertForSequenceClassification model from a BertForSequenceClassification model).\n"
     ]
    },
    {
     "name": "stdout",
     "output_type": "stream",
     "text": [
      "top 5 questions similar to \"\u001b[32m学校现在有多少在校生？\u001b[0m\"\n",
      "&gt; \u001b[36m1.0000\u001b[0m\t\u001b[33m学校现在有多少在校生？\u001b[0m\n",
      "&gt; \u001b[36m0.9716\u001b[0m\t\u001b[33m学校招生办的通讯地址是什么？\u001b[0m\n",
      "&gt; \u001b[36m0.9700\u001b[0m\t\u001b[33m提供哪些小语种可以学习？\u001b[0m\n",
      "&gt; \u001b[36m0.9698\u001b[0m\t\u001b[33m学校毕业生的深造就业情况如何？\u001b[0m\n",
      "&gt; \u001b[36m0.9677\u001b[0m\t\u001b[33mUIC的教学质量怎么保证？\u001b[0m\n",
      "The best similarity is: 1.0000000000000002\n",
      "截至2021年10月底，北师港浸大现有本科、硕士、博士在校生共8100余人。\n"
     ]
    },
    {
     "data": {
      "text/plain": [
       "0"
      ]
     },
     "execution_count": 24,
     "metadata": {},
     "output_type": "execute_result"
    }
   ],
   "source": [
    "# 测试\n",
    "bert_model_name = 'bert-base-chinese'\n",
    "path = \"../input/uic-cn-admission/CN_QA_dataset_all.xlsx\"\n",
    "topk = 5\n",
    "threshold = 0.95\n",
    "query = '学校现在有多少在校生？'\n",
    "main_single(query, path, bert_model_name,topk, threshold)"
   ]
  },
  {
   "cell_type": "code",
   "execution_count": 25,
   "id": "a6bb0905",
   "metadata": {
    "execution": {
     "iopub.execute_input": "2022-08-03T13:42:51.033991Z",
     "iopub.status.busy": "2022-08-03T13:42:51.033589Z",
     "iopub.status.idle": "2022-08-03T13:42:51.043965Z",
     "shell.execute_reply": "2022-08-03T13:42:51.042780Z"
    },
    "papermill": {
     "duration": 0.029302,
     "end_time": "2022-08-03T13:42:51.046100",
     "exception": false,
     "start_time": "2022-08-03T13:42:51.016798",
     "status": "completed"
    },
    "tags": []
   },
   "outputs": [],
   "source": [
    "# BERT的测试代码\n",
    "def main(data_path, bert_model_name, topk = 5, threshold = 0.95):\n",
    "    \"\"\"\n",
    "    :func: 多遍的匹配\n",
    "    :param data_path: 数据集的路径xlsx\n",
    "    :param bert_model_name: bert模型名字\n",
    "    :param topk: 显示前topk个最相似的句子\n",
    "    :param threshold: 认为是匹配的问句的有效阈值\n",
    "    :备注: 每次会返回前topk个最相似的问题和答案\n",
    "    :return: 0 程序执行成功的话\n",
    "    \"\"\"\n",
    "    \n",
    "    # initial things\n",
    "    tokenizer = BertTokenizer.from_pretrained(bert_model_name)\n",
    "    model = BertModel.from_pretrained(bert_model_name)\n",
    "    question_list,answer_list = read_and_split_the_excel(path)\n",
    "    doc_vecs = transfer_all_q2v(question_list,tokenizer,model)\n",
    "    \n",
    "    # 这里开始循环\n",
    "    while True:\n",
    "        # 读取数据\n",
    "        query = input('Your question: ')\n",
    "        if query == \"quit\":\n",
    "            break\n",
    "        \n",
    "        # 转向量\n",
    "        query_vec = transfer_sentence_vector(query,tokenizer,model)\n",
    "\n",
    "        # 匹配\n",
    "        if_vaild, topk_idx, score = get_similar_q_id(query_vec,doc_vecs,tokenizer,model,topk,threshold)\n",
    "        \n",
    "        # 返回最相似的问题\n",
    "        print('top %d questions similar to \"%s\"' % (topk, colored(query, 'green')))\n",
    "        for idx in topk_idx:\n",
    "            print('&gt; %s\\t%s' % (colored('%.4f' % score[idx], 'cyan'), colored(question_list[idx], 'yellow')))\n",
    "        print(\"The best similarity is:\", score[topk_idx[0]])\n",
    "\n",
    "        # get the answer\n",
    "        if if_vaild:\n",
    "            print(answer_list[topk_idx[0]])\n",
    "        else:\n",
    "            print(\"抱歉，请换种方式来回答\")\n",
    "        \n",
    "    return 0"
   ]
  },
  {
   "cell_type": "code",
   "execution_count": 26,
   "id": "aad5c986",
   "metadata": {
    "execution": {
     "iopub.execute_input": "2022-08-03T13:42:51.079086Z",
     "iopub.status.busy": "2022-08-03T13:42:51.078290Z",
     "iopub.status.idle": "2022-08-03T13:42:51.083552Z",
     "shell.execute_reply": "2022-08-03T13:42:51.082716Z"
    },
    "papermill": {
     "duration": 0.024244,
     "end_time": "2022-08-03T13:42:51.085742",
     "exception": false,
     "start_time": "2022-08-03T13:42:51.061498",
     "status": "completed"
    },
    "tags": []
   },
   "outputs": [],
   "source": [
    "# 测试\n",
    "bert_model_name = 'bert-base-chinese'\n",
    "path = \"../input/uic-cn-admission/CN_QA_dataset_all.xlsx\"\n",
    "topk = 5\n",
    "threshold = 0.995\n",
    "# main(path, bert_model_name,topk, threshold)"
   ]
  },
  {
   "cell_type": "markdown",
   "id": "06005e7f",
   "metadata": {
    "papermill": {
     "duration": 0.015002,
     "end_time": "2022-08-03T13:42:51.116059",
     "exception": false,
     "start_time": "2022-08-03T13:42:51.101057",
     "status": "completed"
    },
    "tags": []
   },
   "source": [
    "# Merge togerther"
   ]
  },
  {
   "cell_type": "code",
   "execution_count": 27,
   "id": "1171d74e",
   "metadata": {
    "execution": {
     "iopub.execute_input": "2022-08-03T13:42:51.149300Z",
     "iopub.status.busy": "2022-08-03T13:42:51.148540Z",
     "iopub.status.idle": "2022-08-03T13:42:51.162107Z",
     "shell.execute_reply": "2022-08-03T13:42:51.161259Z"
    },
    "papermill": {
     "duration": 0.033012,
     "end_time": "2022-08-03T13:42:51.164556",
     "exception": false,
     "start_time": "2022-08-03T13:42:51.131544",
     "status": "completed"
    },
    "tags": []
   },
   "outputs": [],
   "source": [
    "# 单轮测试的Q&A\n",
    "# BERT+TF-IDF的测试代码\n",
    "def cn_main_mix_single(question, data_file_path, stopword_file_path, bert_model_name, topk_TFIDF = 3, threshold_TFIDF = 0.7, topk_BERT = 5, threshold_BERT = 0.95):\n",
    "    \"\"\"\n",
    "    :func: 一遍的匹配\n",
    "    :param question: 你提出来的问题\n",
    "    :param data_path: 数据集的路径xlsx\n",
    "    :param bert_model_name: bert模型名字\n",
    "    :param topk_TFIDF: TF-IDF中显示前topk个最相似的句子\n",
    "    :param threshold_TFIDF: TF-IDF中认为是匹配的问句的有效阈值\n",
    "    :param topk_BERT: BERT中显示前topk个最相似的句子\n",
    "    :param threshold_BERT: BERT中认为是匹配的问句的有效阈值\n",
    "    :备注: 每次会返回前topk个最相似的问题和答案\n",
    "    :return: 0 程序执行成功的话\n",
    "    \"\"\"\n",
    "    # read the file\n",
    "    question_list,answer_list = read_and_split_the_excel(data_file_path)\n",
    "    \n",
    "    # preparing for the TF-IDF\n",
    "    # stop words list\n",
    "    stop_words = obtain_stop_word(stopword_file_path)\n",
    "    # genetate question token list\n",
    "    question_token_list = generate_question_t_list(question_list, stop_words)\n",
    "    \n",
    "    # preparing for the Bert\n",
    "    tokenizer = BertTokenizer.from_pretrained(bert_model_name)\n",
    "    model = BertModel.from_pretrained(bert_model_name)\n",
    "    doc_vecs = transfer_all_q2v(question_list,tokenizer,model)\n",
    "\n",
    "    \n",
    "    \n",
    "    \n",
    "    # 这里开始循环 \n",
    "    # can be modify as recurrence\n",
    "    \n",
    "        \n",
    "    # get result\n",
    "    # from TF-IDF\n",
    "    # 对查询的问题进行处理\n",
    "    query = cn_stop_word_rm(question, stop_words)\n",
    "    # 得到问题（答案）所对应的行索引\n",
    "    if_vaild_TF, topk_idx_TF, score_TF = similarity_cn(question_token_list, query, topk_TFIDF, threshold_TFIDF)\n",
    "    # from embedding by BERT\n",
    "    query_vec = transfer_sentence_vector(question,tokenizer,model)\n",
    "    # 匹配\n",
    "    if_vaild_BERT, topk_idx_BERT, score_BERT = get_similar_q_id(query_vec,doc_vecs,tokenizer,model,topk_BERT,threshold_BERT)\n",
    "    \n",
    "    \n",
    "#     # print the result\n",
    "#     print('The questions similar to \"%s\"' % (colored(question, 'green')))\n",
    "#     if(if_vaild_TF):\n",
    "#         for idx in topk_idx_TF:\n",
    "#             print('TF-IDF; %s\\t%s' % (colored('%.4f' % score_TF[idx], 'cyan'), colored(question_list[idx], 'yellow')))\n",
    "#         for idx in topk_idx_BERT[:2]:\n",
    "#             print('BERT_emb; %s\\t%s' % (colored('%.4f' % score_BERT[idx], 'cyan'), colored(question_list[idx], 'yellow')))\n",
    "#         print(answer_list[topk_idx_TF[0]])\n",
    "#     elif(if_vaild_BERT):\n",
    "#         for idx in topk_idx_BERT[:3]:\n",
    "#             print('BERT_emb; %s\\t%s' % (colored('%.4f' % score_BERT[idx], 'cyan'), colored(question_list[idx], 'yellow')))\n",
    "#         for idx in topk_idx_TF[:2]:\n",
    "#             print('TF-IDF; %s\\t%s' % (colored('%.4f' % score_TF[idx], 'cyan'), colored(question_list[idx], 'yellow')))\n",
    "#         print(answer_list[topk_idx_BERT[0]])\n",
    "#     else:\n",
    "#         for idx in topk_idx_BERT[:5]:\n",
    "#             print('BERT_emb; %s\\t%s' % (colored('%.4f' % score_BERT[idx], 'cyan'), colored(question_list[idx], 'yellow')))\n",
    "#         print(\"Sorry, I don't know what you say\")\n",
    "    \n",
    "    # print the result version 2\n",
    "    # TF-IDF\n",
    "    # 返回最相似的问题\n",
    "    print('top few questions(TFIDF: %d, BERT: %d) similar to \"%s\"' % (topk_TFIDF, topk_BERT, colored(question, 'green')))\n",
    "    print(\"The best similarity is:\", score_TF[topk_idx_TF[0]])\n",
    "    print(\"The best similarity is:\", score_BERT[topk_idx_BERT[0]],\"\\n\")\n",
    "    \n",
    "    for idx in topk_idx_TF:\n",
    "        print('TF-IDF; %s\\t%s' % (colored('%.4f' % score_TF[idx], 'cyan'), colored(question_list[idx], 'yellow')))\n",
    "    \n",
    "    #Bert\n",
    "    for idx in topk_idx_BERT:\n",
    "        print('BERT_emb; %s\\t%s' % (colored('%.4f' % score_BERT[idx], 'cyan'), colored(question_list[idx], 'yellow')))\n",
    "    # get the best answer\n",
    "    if(if_vaild_TF):\n",
    "        print(answer_list[topk_idx_TF[0]])\n",
    "    elif(if_vaild_BERT):\n",
    "        print(answer_list[topk_idx_BERT[0]])\n",
    "    else:\n",
    "        print(\"Sorry, I don't know what you say\")\n",
    "    \n",
    "    \n",
    "    return 0"
   ]
  },
  {
   "cell_type": "code",
   "execution_count": 28,
   "id": "fbfff114",
   "metadata": {
    "execution": {
     "iopub.execute_input": "2022-08-03T13:42:51.197379Z",
     "iopub.status.busy": "2022-08-03T13:42:51.196616Z",
     "iopub.status.idle": "2022-08-03T13:43:27.338983Z",
     "shell.execute_reply": "2022-08-03T13:43:27.337791Z"
    },
    "papermill": {
     "duration": 36.1777,
     "end_time": "2022-08-03T13:43:27.357614",
     "exception": false,
     "start_time": "2022-08-03T13:42:51.179914",
     "status": "completed"
    },
    "tags": []
   },
   "outputs": [
    {
     "name": "stderr",
     "output_type": "stream",
     "text": [
      "Some weights of the model checkpoint at bert-base-chinese were not used when initializing BertModel: ['cls.predictions.transform.dense.weight', 'cls.predictions.bias', 'cls.predictions.transform.dense.bias', 'cls.predictions.decoder.weight', 'cls.seq_relationship.weight', 'cls.predictions.transform.LayerNorm.weight', 'cls.predictions.transform.LayerNorm.bias', 'cls.seq_relationship.bias']\n",
      "- This IS expected if you are initializing BertModel from the checkpoint of a model trained on another task or with another architecture (e.g. initializing a BertForSequenceClassification model from a BertForPreTraining model).\n",
      "- This IS NOT expected if you are initializing BertModel from the checkpoint of a model that you expect to be exactly identical (initializing a BertForSequenceClassification model from a BertForSequenceClassification model).\n"
     ]
    },
    {
     "name": "stdout",
     "output_type": "stream",
     "text": [
      "top few questions(TFIDF: 3, BERT: 5) similar to \"\u001b[32m我想知道，UIC的全称叫什么名字\u001b[0m\"\n",
      "The best similarity is: 1.0\n",
      "The best similarity is: 0.9732797151692254 \n",
      "\n",
      "TF-IDF; \u001b[36m1.0000\u001b[0m\t\u001b[33mUIC的全称是什么？\u001b[0m\n",
      "TF-IDF; \u001b[36m0.4206\u001b[0m\t\u001b[33m北师港浸大的全称是什么？\u001b[0m\n",
      "TF-IDF; \u001b[36m0.3891\u001b[0m\t\u001b[33mUIC是什么？\u001b[0m\n",
      "BERT_emb; \u001b[36m0.9733\u001b[0m\t\u001b[33mUIC是什么？\u001b[0m\n",
      "BERT_emb; \u001b[36m0.9665\u001b[0m\t\u001b[33mUIC的目标是什么？\u001b[0m\n",
      "BERT_emb; \u001b[36m0.9642\u001b[0m\t\u001b[33mUIC的使命是什么？\u001b[0m\n",
      "BERT_emb; \u001b[36m0.9624\u001b[0m\t\u001b[33m招生咨询邮箱是什么？\u001b[0m\n",
      "BERT_emb; \u001b[36m0.9584\u001b[0m\t\u001b[33mUIC招生信息网是什么\u001b[0m\n",
      "UIC的全称是北京师范大学-香港浸会大学联合国际学院。\n"
     ]
    },
    {
     "data": {
      "text/plain": [
       "0"
      ]
     },
     "execution_count": 28,
     "metadata": {},
     "output_type": "execute_result"
    }
   ],
   "source": [
    "# 测试\n",
    "data_file_path = \"../input/uic-cn-admission/CN_QA_dataset_all.xlsx\"\n",
    "stopword_file_path = '../input/english-and-chinese-stopwords/cn_stopwords.txt'\n",
    "quest_in = '我想知道，UIC的全称叫什么名字'\n",
    "\n",
    "bert_model_name = 'bert-base-chinese'\n",
    "topk_TFIDF = 3\n",
    "threshold_TFIDF = 0.7\n",
    "topk_BERT = 5\n",
    "threshold_BERT = 0.95\n",
    "\n",
    "cn_main_mix_single(quest_in, data_file_path, stopword_file_path, bert_model_name, topk_TFIDF, threshold_TFIDF, topk_BERT, threshold_BERT)"
   ]
  },
  {
   "cell_type": "code",
   "execution_count": 29,
   "id": "ba24f564",
   "metadata": {
    "execution": {
     "iopub.execute_input": "2022-08-03T13:43:27.391120Z",
     "iopub.status.busy": "2022-08-03T13:43:27.390754Z",
     "iopub.status.idle": "2022-08-03T13:43:27.404793Z",
     "shell.execute_reply": "2022-08-03T13:43:27.403853Z"
    },
    "papermill": {
     "duration": 0.033683,
     "end_time": "2022-08-03T13:43:27.407134",
     "exception": false,
     "start_time": "2022-08-03T13:43:27.373451",
     "status": "completed"
    },
    "tags": []
   },
   "outputs": [],
   "source": [
    "# 多轮\n",
    "# 单轮测试的Q&A\n",
    "# BERT+TF-IDF的测试代码\n",
    "def cn_main_mix(data_file_path, stopword_file_path, bert_model_name, topk_TFIDF = 3, threshold_TFIDF = 0.7, topk_BERT = 5, threshold_BERT = 0.95):\n",
    "    \"\"\"\n",
    "    :func: 多遍的匹配\n",
    "    :param data_path: 数据集的路径xlsx\n",
    "    :param bert_model_name: bert模型名字\n",
    "    :param topk_TFIDF: TF-IDF中显示前topk个最相似的句子\n",
    "    :param threshold_TFIDF: TF-IDF中认为是匹配的问句的有效阈值\n",
    "    :param topk_BERT: BERT中显示前topk个最相似的句子\n",
    "    :param threshold_BERT: BERT中认为是匹配的问句的有效阈值\n",
    "    :备注: 每次会返回前topk个最相似的问题和答案\n",
    "    :return: 0 程序执行成功的话\n",
    "    \"\"\"\n",
    "    # read the file\n",
    "    question_list,answer_list = read_and_split_the_excel(data_file_path)\n",
    "    \n",
    "    # preparing for the TF-IDF\n",
    "    # stop words list\n",
    "    stop_words = obtain_stop_word(stopword_file_path)\n",
    "    # genetate question token list\n",
    "    question_token_list = generate_question_t_list(question_list, stop_words)\n",
    "    \n",
    "    # preparing for the Bert\n",
    "    tokenizer = BertTokenizer.from_pretrained(bert_model_name)\n",
    "    model = BertModel.from_pretrained(bert_model_name)\n",
    "    doc_vecs = transfer_all_q2v(question_list,tokenizer,model)\n",
    "\n",
    "    \n",
    "    \n",
    "    \n",
    "    # 这里开始循环 \n",
    "    # can be modify as recurrence\n",
    "    \n",
    "    while True:\n",
    "        # 读取数据\n",
    "        question = input('Your question: ')\n",
    "        if question == \"quit\":\n",
    "            break\n",
    "            \n",
    "        # get result\n",
    "        # from TF-IDF\n",
    "        # 对查询的问题进行处理\n",
    "        query = cn_stop_word_rm(question, stop_words)\n",
    "        # 得到问题（答案）所对应的行索引\n",
    "        if_vaild_TF, topk_idx_TF, score_TF = similarity_cn(question_token_list, query, topk_TFIDF, threshold_TFIDF)\n",
    "        # from embedding by BERT\n",
    "        query_vec = transfer_sentence_vector(question,tokenizer,model)\n",
    "        # 匹配\n",
    "        if_vaild_BERT, topk_idx_BERT, score_BERT = get_similar_q_id(query_vec,doc_vecs,tokenizer,model,topk_BERT,threshold_BERT)\n",
    "\n",
    "\n",
    "#         # print the result\n",
    "#         print('The questions similar to \"%s\"' % (colored(question, 'green')))\n",
    "#         if(if_vaild_TF):\n",
    "#             for idx in topk_idx_TF:\n",
    "#                 print('TF-IDF; %s\\t%s' % (colored('%.4f' % score_TF[idx], 'cyan'), colored(question_list[idx], 'yellow')))\n",
    "#             for idx in topk_idx_BERT[:2]:\n",
    "#                 print('BERT_emb; %s\\t%s' % (colored('%.4f' % score_BERT[idx], 'cyan'), colored(question_list[idx], 'yellow')))\n",
    "#             print(answer_list[topk_idx_TF[0]])\n",
    "#         elif(if_vaild_BERT):\n",
    "#             for idx in topk_idx_BERT[:3]:\n",
    "#                 print('BERT_emb; %s\\t%s' % (colored('%.4f' % score_BERT[idx], 'cyan'), colored(question_list[idx], 'yellow')))\n",
    "#             for idx in topk_idx_TF[:2]:\n",
    "#                 print('TF-IDF; %s\\t%s' % (colored('%.4f' % score_TF[idx], 'cyan'), colored(question_list[idx], 'yellow')))\n",
    "#             print(answer_list[topk_idx_BERT[0]])\n",
    "#         else:\n",
    "#             for idx in topk_idx_BERT[:5]:\n",
    "#                 print('BERT_emb; %s\\t%s' % (colored('%.4f' % score_BERT[idx], 'cyan'), colored(question_list[idx], 'yellow')))\n",
    "#             print(\"Sorry, I don't know what you say\")\n",
    "\n",
    "\n",
    "        # print the result version 2\n",
    "        # TF-IDF\n",
    "        # 返回最相似的问题\n",
    "        print('top few questions(TFIDF: %d, BERT: %d) similar to \"%s\"' % (topk_TFIDF, topk_BERT, colored(question, 'green')))\n",
    "        print(\"The best similarity is:\", score_TF[topk_idx_TF[0]])\n",
    "        print(\"The best similarity is:\", score_BERT[topk_idx_BERT[0]],\"\\n\")\n",
    "\n",
    "        for idx in topk_idx_TF:\n",
    "            print('TF-IDF; %s\\t%s' % (colored('%.4f' % score_TF[idx], 'cyan'), colored(question_list[idx], 'yellow')))\n",
    "\n",
    "        #Bert\n",
    "        for idx in topk_idx_BERT:\n",
    "            print('BERT_emb; %s\\t%s' % (colored('%.4f' % score_BERT[idx], 'cyan'), colored(question_list[idx], 'yellow')))\n",
    "        # get the best answer\n",
    "        if(if_vaild_TF):\n",
    "            print(answer_list[topk_idx_TF[0]])\n",
    "        elif(if_vaild_BERT):\n",
    "            print(answer_list[topk_idx_BERT[0]])\n",
    "        else:\n",
    "            print(\"Sorry, I don't know what you say\")\n",
    "    \n",
    "    \n",
    "    return 0"
   ]
  },
  {
   "cell_type": "code",
   "execution_count": 30,
   "id": "9b814eed",
   "metadata": {
    "execution": {
     "iopub.execute_input": "2022-08-03T13:43:27.440588Z",
     "iopub.status.busy": "2022-08-03T13:43:27.439913Z",
     "iopub.status.idle": "2022-08-03T13:43:27.445607Z",
     "shell.execute_reply": "2022-08-03T13:43:27.444676Z"
    },
    "papermill": {
     "duration": 0.025003,
     "end_time": "2022-08-03T13:43:27.447840",
     "exception": false,
     "start_time": "2022-08-03T13:43:27.422837",
     "status": "completed"
    },
    "tags": []
   },
   "outputs": [],
   "source": [
    "# 测试\n",
    "data_file_path = \"../input/uic-cn-admission/CN_QA_dataset_all.xlsx\"\n",
    "stopword_file_path = '../input/english-and-chinese-stopwords/cn_stopwords.txt'\n",
    "\n",
    "bert_model_name = 'bert-base-chinese'\n",
    "topk_TFIDF = 3\n",
    "threshold_TFIDF = 0.7\n",
    "topk_BERT = 5\n",
    "threshold_BERT = 0.95\n",
    "\n",
    "# cn_main_mix(data_file_path, stopword_file_path, bert_model_name, topk_TFIDF, threshold_TFIDF, topk_BERT, threshold_BERT)"
   ]
  },
  {
   "cell_type": "markdown",
   "id": "d51c3cf2",
   "metadata": {
    "papermill": {
     "duration": 0.016122,
     "end_time": "2022-08-03T13:43:27.480056",
     "exception": false,
     "start_time": "2022-08-03T13:43:27.463934",
     "status": "completed"
    },
    "tags": []
   },
   "source": [
    "# For the HTML"
   ]
  },
  {
   "cell_type": "code",
   "execution_count": 31,
   "id": "0cabd94d",
   "metadata": {
    "execution": {
     "iopub.execute_input": "2022-08-03T13:43:27.513910Z",
     "iopub.status.busy": "2022-08-03T13:43:27.513230Z",
     "iopub.status.idle": "2022-08-03T13:43:27.520703Z",
     "shell.execute_reply": "2022-08-03T13:43:27.519614Z"
    },
    "papermill": {
     "duration": 0.027143,
     "end_time": "2022-08-03T13:43:27.523048",
     "exception": false,
     "start_time": "2022-08-03T13:43:27.495905",
     "status": "completed"
    },
    "tags": []
   },
   "outputs": [],
   "source": [
    "def prepared(data_file_path, stopword_file_path, bert_model_name, topk_TFIDF = 3, threshold_TFIDF = 0.7, topk_BERT = 5, threshold_BERT = 0.95):\n",
    "    # 开机启动\n",
    "    # read the file\n",
    "    question_list,answer_list = read_and_split_the_excel(data_file_path)\n",
    "\n",
    "    # preparing for the TF-IDF\n",
    "    # stop words list\n",
    "    stop_words = obtain_stop_word(stopword_file_path)\n",
    "    # genetate question token list\n",
    "    question_token_list = generate_question_t_list(question_list, stop_words)\n",
    "\n",
    "    # preparing for the Bert\n",
    "    tokenizer = BertTokenizer.from_pretrained(bert_model_name)\n",
    "    model = BertModel.from_pretrained(bert_model_name)\n",
    "    doc_vecs = transfer_all_q2v(question_list,tokenizer,model)\n",
    "    return stop_words,question_token_list,doc_vecs,topk_TFIDF,threshold_TFIDF,topk_BERT,threshold_BERT,tokenizer,model,question_list,answer_list"
   ]
  },
  {
   "cell_type": "code",
   "execution_count": 32,
   "id": "47d8465b",
   "metadata": {
    "execution": {
     "iopub.execute_input": "2022-08-03T13:43:27.556727Z",
     "iopub.status.busy": "2022-08-03T13:43:27.555953Z",
     "iopub.status.idle": "2022-08-03T13:43:27.564204Z",
     "shell.execute_reply": "2022-08-03T13:43:27.563332Z"
    },
    "papermill": {
     "duration": 0.027619,
     "end_time": "2022-08-03T13:43:27.566497",
     "exception": false,
     "start_time": "2022-08-03T13:43:27.538878",
     "status": "completed"
    },
    "tags": []
   },
   "outputs": [],
   "source": [
    "# 输出函数\n",
    "# get result\n",
    "def get_respond(question,inputlist):\n",
    "    stop_words,question_token_list,doc_vecs,topk_TFIDF,threshold_TFIDF,topk_BERT,threshold_BERT,tokenizer,model,question_list,answer_list = inputlist\n",
    "    # from TF-IDF\n",
    "    # 对查询的问题进行处理\n",
    "    query = cn_stop_word_rm(question, stop_words)\n",
    "    # 得到问题（答案）所对应的行索引\n",
    "    if_vaild_TF, topk_idx_TF, score_TF = similarity_cn(question_token_list, query, topk_TFIDF, threshold_TFIDF)\n",
    "    # from embedding by BERT\n",
    "    query_vec = transfer_sentence_vector(question,tokenizer,model)\n",
    "    # 匹配\n",
    "    if_vaild_BERT, topk_idx_BERT, score_BERT = get_similar_q_id(query_vec,doc_vecs,tokenizer,model,topk_BERT,threshold_BERT)\n",
    "\n",
    "    # get the best answer\n",
    "    if(if_vaild_TF):\n",
    "        return(answer_list[topk_idx_TF[0]])\n",
    "    elif(if_vaild_BERT):\n",
    "        return(answer_list[topk_idx_BERT[0]])\n",
    "    else:\n",
    "        return(\"Sorry, I don't know what you say\")"
   ]
  },
  {
   "cell_type": "code",
   "execution_count": 33,
   "id": "13cd2240",
   "metadata": {
    "execution": {
     "iopub.execute_input": "2022-08-03T13:43:27.600656Z",
     "iopub.status.busy": "2022-08-03T13:43:27.599990Z",
     "iopub.status.idle": "2022-08-03T13:44:03.383825Z",
     "shell.execute_reply": "2022-08-03T13:44:03.382914Z"
    },
    "papermill": {
     "duration": 35.803561,
     "end_time": "2022-08-03T13:44:03.386295",
     "exception": false,
     "start_time": "2022-08-03T13:43:27.582734",
     "status": "completed"
    },
    "tags": []
   },
   "outputs": [
    {
     "name": "stderr",
     "output_type": "stream",
     "text": [
      "Some weights of the model checkpoint at bert-base-chinese were not used when initializing BertModel: ['cls.predictions.transform.dense.weight', 'cls.predictions.bias', 'cls.predictions.transform.dense.bias', 'cls.predictions.decoder.weight', 'cls.seq_relationship.weight', 'cls.predictions.transform.LayerNorm.weight', 'cls.predictions.transform.LayerNorm.bias', 'cls.seq_relationship.bias']\n",
      "- This IS expected if you are initializing BertModel from the checkpoint of a model trained on another task or with another architecture (e.g. initializing a BertForSequenceClassification model from a BertForPreTraining model).\n",
      "- This IS NOT expected if you are initializing BertModel from the checkpoint of a model that you expect to be exactly identical (initializing a BertForSequenceClassification model from a BertForSequenceClassification model).\n"
     ]
    }
   ],
   "source": [
    "# 提前声明\n",
    "data_file_path = \"../input/uic-cn-admission/CN_QA_dataset_all.xlsx\"\n",
    "stopword_file_path = '../input/english-and-chinese-stopwords/cn_stopwords.txt'\n",
    "bert_model_name = 'bert-base-chinese'\n",
    "topk_TFIDF = 3\n",
    "threshold_TFIDF = 0.7\n",
    "topk_BERT = 5\n",
    "threshold_BERT = 0.95\n",
    "\n",
    "inputlist = prepared(data_file_path, stopword_file_path, bert_model_name, topk_TFIDF = 3, threshold_TFIDF = 0.7, topk_BERT = 5, threshold_BERT = 0.95)\n",
    "\n",
    "# 读取数据\n",
    "# while True:\n",
    "#     # 读取数据\n",
    "#     question = input('Your question: ')\n",
    "#     if question == \"quit\":\n",
    "#         break\n",
    "#     respond = get_respond(question,inputlist)\n",
    "#     print(respond)"
   ]
  },
  {
   "cell_type": "markdown",
   "id": "09e68e40",
   "metadata": {
    "papermill": {
     "duration": 0.015277,
     "end_time": "2022-08-03T13:44:03.417637",
     "exception": false,
     "start_time": "2022-08-03T13:44:03.402360",
     "status": "completed"
    },
    "tags": []
   },
   "source": [
    "# For the 01 dataset to validate the accuarcy"
   ]
  },
  {
   "cell_type": "code",
   "execution_count": 34,
   "id": "09a22457",
   "metadata": {
    "execution": {
     "iopub.execute_input": "2022-08-03T13:44:03.450912Z",
     "iopub.status.busy": "2022-08-03T13:44:03.450285Z",
     "iopub.status.idle": "2022-08-03T13:44:05.014776Z",
     "shell.execute_reply": "2022-08-03T13:44:05.013813Z"
    },
    "papermill": {
     "duration": 1.583933,
     "end_time": "2022-08-03T13:44:05.017212",
     "exception": false,
     "start_time": "2022-08-03T13:44:03.433279",
     "status": "completed"
    },
    "tags": []
   },
   "outputs": [],
   "source": [
    "import plotly.express as px\n",
    "from datasets import list_metrics,load_metric\n",
    "from sklearn.metrics import confusion_matrix\n",
    "\n",
    "def performance(y_ture,y_pred):\n",
    "    f1_metric = load_metric(\"f1\")\n",
    "    re_metric = load_metric(\"recall\")\n",
    "    pre_metric = load_metric(\"precision\")\n",
    "    type_c_int = list(set(np.concatenate([y_ture, y_pred])))\n",
    "    type_c = [str(i) for i in type_c_int]\n",
    "    \n",
    "    f1_m_list = []\n",
    "    re_m_list = []\n",
    "    pre_m_list = []\n",
    "    \n",
    "    for i in type_c_int:\n",
    "        bi_ture = list(y_ture == i)\n",
    "        bi_pred = list(y_pred == i)\n",
    "        f1_m_results = f1_metric.compute(predictions=bi_pred, references=bi_ture, average=\"macro\")\n",
    "        re_m_results = re_metric.compute(predictions=bi_pred, references=bi_ture, average=\"macro\")\n",
    "        pre_m_results = pre_metric.compute(predictions=bi_pred, references=bi_ture, average=\"macro\")\n",
    "        \n",
    "        f1_m_list.append(f1_m_results[\"f1\"])\n",
    "        re_m_list.append(re_m_results[\"recall\"])\n",
    "        pre_m_list.append(pre_m_results[\"precision\"])\n",
    "        \n",
    "    data = {'Class_type':type_c_int,'F1-macro':f1_m_list,'Recall-macro':re_m_list,'Precision-macro':pre_m_list}\n",
    "    df = pd.DataFrame(data)\n",
    "    display(df)\n",
    "    \n",
    "    \n",
    "    z = confusion_matrix(y_ture, y_pred)\n",
    "    x_lab = type_c\n",
    "\n",
    "    fig = px.imshow(z, \n",
    "                    text_auto=True,\n",
    "                    labels=dict(x=\"True label\", y=\"Predicted label\", color=\"times\"),\n",
    "                    x=x_lab,\n",
    "                    y=x_lab)\n",
    "    fig.show()\n",
    "    \n",
    "    return z"
   ]
  },
  {
   "cell_type": "code",
   "execution_count": 35,
   "id": "e04748ba",
   "metadata": {
    "execution": {
     "iopub.execute_input": "2022-08-03T13:44:05.050988Z",
     "iopub.status.busy": "2022-08-03T13:44:05.050130Z",
     "iopub.status.idle": "2022-08-03T13:44:07.267084Z",
     "shell.execute_reply": "2022-08-03T13:44:07.265847Z"
    },
    "papermill": {
     "duration": 2.236431,
     "end_time": "2022-08-03T13:44:07.269506",
     "exception": false,
     "start_time": "2022-08-03T13:44:05.033075",
     "status": "completed"
    },
    "tags": []
   },
   "outputs": [
    {
     "data": {
      "application/vnd.jupyter.widget-view+json": {
       "model_id": "3da2560dab3e4c1fbe8eaaec815ad3bb",
       "version_major": 2,
       "version_minor": 0
      },
      "text/plain": [
       "Downloading builder script:   0%|          | 0.00/2.06k [00:00<?, ?B/s]"
      ]
     },
     "metadata": {},
     "output_type": "display_data"
    },
    {
     "data": {
      "application/vnd.jupyter.widget-view+json": {
       "model_id": "9c2dcf2bc38f4b54bda46846b0ff1590",
       "version_major": 2,
       "version_minor": 0
      },
      "text/plain": [
       "Downloading builder script:   0%|          | 0.00/2.21k [00:00<?, ?B/s]"
      ]
     },
     "metadata": {},
     "output_type": "display_data"
    },
    {
     "data": {
      "application/vnd.jupyter.widget-view+json": {
       "model_id": "dc348f022aba450f9aa3f555f6750891",
       "version_major": 2,
       "version_minor": 0
      },
      "text/plain": [
       "Downloading builder script:   0%|          | 0.00/2.20k [00:00<?, ?B/s]"
      ]
     },
     "metadata": {},
     "output_type": "display_data"
    },
    {
     "name": "stderr",
     "output_type": "stream",
     "text": [
      "/opt/conda/lib/python3.7/site-packages/sklearn/metrics/_classification.py:1318: UndefinedMetricWarning: Precision is ill-defined and being set to 0.0 in labels with no predicted samples. Use `zero_division` parameter to control this behavior.\n",
      "  _warn_prf(average, modifier, msg_start, len(result))\n"
     ]
    },
    {
     "data": {
      "text/html": [
       "<div>\n",
       "<style scoped>\n",
       "    .dataframe tbody tr th:only-of-type {\n",
       "        vertical-align: middle;\n",
       "    }\n",
       "\n",
       "    .dataframe tbody tr th {\n",
       "        vertical-align: top;\n",
       "    }\n",
       "\n",
       "    .dataframe thead th {\n",
       "        text-align: right;\n",
       "    }\n",
       "</style>\n",
       "<table border=\"1\" class=\"dataframe\">\n",
       "  <thead>\n",
       "    <tr style=\"text-align: right;\">\n",
       "      <th></th>\n",
       "      <th>Class_type</th>\n",
       "      <th>F1-macro</th>\n",
       "      <th>Recall-macro</th>\n",
       "      <th>Precision-macro</th>\n",
       "    </tr>\n",
       "  </thead>\n",
       "  <tbody>\n",
       "    <tr>\n",
       "      <th>0</th>\n",
       "      <td>1</td>\n",
       "      <td>0.625000</td>\n",
       "      <td>0.666667</td>\n",
       "      <td>0.800000</td>\n",
       "    </tr>\n",
       "    <tr>\n",
       "      <th>1</th>\n",
       "      <td>2</td>\n",
       "      <td>0.333333</td>\n",
       "      <td>0.300000</td>\n",
       "      <td>0.375000</td>\n",
       "    </tr>\n",
       "    <tr>\n",
       "      <th>2</th>\n",
       "      <td>3</td>\n",
       "      <td>0.625000</td>\n",
       "      <td>0.800000</td>\n",
       "      <td>0.666667</td>\n",
       "    </tr>\n",
       "    <tr>\n",
       "      <th>3</th>\n",
       "      <td>4</td>\n",
       "      <td>0.454545</td>\n",
       "      <td>0.500000</td>\n",
       "      <td>0.416667</td>\n",
       "    </tr>\n",
       "  </tbody>\n",
       "</table>\n",
       "</div>"
      ],
      "text/plain": [
       "   Class_type  F1-macro  Recall-macro  Precision-macro\n",
       "0           1  0.625000      0.666667         0.800000\n",
       "1           2  0.333333      0.300000         0.375000\n",
       "2           3  0.625000      0.800000         0.666667\n",
       "3           4  0.454545      0.500000         0.416667"
      ]
     },
     "metadata": {},
     "output_type": "display_data"
    },
    {
     "data": {
      "text/html": [
       "        <script type=\"text/javascript\">\n",
       "        window.PlotlyConfig = {MathJaxConfig: 'local'};\n",
       "        if (window.MathJax && window.MathJax.Hub && window.MathJax.Hub.Config) {window.MathJax.Hub.Config({SVG: {font: \"STIX-Web\"}});}\n",
       "        if (typeof require !== 'undefined') {\n",
       "        require.undef(\"plotly\");\n",
       "        requirejs.config({\n",
       "            paths: {\n",
       "                'plotly': ['https://cdn.plot.ly/plotly-2.12.1.min']\n",
       "            }\n",
       "        });\n",
       "        require(['plotly'], function(Plotly) {\n",
       "            window._Plotly = Plotly;\n",
       "        });\n",
       "        }\n",
       "        </script>\n",
       "        "
      ]
     },
     "metadata": {},
     "output_type": "display_data"
    },
    {
     "data": {
      "text/html": [
       "<div>                            <div id=\"f1b1ba29-4e96-46fb-b09c-baf07ff40cff\" class=\"plotly-graph-div\" style=\"height:525px; width:100%;\"></div>            <script type=\"text/javascript\">                require([\"plotly\"], function(Plotly) {                    window.PLOTLYENV=window.PLOTLYENV || {};                                    if (document.getElementById(\"f1b1ba29-4e96-46fb-b09c-baf07ff40cff\")) {                    Plotly.newPlot(                        \"f1b1ba29-4e96-46fb-b09c-baf07ff40cff\",                        [{\"coloraxis\":\"coloraxis\",\"name\":\"0\",\"texttemplate\":\"%{z}\",\"x\":[\"1\",\"2\",\"3\",\"4\"],\"y\":[\"1\",\"2\",\"3\",\"4\"],\"z\":[[1,2,0,0],[0,0,1,0],[0,0,1,0],[0,0,1,0]],\"type\":\"heatmap\",\"xaxis\":\"x\",\"yaxis\":\"y\",\"hovertemplate\":\"True label: %{x}<br>Predicted label: %{y}<br>times: %{z}<extra></extra>\"}],                        {\"template\":{\"data\":{\"histogram2dcontour\":[{\"type\":\"histogram2dcontour\",\"colorbar\":{\"outlinewidth\":0,\"ticks\":\"\"},\"colorscale\":[[0.0,\"#0d0887\"],[0.1111111111111111,\"#46039f\"],[0.2222222222222222,\"#7201a8\"],[0.3333333333333333,\"#9c179e\"],[0.4444444444444444,\"#bd3786\"],[0.5555555555555556,\"#d8576b\"],[0.6666666666666666,\"#ed7953\"],[0.7777777777777778,\"#fb9f3a\"],[0.8888888888888888,\"#fdca26\"],[1.0,\"#f0f921\"]]}],\"choropleth\":[{\"type\":\"choropleth\",\"colorbar\":{\"outlinewidth\":0,\"ticks\":\"\"}}],\"histogram2d\":[{\"type\":\"histogram2d\",\"colorbar\":{\"outlinewidth\":0,\"ticks\":\"\"},\"colorscale\":[[0.0,\"#0d0887\"],[0.1111111111111111,\"#46039f\"],[0.2222222222222222,\"#7201a8\"],[0.3333333333333333,\"#9c179e\"],[0.4444444444444444,\"#bd3786\"],[0.5555555555555556,\"#d8576b\"],[0.6666666666666666,\"#ed7953\"],[0.7777777777777778,\"#fb9f3a\"],[0.8888888888888888,\"#fdca26\"],[1.0,\"#f0f921\"]]}],\"heatmap\":[{\"type\":\"heatmap\",\"colorbar\":{\"outlinewidth\":0,\"ticks\":\"\"},\"colorscale\":[[0.0,\"#0d0887\"],[0.1111111111111111,\"#46039f\"],[0.2222222222222222,\"#7201a8\"],[0.3333333333333333,\"#9c179e\"],[0.4444444444444444,\"#bd3786\"],[0.5555555555555556,\"#d8576b\"],[0.6666666666666666,\"#ed7953\"],[0.7777777777777778,\"#fb9f3a\"],[0.8888888888888888,\"#fdca26\"],[1.0,\"#f0f921\"]]}],\"heatmapgl\":[{\"type\":\"heatmapgl\",\"colorbar\":{\"outlinewidth\":0,\"ticks\":\"\"},\"colorscale\":[[0.0,\"#0d0887\"],[0.1111111111111111,\"#46039f\"],[0.2222222222222222,\"#7201a8\"],[0.3333333333333333,\"#9c179e\"],[0.4444444444444444,\"#bd3786\"],[0.5555555555555556,\"#d8576b\"],[0.6666666666666666,\"#ed7953\"],[0.7777777777777778,\"#fb9f3a\"],[0.8888888888888888,\"#fdca26\"],[1.0,\"#f0f921\"]]}],\"contourcarpet\":[{\"type\":\"contourcarpet\",\"colorbar\":{\"outlinewidth\":0,\"ticks\":\"\"}}],\"contour\":[{\"type\":\"contour\",\"colorbar\":{\"outlinewidth\":0,\"ticks\":\"\"},\"colorscale\":[[0.0,\"#0d0887\"],[0.1111111111111111,\"#46039f\"],[0.2222222222222222,\"#7201a8\"],[0.3333333333333333,\"#9c179e\"],[0.4444444444444444,\"#bd3786\"],[0.5555555555555556,\"#d8576b\"],[0.6666666666666666,\"#ed7953\"],[0.7777777777777778,\"#fb9f3a\"],[0.8888888888888888,\"#fdca26\"],[1.0,\"#f0f921\"]]}],\"surface\":[{\"type\":\"surface\",\"colorbar\":{\"outlinewidth\":0,\"ticks\":\"\"},\"colorscale\":[[0.0,\"#0d0887\"],[0.1111111111111111,\"#46039f\"],[0.2222222222222222,\"#7201a8\"],[0.3333333333333333,\"#9c179e\"],[0.4444444444444444,\"#bd3786\"],[0.5555555555555556,\"#d8576b\"],[0.6666666666666666,\"#ed7953\"],[0.7777777777777778,\"#fb9f3a\"],[0.8888888888888888,\"#fdca26\"],[1.0,\"#f0f921\"]]}],\"mesh3d\":[{\"type\":\"mesh3d\",\"colorbar\":{\"outlinewidth\":0,\"ticks\":\"\"}}],\"scatter\":[{\"fillpattern\":{\"fillmode\":\"overlay\",\"size\":10,\"solidity\":0.2},\"type\":\"scatter\"}],\"parcoords\":[{\"type\":\"parcoords\",\"line\":{\"colorbar\":{\"outlinewidth\":0,\"ticks\":\"\"}}}],\"scatterpolargl\":[{\"type\":\"scatterpolargl\",\"marker\":{\"colorbar\":{\"outlinewidth\":0,\"ticks\":\"\"}}}],\"bar\":[{\"error_x\":{\"color\":\"#2a3f5f\"},\"error_y\":{\"color\":\"#2a3f5f\"},\"marker\":{\"line\":{\"color\":\"#E5ECF6\",\"width\":0.5},\"pattern\":{\"fillmode\":\"overlay\",\"size\":10,\"solidity\":0.2}},\"type\":\"bar\"}],\"scattergeo\":[{\"type\":\"scattergeo\",\"marker\":{\"colorbar\":{\"outlinewidth\":0,\"ticks\":\"\"}}}],\"scatterpolar\":[{\"type\":\"scatterpolar\",\"marker\":{\"colorbar\":{\"outlinewidth\":0,\"ticks\":\"\"}}}],\"histogram\":[{\"marker\":{\"pattern\":{\"fillmode\":\"overlay\",\"size\":10,\"solidity\":0.2}},\"type\":\"histogram\"}],\"scattergl\":[{\"type\":\"scattergl\",\"marker\":{\"colorbar\":{\"outlinewidth\":0,\"ticks\":\"\"}}}],\"scatter3d\":[{\"type\":\"scatter3d\",\"line\":{\"colorbar\":{\"outlinewidth\":0,\"ticks\":\"\"}},\"marker\":{\"colorbar\":{\"outlinewidth\":0,\"ticks\":\"\"}}}],\"scattermapbox\":[{\"type\":\"scattermapbox\",\"marker\":{\"colorbar\":{\"outlinewidth\":0,\"ticks\":\"\"}}}],\"scatterternary\":[{\"type\":\"scatterternary\",\"marker\":{\"colorbar\":{\"outlinewidth\":0,\"ticks\":\"\"}}}],\"scattercarpet\":[{\"type\":\"scattercarpet\",\"marker\":{\"colorbar\":{\"outlinewidth\":0,\"ticks\":\"\"}}}],\"carpet\":[{\"aaxis\":{\"endlinecolor\":\"#2a3f5f\",\"gridcolor\":\"white\",\"linecolor\":\"white\",\"minorgridcolor\":\"white\",\"startlinecolor\":\"#2a3f5f\"},\"baxis\":{\"endlinecolor\":\"#2a3f5f\",\"gridcolor\":\"white\",\"linecolor\":\"white\",\"minorgridcolor\":\"white\",\"startlinecolor\":\"#2a3f5f\"},\"type\":\"carpet\"}],\"table\":[{\"cells\":{\"fill\":{\"color\":\"#EBF0F8\"},\"line\":{\"color\":\"white\"}},\"header\":{\"fill\":{\"color\":\"#C8D4E3\"},\"line\":{\"color\":\"white\"}},\"type\":\"table\"}],\"barpolar\":[{\"marker\":{\"line\":{\"color\":\"#E5ECF6\",\"width\":0.5},\"pattern\":{\"fillmode\":\"overlay\",\"size\":10,\"solidity\":0.2}},\"type\":\"barpolar\"}],\"pie\":[{\"automargin\":true,\"type\":\"pie\"}]},\"layout\":{\"autotypenumbers\":\"strict\",\"colorway\":[\"#636efa\",\"#EF553B\",\"#00cc96\",\"#ab63fa\",\"#FFA15A\",\"#19d3f3\",\"#FF6692\",\"#B6E880\",\"#FF97FF\",\"#FECB52\"],\"font\":{\"color\":\"#2a3f5f\"},\"hovermode\":\"closest\",\"hoverlabel\":{\"align\":\"left\"},\"paper_bgcolor\":\"white\",\"plot_bgcolor\":\"#E5ECF6\",\"polar\":{\"bgcolor\":\"#E5ECF6\",\"angularaxis\":{\"gridcolor\":\"white\",\"linecolor\":\"white\",\"ticks\":\"\"},\"radialaxis\":{\"gridcolor\":\"white\",\"linecolor\":\"white\",\"ticks\":\"\"}},\"ternary\":{\"bgcolor\":\"#E5ECF6\",\"aaxis\":{\"gridcolor\":\"white\",\"linecolor\":\"white\",\"ticks\":\"\"},\"baxis\":{\"gridcolor\":\"white\",\"linecolor\":\"white\",\"ticks\":\"\"},\"caxis\":{\"gridcolor\":\"white\",\"linecolor\":\"white\",\"ticks\":\"\"}},\"coloraxis\":{\"colorbar\":{\"outlinewidth\":0,\"ticks\":\"\"}},\"colorscale\":{\"sequential\":[[0.0,\"#0d0887\"],[0.1111111111111111,\"#46039f\"],[0.2222222222222222,\"#7201a8\"],[0.3333333333333333,\"#9c179e\"],[0.4444444444444444,\"#bd3786\"],[0.5555555555555556,\"#d8576b\"],[0.6666666666666666,\"#ed7953\"],[0.7777777777777778,\"#fb9f3a\"],[0.8888888888888888,\"#fdca26\"],[1.0,\"#f0f921\"]],\"sequentialminus\":[[0.0,\"#0d0887\"],[0.1111111111111111,\"#46039f\"],[0.2222222222222222,\"#7201a8\"],[0.3333333333333333,\"#9c179e\"],[0.4444444444444444,\"#bd3786\"],[0.5555555555555556,\"#d8576b\"],[0.6666666666666666,\"#ed7953\"],[0.7777777777777778,\"#fb9f3a\"],[0.8888888888888888,\"#fdca26\"],[1.0,\"#f0f921\"]],\"diverging\":[[0,\"#8e0152\"],[0.1,\"#c51b7d\"],[0.2,\"#de77ae\"],[0.3,\"#f1b6da\"],[0.4,\"#fde0ef\"],[0.5,\"#f7f7f7\"],[0.6,\"#e6f5d0\"],[0.7,\"#b8e186\"],[0.8,\"#7fbc41\"],[0.9,\"#4d9221\"],[1,\"#276419\"]]},\"xaxis\":{\"gridcolor\":\"white\",\"linecolor\":\"white\",\"ticks\":\"\",\"title\":{\"standoff\":15},\"zerolinecolor\":\"white\",\"automargin\":true,\"zerolinewidth\":2},\"yaxis\":{\"gridcolor\":\"white\",\"linecolor\":\"white\",\"ticks\":\"\",\"title\":{\"standoff\":15},\"zerolinecolor\":\"white\",\"automargin\":true,\"zerolinewidth\":2},\"scene\":{\"xaxis\":{\"backgroundcolor\":\"#E5ECF6\",\"gridcolor\":\"white\",\"linecolor\":\"white\",\"showbackground\":true,\"ticks\":\"\",\"zerolinecolor\":\"white\",\"gridwidth\":2},\"yaxis\":{\"backgroundcolor\":\"#E5ECF6\",\"gridcolor\":\"white\",\"linecolor\":\"white\",\"showbackground\":true,\"ticks\":\"\",\"zerolinecolor\":\"white\",\"gridwidth\":2},\"zaxis\":{\"backgroundcolor\":\"#E5ECF6\",\"gridcolor\":\"white\",\"linecolor\":\"white\",\"showbackground\":true,\"ticks\":\"\",\"zerolinecolor\":\"white\",\"gridwidth\":2}},\"shapedefaults\":{\"line\":{\"color\":\"#2a3f5f\"}},\"annotationdefaults\":{\"arrowcolor\":\"#2a3f5f\",\"arrowhead\":0,\"arrowwidth\":1},\"geo\":{\"bgcolor\":\"white\",\"landcolor\":\"#E5ECF6\",\"subunitcolor\":\"white\",\"showland\":true,\"showlakes\":true,\"lakecolor\":\"white\"},\"title\":{\"x\":0.05},\"mapbox\":{\"style\":\"light\"}}},\"xaxis\":{\"anchor\":\"y\",\"domain\":[0.0,1.0],\"scaleanchor\":\"y\",\"constrain\":\"domain\",\"title\":{\"text\":\"True label\"}},\"yaxis\":{\"anchor\":\"x\",\"domain\":[0.0,1.0],\"autorange\":\"reversed\",\"constrain\":\"domain\",\"title\":{\"text\":\"Predicted label\"}},\"coloraxis\":{\"colorbar\":{\"title\":{\"text\":\"times\"}},\"colorscale\":[[0.0,\"#0d0887\"],[0.1111111111111111,\"#46039f\"],[0.2222222222222222,\"#7201a8\"],[0.3333333333333333,\"#9c179e\"],[0.4444444444444444,\"#bd3786\"],[0.5555555555555556,\"#d8576b\"],[0.6666666666666666,\"#ed7953\"],[0.7777777777777778,\"#fb9f3a\"],[0.8888888888888888,\"#fdca26\"],[1.0,\"#f0f921\"]]},\"margin\":{\"t\":60}},                        {\"responsive\": true}                    ).then(function(){\n",
       "                            \n",
       "var gd = document.getElementById('f1b1ba29-4e96-46fb-b09c-baf07ff40cff');\n",
       "var x = new MutationObserver(function (mutations, observer) {{\n",
       "        var display = window.getComputedStyle(gd).display;\n",
       "        if (!display || display === 'none') {{\n",
       "            console.log([gd, 'removed!']);\n",
       "            Plotly.purge(gd);\n",
       "            observer.disconnect();\n",
       "        }}\n",
       "}});\n",
       "\n",
       "// Listen for the removal of the full notebook cells\n",
       "var notebookContainer = gd.closest('#notebook-container');\n",
       "if (notebookContainer) {{\n",
       "    x.observe(notebookContainer, {childList: true});\n",
       "}}\n",
       "\n",
       "// Listen for the clearing of the current output cell\n",
       "var outputEl = gd.closest('.output');\n",
       "if (outputEl) {{\n",
       "    x.observe(outputEl, {childList: true});\n",
       "}}\n",
       "\n",
       "                        })                };                });            </script>        </div>"
      ]
     },
     "metadata": {},
     "output_type": "display_data"
    },
    {
     "data": {
      "text/plain": [
       "array([[1, 2, 0, 0],\n",
       "       [0, 0, 1, 0],\n",
       "       [0, 0, 1, 0],\n",
       "       [0, 0, 1, 0]])"
      ]
     },
     "execution_count": 35,
     "metadata": {},
     "output_type": "execute_result"
    }
   ],
   "source": [
    "performance(np.array([1,3,1,4,2,1]),np.array([2,3,1,3,3,2]))"
   ]
  },
  {
   "cell_type": "code",
   "execution_count": 36,
   "id": "58a3fb88",
   "metadata": {
    "execution": {
     "iopub.execute_input": "2022-08-03T13:44:07.305902Z",
     "iopub.status.busy": "2022-08-03T13:44:07.305094Z",
     "iopub.status.idle": "2022-08-03T13:44:07.311171Z",
     "shell.execute_reply": "2022-08-03T13:44:07.310381Z"
    },
    "papermill": {
     "duration": 0.026001,
     "end_time": "2022-08-03T13:44:07.313097",
     "exception": false,
     "start_time": "2022-08-03T13:44:07.287096",
     "status": "completed"
    },
    "tags": []
   },
   "outputs": [],
   "source": [
    "# 读取测试数据集\n",
    "def read_01_csv(path):\n",
    "    \"\"\"\n",
    "    :func: 根据xlsx文件获取提出问题list和预计匹配问题list\n",
    "    :param path: 文件路径\n",
    "    :return: 问题list，答案list\n",
    "    \"\"\"\n",
    "    # 读取文件\n",
    "    df1 = pd.read_csv(path)\n",
    "    # 分开\n",
    "    ori_list = df1.iloc[:,0].tolist()\n",
    "    test_list = df1.iloc[:,1].tolist()\n",
    "    label_list = df1.iloc[:,2].tolist()\n",
    "    # 返回\n",
    "    return ori_list,test_list, label_list"
   ]
  },
  {
   "cell_type": "code",
   "execution_count": 37,
   "id": "92da027c",
   "metadata": {
    "execution": {
     "iopub.execute_input": "2022-08-03T13:44:07.349132Z",
     "iopub.status.busy": "2022-08-03T13:44:07.347974Z",
     "iopub.status.idle": "2022-08-03T13:44:07.375672Z",
     "shell.execute_reply": "2022-08-03T13:44:07.374882Z"
    },
    "papermill": {
     "duration": 0.047685,
     "end_time": "2022-08-03T13:44:07.377640",
     "exception": false,
     "start_time": "2022-08-03T13:44:07.329955",
     "status": "completed"
    },
    "tags": []
   },
   "outputs": [
    {
     "data": {
      "text/plain": [
       "['UIC的办学性质是什么？', '学校现在有多少在校生？', '北师港浸大的全称是什么？', '简单介绍一下UIC', 'UIC办学定位是什么？']"
      ]
     },
     "metadata": {},
     "output_type": "display_data"
    },
    {
     "data": {
      "text/plain": [
       "['UIC的业务性质是什么？', '目前有多少学生在学校就读？', '北师大香港浸会大学的全称是什么？', 'UIC的简要介绍', 'UIC的定位是什么？']"
      ]
     },
     "metadata": {},
     "output_type": "display_data"
    },
    {
     "data": {
      "text/plain": [
       "[1, 1, 1, 1, 1]"
      ]
     },
     "metadata": {},
     "output_type": "display_data"
    }
   ],
   "source": [
    "# 测试\n",
    "path = \"../input/01-uic-rm-dup/01_all_rm_dup.csv\"\n",
    "ori_list,test_list, label_list = read_01_csv(path)\n",
    "display(ori_list[:5])\n",
    "display(test_list[:5])\n",
    "display(label_list[:5])"
   ]
  },
  {
   "cell_type": "code",
   "execution_count": 38,
   "id": "99ab2471",
   "metadata": {
    "execution": {
     "iopub.execute_input": "2022-08-03T13:44:07.413950Z",
     "iopub.status.busy": "2022-08-03T13:44:07.413209Z",
     "iopub.status.idle": "2022-08-03T13:44:07.481876Z",
     "shell.execute_reply": "2022-08-03T13:44:07.480859Z"
    },
    "papermill": {
     "duration": 0.089336,
     "end_time": "2022-08-03T13:44:07.484123",
     "exception": false,
     "start_time": "2022-08-03T13:44:07.394787",
     "status": "completed"
    },
    "tags": []
   },
   "outputs": [
    {
     "data": {
      "text/plain": [
       "['UIC的办学性质是什么？', '学校现在有多少在校生？', 'UIC的全称是什么？']"
      ]
     },
     "metadata": {},
     "output_type": "display_data"
    },
    {
     "data": {
      "text/plain": [
       "['UIC的办学性质是什么？', '学校现在有多少在校生？', 'UIC的全称是什么？', '北师港浸大的全称是什么？']"
      ]
     },
     "metadata": {},
     "output_type": "display_data"
    },
    {
     "data": {
      "text/plain": [
       "[0, 1, 2, 3]"
      ]
     },
     "metadata": {},
     "output_type": "display_data"
    },
    {
     "data": {
      "text/plain": [
       "dict"
      ]
     },
     "metadata": {},
     "output_type": "display_data"
    }
   ],
   "source": [
    "# 用read_and_split_the_excel创建字典\n",
    "question_list,answer_list = read_and_split_the_excel(\"../input/uic-cn-admission/CN_QA_dataset_all.xlsx\")\n",
    "display(question_list[:3])\n",
    "\n",
    "dict_index = dict(zip(question_list,range(len(question_list))))\n",
    "display(list(dict_index.keys())[:4])\n",
    "display(list(dict_index.values())[:4])\n",
    "display(type(dict_index))"
   ]
  },
  {
   "cell_type": "code",
   "execution_count": 39,
   "id": "fb372a81",
   "metadata": {
    "execution": {
     "iopub.execute_input": "2022-08-03T13:44:07.521309Z",
     "iopub.status.busy": "2022-08-03T13:44:07.520872Z",
     "iopub.status.idle": "2022-08-03T13:44:07.529472Z",
     "shell.execute_reply": "2022-08-03T13:44:07.528327Z"
    },
    "papermill": {
     "duration": 0.030065,
     "end_time": "2022-08-03T13:44:07.531708",
     "exception": false,
     "start_time": "2022-08-03T13:44:07.501643",
     "status": "completed"
    },
    "tags": []
   },
   "outputs": [
    {
     "data": {
      "text/plain": [
       "[0, 1, 3, 4, 6]"
      ]
     },
     "execution_count": 39,
     "metadata": {},
     "output_type": "execute_result"
    }
   ],
   "source": [
    "q_index = []\n",
    "for each in ori_list:\n",
    "    try:\n",
    "        q_index.append(dict_index[each])\n",
    "    except:\n",
    "        q_index.append(\"NaN\")\n",
    "        print(\"This sentence can not found in list:\\n\",each)\n",
    "q_index[:5]"
   ]
  },
  {
   "cell_type": "code",
   "execution_count": 40,
   "id": "129cf001",
   "metadata": {
    "execution": {
     "iopub.execute_input": "2022-08-03T13:44:07.569231Z",
     "iopub.status.busy": "2022-08-03T13:44:07.568489Z",
     "iopub.status.idle": "2022-08-03T13:44:07.578679Z",
     "shell.execute_reply": "2022-08-03T13:44:07.577649Z"
    },
    "papermill": {
     "duration": 0.031947,
     "end_time": "2022-08-03T13:44:07.581265",
     "exception": false,
     "start_time": "2022-08-03T13:44:07.549318",
     "status": "completed"
    },
    "tags": []
   },
   "outputs": [],
   "source": [
    "def test_TF_IDF(test_path, data_file_path, stopword_file_path, theresthold):\n",
    "    # read the file\n",
    "    ori_list,test_list, label_list = read_01_csv(test_path)\n",
    "    \n",
    "    # read the file\n",
    "    question_list,answer_list = read_and_split_the_excel(data_file_path)\n",
    "    \n",
    "    # make sentence dict\n",
    "    dict_index = dict(zip(question_list,range(len(question_list))))\n",
    "    \n",
    "    # make preprocessing for the ori_list\n",
    "    test_q_index = []\n",
    "    for each in ori_list:\n",
    "        try:\n",
    "            test_q_index.append(dict_index[each])\n",
    "        except:\n",
    "            test_q_index.append(\"NaN\")\n",
    "            print(\"This sentence can not found in list:\\n\",each)\n",
    "    \n",
    "    #这个是测试所对应的预期匹配问句的index,均是数据库出现的\n",
    "    ##########################test_q_index\n",
    "    \n",
    "    # stop words list\n",
    "    stop_words = obtain_stop_word(stopword_file_path)\n",
    "    \n",
    "    # make preprocessing for the question token list\n",
    "    question_token_list = generate_question_t_list(question_list, stop_words)\n",
    "    \n",
    "    # start to make a test\n",
    "    test_result_score_list =[]\n",
    "    \n",
    "    topk = 3\n",
    "    \n",
    "    # 对于数据集的每个问题进行查询\n",
    "    for question_index, question in enumerate(test_list):\n",
    "        # 对查询的问题进行处理\n",
    "        query = cn_stop_word_rm(question, stop_words)\n",
    "        \n",
    "        # 得到问题（答案）所对应的行索引\n",
    "        score = similarity_cn(question_token_list, query, all_score_without_rank=1)\n",
    "        \n",
    "        need_score_index = test_q_index[question_index]\n",
    "        \n",
    "        test_result_score_list.append(score[need_score_index])\n",
    "#         if question_index > 20:\n",
    "#             break\n",
    "            \n",
    "    test_ressult_list = np.array(test_result_score_list) > theresthold\n",
    "    \n",
    "    test_ressult_list = test_ressult_list+0\n",
    "    \n",
    "    return test_ressult_list,label_list"
   ]
  },
  {
   "cell_type": "code",
   "execution_count": 41,
   "id": "b8fbb3f7",
   "metadata": {
    "execution": {
     "iopub.execute_input": "2022-08-03T13:44:07.618843Z",
     "iopub.status.busy": "2022-08-03T13:44:07.617839Z",
     "iopub.status.idle": "2022-08-03T13:48:42.607688Z",
     "shell.execute_reply": "2022-08-03T13:48:42.606354Z"
    },
    "papermill": {
     "duration": 275.012435,
     "end_time": "2022-08-03T13:48:42.611450",
     "exception": false,
     "start_time": "2022-08-03T13:44:07.599015",
     "status": "completed"
    },
    "tags": []
   },
   "outputs": [],
   "source": [
    "# confirm the test\n",
    "test_path = \"../input/01-uic-rm-dup/01_all_rm_dup.csv\"\n",
    "data_file_path = \"../input/uic-cn-admission/CN_QA_dataset_all.xlsx\"\n",
    "stopword_file_path = '../input/english-and-chinese-stopwords/cn_stopwords.txt'\n",
    "theresthold = 0.7\n",
    "\n",
    "tf_idf_result,label_list = test_TF_IDF(test_path, data_file_path, stopword_file_path, theresthold)"
   ]
  },
  {
   "cell_type": "code",
   "execution_count": 42,
   "id": "34d45286",
   "metadata": {
    "execution": {
     "iopub.execute_input": "2022-08-03T13:48:42.696926Z",
     "iopub.status.busy": "2022-08-03T13:48:42.696358Z",
     "iopub.status.idle": "2022-08-03T13:48:43.435459Z",
     "shell.execute_reply": "2022-08-03T13:48:43.434357Z"
    },
    "papermill": {
     "duration": 0.772506,
     "end_time": "2022-08-03T13:48:43.437805",
     "exception": false,
     "start_time": "2022-08-03T13:48:42.665299",
     "status": "completed"
    },
    "tags": []
   },
   "outputs": [
    {
     "data": {
      "text/html": [
       "<div>\n",
       "<style scoped>\n",
       "    .dataframe tbody tr th:only-of-type {\n",
       "        vertical-align: middle;\n",
       "    }\n",
       "\n",
       "    .dataframe tbody tr th {\n",
       "        vertical-align: top;\n",
       "    }\n",
       "\n",
       "    .dataframe thead th {\n",
       "        text-align: right;\n",
       "    }\n",
       "</style>\n",
       "<table border=\"1\" class=\"dataframe\">\n",
       "  <thead>\n",
       "    <tr style=\"text-align: right;\">\n",
       "      <th></th>\n",
       "      <th>Class_type</th>\n",
       "      <th>F1-macro</th>\n",
       "      <th>Recall-macro</th>\n",
       "      <th>Precision-macro</th>\n",
       "    </tr>\n",
       "  </thead>\n",
       "  <tbody>\n",
       "    <tr>\n",
       "      <th>0</th>\n",
       "      <td>0</td>\n",
       "      <td>0.70471</td>\n",
       "      <td>0.711265</td>\n",
       "      <td>0.699171</td>\n",
       "    </tr>\n",
       "    <tr>\n",
       "      <th>1</th>\n",
       "      <td>1</td>\n",
       "      <td>0.70471</td>\n",
       "      <td>0.711265</td>\n",
       "      <td>0.699171</td>\n",
       "    </tr>\n",
       "  </tbody>\n",
       "</table>\n",
       "</div>"
      ],
      "text/plain": [
       "   Class_type  F1-macro  Recall-macro  Precision-macro\n",
       "0           0   0.70471      0.711265         0.699171\n",
       "1           1   0.70471      0.711265         0.699171"
      ]
     },
     "metadata": {},
     "output_type": "display_data"
    },
    {
     "data": {
      "text/html": [
       "<div>                            <div id=\"8e0f5e6a-f5fe-4a70-9fcd-65a724c7d447\" class=\"plotly-graph-div\" style=\"height:525px; width:100%;\"></div>            <script type=\"text/javascript\">                require([\"plotly\"], function(Plotly) {                    window.PLOTLYENV=window.PLOTLYENV || {};                                    if (document.getElementById(\"8e0f5e6a-f5fe-4a70-9fcd-65a724c7d447\")) {                    Plotly.newPlot(                        \"8e0f5e6a-f5fe-4a70-9fcd-65a724c7d447\",                        [{\"coloraxis\":\"coloraxis\",\"name\":\"0\",\"texttemplate\":\"%{z}\",\"x\":[\"0\",\"1\"],\"y\":[\"0\",\"1\"],\"z\":[[237,185],[221,1368]],\"type\":\"heatmap\",\"xaxis\":\"x\",\"yaxis\":\"y\",\"hovertemplate\":\"True label: %{x}<br>Predicted label: %{y}<br>times: %{z}<extra></extra>\"}],                        {\"template\":{\"data\":{\"histogram2dcontour\":[{\"type\":\"histogram2dcontour\",\"colorbar\":{\"outlinewidth\":0,\"ticks\":\"\"},\"colorscale\":[[0.0,\"#0d0887\"],[0.1111111111111111,\"#46039f\"],[0.2222222222222222,\"#7201a8\"],[0.3333333333333333,\"#9c179e\"],[0.4444444444444444,\"#bd3786\"],[0.5555555555555556,\"#d8576b\"],[0.6666666666666666,\"#ed7953\"],[0.7777777777777778,\"#fb9f3a\"],[0.8888888888888888,\"#fdca26\"],[1.0,\"#f0f921\"]]}],\"choropleth\":[{\"type\":\"choropleth\",\"colorbar\":{\"outlinewidth\":0,\"ticks\":\"\"}}],\"histogram2d\":[{\"type\":\"histogram2d\",\"colorbar\":{\"outlinewidth\":0,\"ticks\":\"\"},\"colorscale\":[[0.0,\"#0d0887\"],[0.1111111111111111,\"#46039f\"],[0.2222222222222222,\"#7201a8\"],[0.3333333333333333,\"#9c179e\"],[0.4444444444444444,\"#bd3786\"],[0.5555555555555556,\"#d8576b\"],[0.6666666666666666,\"#ed7953\"],[0.7777777777777778,\"#fb9f3a\"],[0.8888888888888888,\"#fdca26\"],[1.0,\"#f0f921\"]]}],\"heatmap\":[{\"type\":\"heatmap\",\"colorbar\":{\"outlinewidth\":0,\"ticks\":\"\"},\"colorscale\":[[0.0,\"#0d0887\"],[0.1111111111111111,\"#46039f\"],[0.2222222222222222,\"#7201a8\"],[0.3333333333333333,\"#9c179e\"],[0.4444444444444444,\"#bd3786\"],[0.5555555555555556,\"#d8576b\"],[0.6666666666666666,\"#ed7953\"],[0.7777777777777778,\"#fb9f3a\"],[0.8888888888888888,\"#fdca26\"],[1.0,\"#f0f921\"]]}],\"heatmapgl\":[{\"type\":\"heatmapgl\",\"colorbar\":{\"outlinewidth\":0,\"ticks\":\"\"},\"colorscale\":[[0.0,\"#0d0887\"],[0.1111111111111111,\"#46039f\"],[0.2222222222222222,\"#7201a8\"],[0.3333333333333333,\"#9c179e\"],[0.4444444444444444,\"#bd3786\"],[0.5555555555555556,\"#d8576b\"],[0.6666666666666666,\"#ed7953\"],[0.7777777777777778,\"#fb9f3a\"],[0.8888888888888888,\"#fdca26\"],[1.0,\"#f0f921\"]]}],\"contourcarpet\":[{\"type\":\"contourcarpet\",\"colorbar\":{\"outlinewidth\":0,\"ticks\":\"\"}}],\"contour\":[{\"type\":\"contour\",\"colorbar\":{\"outlinewidth\":0,\"ticks\":\"\"},\"colorscale\":[[0.0,\"#0d0887\"],[0.1111111111111111,\"#46039f\"],[0.2222222222222222,\"#7201a8\"],[0.3333333333333333,\"#9c179e\"],[0.4444444444444444,\"#bd3786\"],[0.5555555555555556,\"#d8576b\"],[0.6666666666666666,\"#ed7953\"],[0.7777777777777778,\"#fb9f3a\"],[0.8888888888888888,\"#fdca26\"],[1.0,\"#f0f921\"]]}],\"surface\":[{\"type\":\"surface\",\"colorbar\":{\"outlinewidth\":0,\"ticks\":\"\"},\"colorscale\":[[0.0,\"#0d0887\"],[0.1111111111111111,\"#46039f\"],[0.2222222222222222,\"#7201a8\"],[0.3333333333333333,\"#9c179e\"],[0.4444444444444444,\"#bd3786\"],[0.5555555555555556,\"#d8576b\"],[0.6666666666666666,\"#ed7953\"],[0.7777777777777778,\"#fb9f3a\"],[0.8888888888888888,\"#fdca26\"],[1.0,\"#f0f921\"]]}],\"mesh3d\":[{\"type\":\"mesh3d\",\"colorbar\":{\"outlinewidth\":0,\"ticks\":\"\"}}],\"scatter\":[{\"fillpattern\":{\"fillmode\":\"overlay\",\"size\":10,\"solidity\":0.2},\"type\":\"scatter\"}],\"parcoords\":[{\"type\":\"parcoords\",\"line\":{\"colorbar\":{\"outlinewidth\":0,\"ticks\":\"\"}}}],\"scatterpolargl\":[{\"type\":\"scatterpolargl\",\"marker\":{\"colorbar\":{\"outlinewidth\":0,\"ticks\":\"\"}}}],\"bar\":[{\"error_x\":{\"color\":\"#2a3f5f\"},\"error_y\":{\"color\":\"#2a3f5f\"},\"marker\":{\"line\":{\"color\":\"#E5ECF6\",\"width\":0.5},\"pattern\":{\"fillmode\":\"overlay\",\"size\":10,\"solidity\":0.2}},\"type\":\"bar\"}],\"scattergeo\":[{\"type\":\"scattergeo\",\"marker\":{\"colorbar\":{\"outlinewidth\":0,\"ticks\":\"\"}}}],\"scatterpolar\":[{\"type\":\"scatterpolar\",\"marker\":{\"colorbar\":{\"outlinewidth\":0,\"ticks\":\"\"}}}],\"histogram\":[{\"marker\":{\"pattern\":{\"fillmode\":\"overlay\",\"size\":10,\"solidity\":0.2}},\"type\":\"histogram\"}],\"scattergl\":[{\"type\":\"scattergl\",\"marker\":{\"colorbar\":{\"outlinewidth\":0,\"ticks\":\"\"}}}],\"scatter3d\":[{\"type\":\"scatter3d\",\"line\":{\"colorbar\":{\"outlinewidth\":0,\"ticks\":\"\"}},\"marker\":{\"colorbar\":{\"outlinewidth\":0,\"ticks\":\"\"}}}],\"scattermapbox\":[{\"type\":\"scattermapbox\",\"marker\":{\"colorbar\":{\"outlinewidth\":0,\"ticks\":\"\"}}}],\"scatterternary\":[{\"type\":\"scatterternary\",\"marker\":{\"colorbar\":{\"outlinewidth\":0,\"ticks\":\"\"}}}],\"scattercarpet\":[{\"type\":\"scattercarpet\",\"marker\":{\"colorbar\":{\"outlinewidth\":0,\"ticks\":\"\"}}}],\"carpet\":[{\"aaxis\":{\"endlinecolor\":\"#2a3f5f\",\"gridcolor\":\"white\",\"linecolor\":\"white\",\"minorgridcolor\":\"white\",\"startlinecolor\":\"#2a3f5f\"},\"baxis\":{\"endlinecolor\":\"#2a3f5f\",\"gridcolor\":\"white\",\"linecolor\":\"white\",\"minorgridcolor\":\"white\",\"startlinecolor\":\"#2a3f5f\"},\"type\":\"carpet\"}],\"table\":[{\"cells\":{\"fill\":{\"color\":\"#EBF0F8\"},\"line\":{\"color\":\"white\"}},\"header\":{\"fill\":{\"color\":\"#C8D4E3\"},\"line\":{\"color\":\"white\"}},\"type\":\"table\"}],\"barpolar\":[{\"marker\":{\"line\":{\"color\":\"#E5ECF6\",\"width\":0.5},\"pattern\":{\"fillmode\":\"overlay\",\"size\":10,\"solidity\":0.2}},\"type\":\"barpolar\"}],\"pie\":[{\"automargin\":true,\"type\":\"pie\"}]},\"layout\":{\"autotypenumbers\":\"strict\",\"colorway\":[\"#636efa\",\"#EF553B\",\"#00cc96\",\"#ab63fa\",\"#FFA15A\",\"#19d3f3\",\"#FF6692\",\"#B6E880\",\"#FF97FF\",\"#FECB52\"],\"font\":{\"color\":\"#2a3f5f\"},\"hovermode\":\"closest\",\"hoverlabel\":{\"align\":\"left\"},\"paper_bgcolor\":\"white\",\"plot_bgcolor\":\"#E5ECF6\",\"polar\":{\"bgcolor\":\"#E5ECF6\",\"angularaxis\":{\"gridcolor\":\"white\",\"linecolor\":\"white\",\"ticks\":\"\"},\"radialaxis\":{\"gridcolor\":\"white\",\"linecolor\":\"white\",\"ticks\":\"\"}},\"ternary\":{\"bgcolor\":\"#E5ECF6\",\"aaxis\":{\"gridcolor\":\"white\",\"linecolor\":\"white\",\"ticks\":\"\"},\"baxis\":{\"gridcolor\":\"white\",\"linecolor\":\"white\",\"ticks\":\"\"},\"caxis\":{\"gridcolor\":\"white\",\"linecolor\":\"white\",\"ticks\":\"\"}},\"coloraxis\":{\"colorbar\":{\"outlinewidth\":0,\"ticks\":\"\"}},\"colorscale\":{\"sequential\":[[0.0,\"#0d0887\"],[0.1111111111111111,\"#46039f\"],[0.2222222222222222,\"#7201a8\"],[0.3333333333333333,\"#9c179e\"],[0.4444444444444444,\"#bd3786\"],[0.5555555555555556,\"#d8576b\"],[0.6666666666666666,\"#ed7953\"],[0.7777777777777778,\"#fb9f3a\"],[0.8888888888888888,\"#fdca26\"],[1.0,\"#f0f921\"]],\"sequentialminus\":[[0.0,\"#0d0887\"],[0.1111111111111111,\"#46039f\"],[0.2222222222222222,\"#7201a8\"],[0.3333333333333333,\"#9c179e\"],[0.4444444444444444,\"#bd3786\"],[0.5555555555555556,\"#d8576b\"],[0.6666666666666666,\"#ed7953\"],[0.7777777777777778,\"#fb9f3a\"],[0.8888888888888888,\"#fdca26\"],[1.0,\"#f0f921\"]],\"diverging\":[[0,\"#8e0152\"],[0.1,\"#c51b7d\"],[0.2,\"#de77ae\"],[0.3,\"#f1b6da\"],[0.4,\"#fde0ef\"],[0.5,\"#f7f7f7\"],[0.6,\"#e6f5d0\"],[0.7,\"#b8e186\"],[0.8,\"#7fbc41\"],[0.9,\"#4d9221\"],[1,\"#276419\"]]},\"xaxis\":{\"gridcolor\":\"white\",\"linecolor\":\"white\",\"ticks\":\"\",\"title\":{\"standoff\":15},\"zerolinecolor\":\"white\",\"automargin\":true,\"zerolinewidth\":2},\"yaxis\":{\"gridcolor\":\"white\",\"linecolor\":\"white\",\"ticks\":\"\",\"title\":{\"standoff\":15},\"zerolinecolor\":\"white\",\"automargin\":true,\"zerolinewidth\":2},\"scene\":{\"xaxis\":{\"backgroundcolor\":\"#E5ECF6\",\"gridcolor\":\"white\",\"linecolor\":\"white\",\"showbackground\":true,\"ticks\":\"\",\"zerolinecolor\":\"white\",\"gridwidth\":2},\"yaxis\":{\"backgroundcolor\":\"#E5ECF6\",\"gridcolor\":\"white\",\"linecolor\":\"white\",\"showbackground\":true,\"ticks\":\"\",\"zerolinecolor\":\"white\",\"gridwidth\":2},\"zaxis\":{\"backgroundcolor\":\"#E5ECF6\",\"gridcolor\":\"white\",\"linecolor\":\"white\",\"showbackground\":true,\"ticks\":\"\",\"zerolinecolor\":\"white\",\"gridwidth\":2}},\"shapedefaults\":{\"line\":{\"color\":\"#2a3f5f\"}},\"annotationdefaults\":{\"arrowcolor\":\"#2a3f5f\",\"arrowhead\":0,\"arrowwidth\":1},\"geo\":{\"bgcolor\":\"white\",\"landcolor\":\"#E5ECF6\",\"subunitcolor\":\"white\",\"showland\":true,\"showlakes\":true,\"lakecolor\":\"white\"},\"title\":{\"x\":0.05},\"mapbox\":{\"style\":\"light\"}}},\"xaxis\":{\"anchor\":\"y\",\"domain\":[0.0,1.0],\"scaleanchor\":\"y\",\"constrain\":\"domain\",\"title\":{\"text\":\"True label\"}},\"yaxis\":{\"anchor\":\"x\",\"domain\":[0.0,1.0],\"autorange\":\"reversed\",\"constrain\":\"domain\",\"title\":{\"text\":\"Predicted label\"}},\"coloraxis\":{\"colorbar\":{\"title\":{\"text\":\"times\"}},\"colorscale\":[[0.0,\"#0d0887\"],[0.1111111111111111,\"#46039f\"],[0.2222222222222222,\"#7201a8\"],[0.3333333333333333,\"#9c179e\"],[0.4444444444444444,\"#bd3786\"],[0.5555555555555556,\"#d8576b\"],[0.6666666666666666,\"#ed7953\"],[0.7777777777777778,\"#fb9f3a\"],[0.8888888888888888,\"#fdca26\"],[1.0,\"#f0f921\"]]},\"margin\":{\"t\":60}},                        {\"responsive\": true}                    ).then(function(){\n",
       "                            \n",
       "var gd = document.getElementById('8e0f5e6a-f5fe-4a70-9fcd-65a724c7d447');\n",
       "var x = new MutationObserver(function (mutations, observer) {{\n",
       "        var display = window.getComputedStyle(gd).display;\n",
       "        if (!display || display === 'none') {{\n",
       "            console.log([gd, 'removed!']);\n",
       "            Plotly.purge(gd);\n",
       "            observer.disconnect();\n",
       "        }}\n",
       "}});\n",
       "\n",
       "// Listen for the removal of the full notebook cells\n",
       "var notebookContainer = gd.closest('#notebook-container');\n",
       "if (notebookContainer) {{\n",
       "    x.observe(notebookContainer, {childList: true});\n",
       "}}\n",
       "\n",
       "// Listen for the clearing of the current output cell\n",
       "var outputEl = gd.closest('.output');\n",
       "if (outputEl) {{\n",
       "    x.observe(outputEl, {childList: true});\n",
       "}}\n",
       "\n",
       "                        })                };                });            </script>        </div>"
      ]
     },
     "metadata": {},
     "output_type": "display_data"
    },
    {
     "data": {
      "text/plain": [
       "array([[ 237,  185],\n",
       "       [ 221, 1368]])"
      ]
     },
     "execution_count": 42,
     "metadata": {},
     "output_type": "execute_result"
    }
   ],
   "source": [
    "performance(tf_idf_result,label_list)"
   ]
  },
  {
   "cell_type": "code",
   "execution_count": 43,
   "id": "e741a164",
   "metadata": {
    "execution": {
     "iopub.execute_input": "2022-08-03T13:48:43.476735Z",
     "iopub.status.busy": "2022-08-03T13:48:43.476307Z",
     "iopub.status.idle": "2022-08-03T13:48:43.486712Z",
     "shell.execute_reply": "2022-08-03T13:48:43.485765Z"
    },
    "papermill": {
     "duration": 0.032535,
     "end_time": "2022-08-03T13:48:43.488974",
     "exception": false,
     "start_time": "2022-08-03T13:48:43.456439",
     "status": "completed"
    },
    "tags": []
   },
   "outputs": [],
   "source": [
    "def test_BERT(test_path, data_file_path, stopword_file_path, theresthold, bert_model_name):\n",
    "    # read the file\n",
    "    ori_list,test_list, label_list = read_01_csv(test_path)\n",
    "    \n",
    "    # read the file\n",
    "    question_list,answer_list = read_and_split_the_excel(data_file_path)\n",
    "    \n",
    "     # make sentence dict\n",
    "    dict_index = dict(zip(question_list,range(len(question_list))))\n",
    "    \n",
    "    # make preprocessing for the ori_list\n",
    "    test_q_index = []\n",
    "    for each in ori_list:\n",
    "        try:\n",
    "            test_q_index.append(dict_index[each])\n",
    "        except:\n",
    "            test_q_index.append(\"NaN\")\n",
    "            print(\"This sentence can not found in list:\\n\",each)\n",
    "    \n",
    "    #这个是测试所对应的预期匹配问句的index,均是数据库出现的\n",
    "    # score 直接去这个index就得到了需要的\n",
    "    ##########################test_q_index\n",
    "    \n",
    "    # initial things\n",
    "    tokenizer = BertTokenizer.from_pretrained(bert_model_name)\n",
    "    model = BertModel.from_pretrained(bert_model_name)\n",
    "    \n",
    "    doc_vecs = transfer_all_q2v(question_list,tokenizer,model)\n",
    "    \n",
    "    # start to make a test\n",
    "    test_result_score_list =[]\n",
    "    \n",
    "    # 这里开始循环\n",
    "    for question_index,query in enumerate(test_list):\n",
    "        query_vec = transfer_sentence_vector(query,tokenizer,model)\n",
    "    \n",
    "        # 匹配\n",
    "        score = get_similar_q_id(query_vec,doc_vecs,tokenizer,model,all_score_without_rank=1)\n",
    "        \n",
    "        need_score_index = test_q_index[question_index]\n",
    "        \n",
    "        test_result_score_list.append(score[need_score_index])\n",
    "    \n",
    "#         if question_index > 5:\n",
    "#             break\n",
    "        \n",
    "    test_ressult_list = np.array(test_result_score_list) > theresthold\n",
    "    \n",
    "    test_ressult_list = test_ressult_list+0\n",
    "    \n",
    "    return test_ressult_list,label_list"
   ]
  },
  {
   "cell_type": "code",
   "execution_count": 44,
   "id": "c06d544d",
   "metadata": {
    "execution": {
     "iopub.execute_input": "2022-08-03T13:48:43.527794Z",
     "iopub.status.busy": "2022-08-03T13:48:43.527027Z",
     "iopub.status.idle": "2022-08-03T13:51:37.481782Z",
     "shell.execute_reply": "2022-08-03T13:51:37.480450Z"
    },
    "papermill": {
     "duration": 173.977342,
     "end_time": "2022-08-03T13:51:37.484644",
     "exception": false,
     "start_time": "2022-08-03T13:48:43.507302",
     "status": "completed"
    },
    "tags": []
   },
   "outputs": [
    {
     "name": "stderr",
     "output_type": "stream",
     "text": [
      "Some weights of the model checkpoint at bert-base-chinese were not used when initializing BertModel: ['cls.predictions.transform.dense.weight', 'cls.predictions.bias', 'cls.predictions.transform.dense.bias', 'cls.predictions.decoder.weight', 'cls.seq_relationship.weight', 'cls.predictions.transform.LayerNorm.weight', 'cls.predictions.transform.LayerNorm.bias', 'cls.seq_relationship.bias']\n",
      "- This IS expected if you are initializing BertModel from the checkpoint of a model trained on another task or with another architecture (e.g. initializing a BertForSequenceClassification model from a BertForPreTraining model).\n",
      "- This IS NOT expected if you are initializing BertModel from the checkpoint of a model that you expect to be exactly identical (initializing a BertForSequenceClassification model from a BertForSequenceClassification model).\n"
     ]
    }
   ],
   "source": [
    "# confirm the test\n",
    "test_path = \"../input/01-uic-rm-dup/01_all_rm_dup.csv\"\n",
    "data_file_path = \"../input/uic-cn-admission/CN_QA_dataset_all.xlsx\"\n",
    "stopword_file_path = '../input/english-and-chinese-stopwords/cn_stopwords.txt'\n",
    "bert_model_name = 'bert-base-chinese'\n",
    "theresthold = 0.99\n",
    "\n",
    "BERT_ressult,label_list = test_BERT(test_path, data_file_path, stopword_file_path, theresthold, bert_model_name)"
   ]
  },
  {
   "cell_type": "code",
   "execution_count": 45,
   "id": "750c326c",
   "metadata": {
    "execution": {
     "iopub.execute_input": "2022-08-03T13:51:37.523704Z",
     "iopub.status.busy": "2022-08-03T13:51:37.523326Z",
     "iopub.status.idle": "2022-08-03T13:51:38.502480Z",
     "shell.execute_reply": "2022-08-03T13:51:38.501318Z"
    },
    "papermill": {
     "duration": 1.001439,
     "end_time": "2022-08-03T13:51:38.504767",
     "exception": false,
     "start_time": "2022-08-03T13:51:37.503328",
     "status": "completed"
    },
    "tags": []
   },
   "outputs": [
    {
     "data": {
      "text/html": [
       "<div>\n",
       "<style scoped>\n",
       "    .dataframe tbody tr th:only-of-type {\n",
       "        vertical-align: middle;\n",
       "    }\n",
       "\n",
       "    .dataframe tbody tr th {\n",
       "        vertical-align: top;\n",
       "    }\n",
       "\n",
       "    .dataframe thead th {\n",
       "        text-align: right;\n",
       "    }\n",
       "</style>\n",
       "<table border=\"1\" class=\"dataframe\">\n",
       "  <thead>\n",
       "    <tr style=\"text-align: right;\">\n",
       "      <th></th>\n",
       "      <th>Class_type</th>\n",
       "      <th>F1-macro</th>\n",
       "      <th>Recall-macro</th>\n",
       "      <th>Precision-macro</th>\n",
       "    </tr>\n",
       "  </thead>\n",
       "  <tbody>\n",
       "    <tr>\n",
       "      <th>0</th>\n",
       "      <td>0</td>\n",
       "      <td>0.317304</td>\n",
       "      <td>0.624002</td>\n",
       "      <td>0.564266</td>\n",
       "    </tr>\n",
       "    <tr>\n",
       "      <th>1</th>\n",
       "      <td>1</td>\n",
       "      <td>0.317304</td>\n",
       "      <td>0.624002</td>\n",
       "      <td>0.564266</td>\n",
       "    </tr>\n",
       "  </tbody>\n",
       "</table>\n",
       "</div>"
      ],
      "text/plain": [
       "   Class_type  F1-macro  Recall-macro  Precision-macro\n",
       "0           0  0.317304      0.624002         0.564266\n",
       "1           1  0.317304      0.624002         0.564266"
      ]
     },
     "metadata": {},
     "output_type": "display_data"
    },
    {
     "data": {
      "text/html": [
       "<div>                            <div id=\"0d31828c-90f9-4e73-afa7-b1e773c919d2\" class=\"plotly-graph-div\" style=\"height:525px; width:100%;\"></div>            <script type=\"text/javascript\">                require([\"plotly\"], function(Plotly) {                    window.PLOTLYENV=window.PLOTLYENV || {};                                    if (document.getElementById(\"0d31828c-90f9-4e73-afa7-b1e773c919d2\")) {                    Plotly.newPlot(                        \"0d31828c-90f9-4e73-afa7-b1e773c919d2\",                        [{\"coloraxis\":\"coloraxis\",\"name\":\"0\",\"texttemplate\":\"%{z}\",\"x\":[\"0\",\"1\"],\"y\":[\"0\",\"1\"],\"z\":[[457,1350],[1,203]],\"type\":\"heatmap\",\"xaxis\":\"x\",\"yaxis\":\"y\",\"hovertemplate\":\"True label: %{x}<br>Predicted label: %{y}<br>times: %{z}<extra></extra>\"}],                        {\"template\":{\"data\":{\"histogram2dcontour\":[{\"type\":\"histogram2dcontour\",\"colorbar\":{\"outlinewidth\":0,\"ticks\":\"\"},\"colorscale\":[[0.0,\"#0d0887\"],[0.1111111111111111,\"#46039f\"],[0.2222222222222222,\"#7201a8\"],[0.3333333333333333,\"#9c179e\"],[0.4444444444444444,\"#bd3786\"],[0.5555555555555556,\"#d8576b\"],[0.6666666666666666,\"#ed7953\"],[0.7777777777777778,\"#fb9f3a\"],[0.8888888888888888,\"#fdca26\"],[1.0,\"#f0f921\"]]}],\"choropleth\":[{\"type\":\"choropleth\",\"colorbar\":{\"outlinewidth\":0,\"ticks\":\"\"}}],\"histogram2d\":[{\"type\":\"histogram2d\",\"colorbar\":{\"outlinewidth\":0,\"ticks\":\"\"},\"colorscale\":[[0.0,\"#0d0887\"],[0.1111111111111111,\"#46039f\"],[0.2222222222222222,\"#7201a8\"],[0.3333333333333333,\"#9c179e\"],[0.4444444444444444,\"#bd3786\"],[0.5555555555555556,\"#d8576b\"],[0.6666666666666666,\"#ed7953\"],[0.7777777777777778,\"#fb9f3a\"],[0.8888888888888888,\"#fdca26\"],[1.0,\"#f0f921\"]]}],\"heatmap\":[{\"type\":\"heatmap\",\"colorbar\":{\"outlinewidth\":0,\"ticks\":\"\"},\"colorscale\":[[0.0,\"#0d0887\"],[0.1111111111111111,\"#46039f\"],[0.2222222222222222,\"#7201a8\"],[0.3333333333333333,\"#9c179e\"],[0.4444444444444444,\"#bd3786\"],[0.5555555555555556,\"#d8576b\"],[0.6666666666666666,\"#ed7953\"],[0.7777777777777778,\"#fb9f3a\"],[0.8888888888888888,\"#fdca26\"],[1.0,\"#f0f921\"]]}],\"heatmapgl\":[{\"type\":\"heatmapgl\",\"colorbar\":{\"outlinewidth\":0,\"ticks\":\"\"},\"colorscale\":[[0.0,\"#0d0887\"],[0.1111111111111111,\"#46039f\"],[0.2222222222222222,\"#7201a8\"],[0.3333333333333333,\"#9c179e\"],[0.4444444444444444,\"#bd3786\"],[0.5555555555555556,\"#d8576b\"],[0.6666666666666666,\"#ed7953\"],[0.7777777777777778,\"#fb9f3a\"],[0.8888888888888888,\"#fdca26\"],[1.0,\"#f0f921\"]]}],\"contourcarpet\":[{\"type\":\"contourcarpet\",\"colorbar\":{\"outlinewidth\":0,\"ticks\":\"\"}}],\"contour\":[{\"type\":\"contour\",\"colorbar\":{\"outlinewidth\":0,\"ticks\":\"\"},\"colorscale\":[[0.0,\"#0d0887\"],[0.1111111111111111,\"#46039f\"],[0.2222222222222222,\"#7201a8\"],[0.3333333333333333,\"#9c179e\"],[0.4444444444444444,\"#bd3786\"],[0.5555555555555556,\"#d8576b\"],[0.6666666666666666,\"#ed7953\"],[0.7777777777777778,\"#fb9f3a\"],[0.8888888888888888,\"#fdca26\"],[1.0,\"#f0f921\"]]}],\"surface\":[{\"type\":\"surface\",\"colorbar\":{\"outlinewidth\":0,\"ticks\":\"\"},\"colorscale\":[[0.0,\"#0d0887\"],[0.1111111111111111,\"#46039f\"],[0.2222222222222222,\"#7201a8\"],[0.3333333333333333,\"#9c179e\"],[0.4444444444444444,\"#bd3786\"],[0.5555555555555556,\"#d8576b\"],[0.6666666666666666,\"#ed7953\"],[0.7777777777777778,\"#fb9f3a\"],[0.8888888888888888,\"#fdca26\"],[1.0,\"#f0f921\"]]}],\"mesh3d\":[{\"type\":\"mesh3d\",\"colorbar\":{\"outlinewidth\":0,\"ticks\":\"\"}}],\"scatter\":[{\"fillpattern\":{\"fillmode\":\"overlay\",\"size\":10,\"solidity\":0.2},\"type\":\"scatter\"}],\"parcoords\":[{\"type\":\"parcoords\",\"line\":{\"colorbar\":{\"outlinewidth\":0,\"ticks\":\"\"}}}],\"scatterpolargl\":[{\"type\":\"scatterpolargl\",\"marker\":{\"colorbar\":{\"outlinewidth\":0,\"ticks\":\"\"}}}],\"bar\":[{\"error_x\":{\"color\":\"#2a3f5f\"},\"error_y\":{\"color\":\"#2a3f5f\"},\"marker\":{\"line\":{\"color\":\"#E5ECF6\",\"width\":0.5},\"pattern\":{\"fillmode\":\"overlay\",\"size\":10,\"solidity\":0.2}},\"type\":\"bar\"}],\"scattergeo\":[{\"type\":\"scattergeo\",\"marker\":{\"colorbar\":{\"outlinewidth\":0,\"ticks\":\"\"}}}],\"scatterpolar\":[{\"type\":\"scatterpolar\",\"marker\":{\"colorbar\":{\"outlinewidth\":0,\"ticks\":\"\"}}}],\"histogram\":[{\"marker\":{\"pattern\":{\"fillmode\":\"overlay\",\"size\":10,\"solidity\":0.2}},\"type\":\"histogram\"}],\"scattergl\":[{\"type\":\"scattergl\",\"marker\":{\"colorbar\":{\"outlinewidth\":0,\"ticks\":\"\"}}}],\"scatter3d\":[{\"type\":\"scatter3d\",\"line\":{\"colorbar\":{\"outlinewidth\":0,\"ticks\":\"\"}},\"marker\":{\"colorbar\":{\"outlinewidth\":0,\"ticks\":\"\"}}}],\"scattermapbox\":[{\"type\":\"scattermapbox\",\"marker\":{\"colorbar\":{\"outlinewidth\":0,\"ticks\":\"\"}}}],\"scatterternary\":[{\"type\":\"scatterternary\",\"marker\":{\"colorbar\":{\"outlinewidth\":0,\"ticks\":\"\"}}}],\"scattercarpet\":[{\"type\":\"scattercarpet\",\"marker\":{\"colorbar\":{\"outlinewidth\":0,\"ticks\":\"\"}}}],\"carpet\":[{\"aaxis\":{\"endlinecolor\":\"#2a3f5f\",\"gridcolor\":\"white\",\"linecolor\":\"white\",\"minorgridcolor\":\"white\",\"startlinecolor\":\"#2a3f5f\"},\"baxis\":{\"endlinecolor\":\"#2a3f5f\",\"gridcolor\":\"white\",\"linecolor\":\"white\",\"minorgridcolor\":\"white\",\"startlinecolor\":\"#2a3f5f\"},\"type\":\"carpet\"}],\"table\":[{\"cells\":{\"fill\":{\"color\":\"#EBF0F8\"},\"line\":{\"color\":\"white\"}},\"header\":{\"fill\":{\"color\":\"#C8D4E3\"},\"line\":{\"color\":\"white\"}},\"type\":\"table\"}],\"barpolar\":[{\"marker\":{\"line\":{\"color\":\"#E5ECF6\",\"width\":0.5},\"pattern\":{\"fillmode\":\"overlay\",\"size\":10,\"solidity\":0.2}},\"type\":\"barpolar\"}],\"pie\":[{\"automargin\":true,\"type\":\"pie\"}]},\"layout\":{\"autotypenumbers\":\"strict\",\"colorway\":[\"#636efa\",\"#EF553B\",\"#00cc96\",\"#ab63fa\",\"#FFA15A\",\"#19d3f3\",\"#FF6692\",\"#B6E880\",\"#FF97FF\",\"#FECB52\"],\"font\":{\"color\":\"#2a3f5f\"},\"hovermode\":\"closest\",\"hoverlabel\":{\"align\":\"left\"},\"paper_bgcolor\":\"white\",\"plot_bgcolor\":\"#E5ECF6\",\"polar\":{\"bgcolor\":\"#E5ECF6\",\"angularaxis\":{\"gridcolor\":\"white\",\"linecolor\":\"white\",\"ticks\":\"\"},\"radialaxis\":{\"gridcolor\":\"white\",\"linecolor\":\"white\",\"ticks\":\"\"}},\"ternary\":{\"bgcolor\":\"#E5ECF6\",\"aaxis\":{\"gridcolor\":\"white\",\"linecolor\":\"white\",\"ticks\":\"\"},\"baxis\":{\"gridcolor\":\"white\",\"linecolor\":\"white\",\"ticks\":\"\"},\"caxis\":{\"gridcolor\":\"white\",\"linecolor\":\"white\",\"ticks\":\"\"}},\"coloraxis\":{\"colorbar\":{\"outlinewidth\":0,\"ticks\":\"\"}},\"colorscale\":{\"sequential\":[[0.0,\"#0d0887\"],[0.1111111111111111,\"#46039f\"],[0.2222222222222222,\"#7201a8\"],[0.3333333333333333,\"#9c179e\"],[0.4444444444444444,\"#bd3786\"],[0.5555555555555556,\"#d8576b\"],[0.6666666666666666,\"#ed7953\"],[0.7777777777777778,\"#fb9f3a\"],[0.8888888888888888,\"#fdca26\"],[1.0,\"#f0f921\"]],\"sequentialminus\":[[0.0,\"#0d0887\"],[0.1111111111111111,\"#46039f\"],[0.2222222222222222,\"#7201a8\"],[0.3333333333333333,\"#9c179e\"],[0.4444444444444444,\"#bd3786\"],[0.5555555555555556,\"#d8576b\"],[0.6666666666666666,\"#ed7953\"],[0.7777777777777778,\"#fb9f3a\"],[0.8888888888888888,\"#fdca26\"],[1.0,\"#f0f921\"]],\"diverging\":[[0,\"#8e0152\"],[0.1,\"#c51b7d\"],[0.2,\"#de77ae\"],[0.3,\"#f1b6da\"],[0.4,\"#fde0ef\"],[0.5,\"#f7f7f7\"],[0.6,\"#e6f5d0\"],[0.7,\"#b8e186\"],[0.8,\"#7fbc41\"],[0.9,\"#4d9221\"],[1,\"#276419\"]]},\"xaxis\":{\"gridcolor\":\"white\",\"linecolor\":\"white\",\"ticks\":\"\",\"title\":{\"standoff\":15},\"zerolinecolor\":\"white\",\"automargin\":true,\"zerolinewidth\":2},\"yaxis\":{\"gridcolor\":\"white\",\"linecolor\":\"white\",\"ticks\":\"\",\"title\":{\"standoff\":15},\"zerolinecolor\":\"white\",\"automargin\":true,\"zerolinewidth\":2},\"scene\":{\"xaxis\":{\"backgroundcolor\":\"#E5ECF6\",\"gridcolor\":\"white\",\"linecolor\":\"white\",\"showbackground\":true,\"ticks\":\"\",\"zerolinecolor\":\"white\",\"gridwidth\":2},\"yaxis\":{\"backgroundcolor\":\"#E5ECF6\",\"gridcolor\":\"white\",\"linecolor\":\"white\",\"showbackground\":true,\"ticks\":\"\",\"zerolinecolor\":\"white\",\"gridwidth\":2},\"zaxis\":{\"backgroundcolor\":\"#E5ECF6\",\"gridcolor\":\"white\",\"linecolor\":\"white\",\"showbackground\":true,\"ticks\":\"\",\"zerolinecolor\":\"white\",\"gridwidth\":2}},\"shapedefaults\":{\"line\":{\"color\":\"#2a3f5f\"}},\"annotationdefaults\":{\"arrowcolor\":\"#2a3f5f\",\"arrowhead\":0,\"arrowwidth\":1},\"geo\":{\"bgcolor\":\"white\",\"landcolor\":\"#E5ECF6\",\"subunitcolor\":\"white\",\"showland\":true,\"showlakes\":true,\"lakecolor\":\"white\"},\"title\":{\"x\":0.05},\"mapbox\":{\"style\":\"light\"}}},\"xaxis\":{\"anchor\":\"y\",\"domain\":[0.0,1.0],\"scaleanchor\":\"y\",\"constrain\":\"domain\",\"title\":{\"text\":\"True label\"}},\"yaxis\":{\"anchor\":\"x\",\"domain\":[0.0,1.0],\"autorange\":\"reversed\",\"constrain\":\"domain\",\"title\":{\"text\":\"Predicted label\"}},\"coloraxis\":{\"colorbar\":{\"title\":{\"text\":\"times\"}},\"colorscale\":[[0.0,\"#0d0887\"],[0.1111111111111111,\"#46039f\"],[0.2222222222222222,\"#7201a8\"],[0.3333333333333333,\"#9c179e\"],[0.4444444444444444,\"#bd3786\"],[0.5555555555555556,\"#d8576b\"],[0.6666666666666666,\"#ed7953\"],[0.7777777777777778,\"#fb9f3a\"],[0.8888888888888888,\"#fdca26\"],[1.0,\"#f0f921\"]]},\"margin\":{\"t\":60}},                        {\"responsive\": true}                    ).then(function(){\n",
       "                            \n",
       "var gd = document.getElementById('0d31828c-90f9-4e73-afa7-b1e773c919d2');\n",
       "var x = new MutationObserver(function (mutations, observer) {{\n",
       "        var display = window.getComputedStyle(gd).display;\n",
       "        if (!display || display === 'none') {{\n",
       "            console.log([gd, 'removed!']);\n",
       "            Plotly.purge(gd);\n",
       "            observer.disconnect();\n",
       "        }}\n",
       "}});\n",
       "\n",
       "// Listen for the removal of the full notebook cells\n",
       "var notebookContainer = gd.closest('#notebook-container');\n",
       "if (notebookContainer) {{\n",
       "    x.observe(notebookContainer, {childList: true});\n",
       "}}\n",
       "\n",
       "// Listen for the clearing of the current output cell\n",
       "var outputEl = gd.closest('.output');\n",
       "if (outputEl) {{\n",
       "    x.observe(outputEl, {childList: true});\n",
       "}}\n",
       "\n",
       "                        })                };                });            </script>        </div>"
      ]
     },
     "metadata": {},
     "output_type": "display_data"
    },
    {
     "data": {
      "text/plain": [
       "array([[ 457, 1350],\n",
       "       [   1,  203]])"
      ]
     },
     "execution_count": 45,
     "metadata": {},
     "output_type": "execute_result"
    }
   ],
   "source": [
    "performance(BERT_ressult,label_list)"
   ]
  }
 ],
 "metadata": {
  "kernelspec": {
   "display_name": "Python 3",
   "language": "python",
   "name": "python3"
  },
  "language_info": {
   "codemirror_mode": {
    "name": "ipython",
    "version": 3
   },
   "file_extension": ".py",
   "mimetype": "text/x-python",
   "name": "python",
   "nbconvert_exporter": "python",
   "pygments_lexer": "ipython3",
   "version": "3.7.12"
  },
  "papermill": {
   "default_parameters": {},
   "duration": 655.979706,
   "end_time": "2022-08-03T13:51:42.092762",
   "environment_variables": {},
   "exception": null,
   "input_path": "__notebook__.ipynb",
   "output_path": "__notebook__.ipynb",
   "parameters": {},
   "start_time": "2022-08-03T13:40:46.113056",
   "version": "2.3.4"
  },
  "widgets": {
   "application/vnd.jupyter.widget-state+json": {
    "state": {
     "076c66bfde7c4acd8ede33c6fe8284e9": {
      "model_module": "@jupyter-widgets/controls",
      "model_module_version": "1.5.0",
      "model_name": "DescriptionStyleModel",
      "state": {
       "_model_module": "@jupyter-widgets/controls",
       "_model_module_version": "1.5.0",
       "_model_name": "DescriptionStyleModel",
       "_view_count": null,
       "_view_module": "@jupyter-widgets/base",
       "_view_module_version": "1.2.0",
       "_view_name": "StyleView",
       "description_width": ""
      }
     },
     "07e0c103e3484ce2a84f9e7576d698b8": {
      "model_module": "@jupyter-widgets/controls",
      "model_module_version": "1.5.0",
      "model_name": "HTMLModel",
      "state": {
       "_dom_classes": [],
       "_model_module": "@jupyter-widgets/controls",
       "_model_module_version": "1.5.0",
       "_model_name": "HTMLModel",
       "_view_count": null,
       "_view_module": "@jupyter-widgets/controls",
       "_view_module_version": "1.5.0",
       "_view_name": "HTMLView",
       "description": "",
       "description_tooltip": null,
       "layout": "IPY_MODEL_8f4b59c8137648a5bc8700360810c124",
       "placeholder": "​",
       "style": "IPY_MODEL_839d49aafa3a4db2bb40db6942a03b23",
       "value": "Downloading builder script: "
      }
     },
     "0c6ff749888a41bfaf63474baf096d58": {
      "model_module": "@jupyter-widgets/controls",
      "model_module_version": "1.5.0",
      "model_name": "ProgressStyleModel",
      "state": {
       "_model_module": "@jupyter-widgets/controls",
       "_model_module_version": "1.5.0",
       "_model_name": "ProgressStyleModel",
       "_view_count": null,
       "_view_module": "@jupyter-widgets/base",
       "_view_module_version": "1.2.0",
       "_view_name": "StyleView",
       "bar_color": null,
       "description_width": ""
      }
     },
     "16a5e504bb2e42bfbcae4e8c32a86374": {
      "model_module": "@jupyter-widgets/controls",
      "model_module_version": "1.5.0",
      "model_name": "HTMLModel",
      "state": {
       "_dom_classes": [],
       "_model_module": "@jupyter-widgets/controls",
       "_model_module_version": "1.5.0",
       "_model_name": "HTMLModel",
       "_view_count": null,
       "_view_module": "@jupyter-widgets/controls",
       "_view_module_version": "1.5.0",
       "_view_name": "HTMLView",
       "description": "",
       "description_tooltip": null,
       "layout": "IPY_MODEL_3b2e09fed4d8440095ea430f050eee11",
       "placeholder": "​",
       "style": "IPY_MODEL_2e3b43e774d94efd943e92d0205bf987",
       "value": "Downloading: 100%"
      }
     },
     "1d0e181b52f348c99451e331f8e7214a": {
      "model_module": "@jupyter-widgets/controls",
      "model_module_version": "1.5.0",
      "model_name": "FloatProgressModel",
      "state": {
       "_dom_classes": [],
       "_model_module": "@jupyter-widgets/controls",
       "_model_module_version": "1.5.0",
       "_model_name": "FloatProgressModel",
       "_view_count": null,
       "_view_module": "@jupyter-widgets/controls",
       "_view_module_version": "1.5.0",
       "_view_name": "ProgressView",
       "bar_style": "success",
       "description": "",
       "description_tooltip": null,
       "layout": "IPY_MODEL_d72835e0483c4a3d984f9453677ce4d8",
       "max": 2059.0,
       "min": 0.0,
       "orientation": "horizontal",
       "style": "IPY_MODEL_6c7ac15a05ef4c289e4618e8d0266bf7",
       "value": 2059.0
      }
     },
     "20537cd2f70242a390d949d3584c2dab": {
      "model_module": "@jupyter-widgets/base",
      "model_module_version": "1.2.0",
      "model_name": "LayoutModel",
      "state": {
       "_model_module": "@jupyter-widgets/base",
       "_model_module_version": "1.2.0",
       "_model_name": "LayoutModel",
       "_view_count": null,
       "_view_module": "@jupyter-widgets/base",
       "_view_module_version": "1.2.0",
       "_view_name": "LayoutView",
       "align_content": null,
       "align_items": null,
       "align_self": null,
       "border": null,
       "bottom": null,
       "display": null,
       "flex": null,
       "flex_flow": null,
       "grid_area": null,
       "grid_auto_columns": null,
       "grid_auto_flow": null,
       "grid_auto_rows": null,
       "grid_column": null,
       "grid_gap": null,
       "grid_row": null,
       "grid_template_areas": null,
       "grid_template_columns": null,
       "grid_template_rows": null,
       "height": null,
       "justify_content": null,
       "justify_items": null,
       "left": null,
       "margin": null,
       "max_height": null,
       "max_width": null,
       "min_height": null,
       "min_width": null,
       "object_fit": null,
       "object_position": null,
       "order": null,
       "overflow": null,
       "overflow_x": null,
       "overflow_y": null,
       "padding": null,
       "right": null,
       "top": null,
       "visibility": null,
       "width": null
      }
     },
     "2061615311ef440fa3f4fdeabd09a09e": {
      "model_module": "@jupyter-widgets/base",
      "model_module_version": "1.2.0",
      "model_name": "LayoutModel",
      "state": {
       "_model_module": "@jupyter-widgets/base",
       "_model_module_version": "1.2.0",
       "_model_name": "LayoutModel",
       "_view_count": null,
       "_view_module": "@jupyter-widgets/base",
       "_view_module_version": "1.2.0",
       "_view_name": "LayoutView",
       "align_content": null,
       "align_items": null,
       "align_self": null,
       "border": null,
       "bottom": null,
       "display": null,
       "flex": null,
       "flex_flow": null,
       "grid_area": null,
       "grid_auto_columns": null,
       "grid_auto_flow": null,
       "grid_auto_rows": null,
       "grid_column": null,
       "grid_gap": null,
       "grid_row": null,
       "grid_template_areas": null,
       "grid_template_columns": null,
       "grid_template_rows": null,
       "height": null,
       "justify_content": null,
       "justify_items": null,
       "left": null,
       "margin": null,
       "max_height": null,
       "max_width": null,
       "min_height": null,
       "min_width": null,
       "object_fit": null,
       "object_position": null,
       "order": null,
       "overflow": null,
       "overflow_x": null,
       "overflow_y": null,
       "padding": null,
       "right": null,
       "top": null,
       "visibility": null,
       "width": null
      }
     },
     "2e3b43e774d94efd943e92d0205bf987": {
      "model_module": "@jupyter-widgets/controls",
      "model_module_version": "1.5.0",
      "model_name": "DescriptionStyleModel",
      "state": {
       "_model_module": "@jupyter-widgets/controls",
       "_model_module_version": "1.5.0",
       "_model_name": "DescriptionStyleModel",
       "_view_count": null,
       "_view_module": "@jupyter-widgets/base",
       "_view_module_version": "1.2.0",
       "_view_name": "StyleView",
       "description_width": ""
      }
     },
     "2ed6ab482e8b4cc9a28188bb536c2bef": {
      "model_module": "@jupyter-widgets/base",
      "model_module_version": "1.2.0",
      "model_name": "LayoutModel",
      "state": {
       "_model_module": "@jupyter-widgets/base",
       "_model_module_version": "1.2.0",
       "_model_name": "LayoutModel",
       "_view_count": null,
       "_view_module": "@jupyter-widgets/base",
       "_view_module_version": "1.2.0",
       "_view_name": "LayoutView",
       "align_content": null,
       "align_items": null,
       "align_self": null,
       "border": null,
       "bottom": null,
       "display": null,
       "flex": null,
       "flex_flow": null,
       "grid_area": null,
       "grid_auto_columns": null,
       "grid_auto_flow": null,
       "grid_auto_rows": null,
       "grid_column": null,
       "grid_gap": null,
       "grid_row": null,
       "grid_template_areas": null,
       "grid_template_columns": null,
       "grid_template_rows": null,
       "height": null,
       "justify_content": null,
       "justify_items": null,
       "left": null,
       "margin": null,
       "max_height": null,
       "max_width": null,
       "min_height": null,
       "min_width": null,
       "object_fit": null,
       "object_position": null,
       "order": null,
       "overflow": null,
       "overflow_x": null,
       "overflow_y": null,
       "padding": null,
       "right": null,
       "top": null,
       "visibility": null,
       "width": null
      }
     },
     "328825fec7654460a646bdbed10de34a": {
      "model_module": "@jupyter-widgets/base",
      "model_module_version": "1.2.0",
      "model_name": "LayoutModel",
      "state": {
       "_model_module": "@jupyter-widgets/base",
       "_model_module_version": "1.2.0",
       "_model_name": "LayoutModel",
       "_view_count": null,
       "_view_module": "@jupyter-widgets/base",
       "_view_module_version": "1.2.0",
       "_view_name": "LayoutView",
       "align_content": null,
       "align_items": null,
       "align_self": null,
       "border": null,
       "bottom": null,
       "display": null,
       "flex": null,
       "flex_flow": null,
       "grid_area": null,
       "grid_auto_columns": null,
       "grid_auto_flow": null,
       "grid_auto_rows": null,
       "grid_column": null,
       "grid_gap": null,
       "grid_row": null,
       "grid_template_areas": null,
       "grid_template_columns": null,
       "grid_template_rows": null,
       "height": null,
       "justify_content": null,
       "justify_items": null,
       "left": null,
       "margin": null,
       "max_height": null,
       "max_width": null,
       "min_height": null,
       "min_width": null,
       "object_fit": null,
       "object_position": null,
       "order": null,
       "overflow": null,
       "overflow_x": null,
       "overflow_y": null,
       "padding": null,
       "right": null,
       "top": null,
       "visibility": null,
       "width": null
      }
     },
     "33ce40bc5cc5454abbd256a3ba6895f0": {
      "model_module": "@jupyter-widgets/controls",
      "model_module_version": "1.5.0",
      "model_name": "HTMLModel",
      "state": {
       "_dom_classes": [],
       "_model_module": "@jupyter-widgets/controls",
       "_model_module_version": "1.5.0",
       "_model_name": "HTMLModel",
       "_view_count": null,
       "_view_module": "@jupyter-widgets/controls",
       "_view_module_version": "1.5.0",
       "_view_name": "HTMLView",
       "description": "",
       "description_tooltip": null,
       "layout": "IPY_MODEL_74de398119fe495fb90f7b6640b339d2",
       "placeholder": "​",
       "style": "IPY_MODEL_361931944a5841d5901d89a0eac240a4",
       "value": "Downloading builder script: "
      }
     },
     "34371f1c037d40c6b901394f993d5945": {
      "model_module": "@jupyter-widgets/controls",
      "model_module_version": "1.5.0",
      "model_name": "DescriptionStyleModel",
      "state": {
       "_model_module": "@jupyter-widgets/controls",
       "_model_module_version": "1.5.0",
       "_model_name": "DescriptionStyleModel",
       "_view_count": null,
       "_view_module": "@jupyter-widgets/base",
       "_view_module_version": "1.2.0",
       "_view_name": "StyleView",
       "description_width": ""
      }
     },
     "3472ac014dc3469f9cf20585b9d394b2": {
      "model_module": "@jupyter-widgets/base",
      "model_module_version": "1.2.0",
      "model_name": "LayoutModel",
      "state": {
       "_model_module": "@jupyter-widgets/base",
       "_model_module_version": "1.2.0",
       "_model_name": "LayoutModel",
       "_view_count": null,
       "_view_module": "@jupyter-widgets/base",
       "_view_module_version": "1.2.0",
       "_view_name": "LayoutView",
       "align_content": null,
       "align_items": null,
       "align_self": null,
       "border": null,
       "bottom": null,
       "display": null,
       "flex": null,
       "flex_flow": null,
       "grid_area": null,
       "grid_auto_columns": null,
       "grid_auto_flow": null,
       "grid_auto_rows": null,
       "grid_column": null,
       "grid_gap": null,
       "grid_row": null,
       "grid_template_areas": null,
       "grid_template_columns": null,
       "grid_template_rows": null,
       "height": null,
       "justify_content": null,
       "justify_items": null,
       "left": null,
       "margin": null,
       "max_height": null,
       "max_width": null,
       "min_height": null,
       "min_width": null,
       "object_fit": null,
       "object_position": null,
       "order": null,
       "overflow": null,
       "overflow_x": null,
       "overflow_y": null,
       "padding": null,
       "right": null,
       "top": null,
       "visibility": null,
       "width": null
      }
     },
     "361931944a5841d5901d89a0eac240a4": {
      "model_module": "@jupyter-widgets/controls",
      "model_module_version": "1.5.0",
      "model_name": "DescriptionStyleModel",
      "state": {
       "_model_module": "@jupyter-widgets/controls",
       "_model_module_version": "1.5.0",
       "_model_name": "DescriptionStyleModel",
       "_view_count": null,
       "_view_module": "@jupyter-widgets/base",
       "_view_module_version": "1.2.0",
       "_view_name": "StyleView",
       "description_width": ""
      }
     },
     "3825072416104f2680697689cdf3cac9": {
      "model_module": "@jupyter-widgets/base",
      "model_module_version": "1.2.0",
      "model_name": "LayoutModel",
      "state": {
       "_model_module": "@jupyter-widgets/base",
       "_model_module_version": "1.2.0",
       "_model_name": "LayoutModel",
       "_view_count": null,
       "_view_module": "@jupyter-widgets/base",
       "_view_module_version": "1.2.0",
       "_view_name": "LayoutView",
       "align_content": null,
       "align_items": null,
       "align_self": null,
       "border": null,
       "bottom": null,
       "display": null,
       "flex": null,
       "flex_flow": null,
       "grid_area": null,
       "grid_auto_columns": null,
       "grid_auto_flow": null,
       "grid_auto_rows": null,
       "grid_column": null,
       "grid_gap": null,
       "grid_row": null,
       "grid_template_areas": null,
       "grid_template_columns": null,
       "grid_template_rows": null,
       "height": null,
       "justify_content": null,
       "justify_items": null,
       "left": null,
       "margin": null,
       "max_height": null,
       "max_width": null,
       "min_height": null,
       "min_width": null,
       "object_fit": null,
       "object_position": null,
       "order": null,
       "overflow": null,
       "overflow_x": null,
       "overflow_y": null,
       "padding": null,
       "right": null,
       "top": null,
       "visibility": null,
       "width": null
      }
     },
     "3b2e09fed4d8440095ea430f050eee11": {
      "model_module": "@jupyter-widgets/base",
      "model_module_version": "1.2.0",
      "model_name": "LayoutModel",
      "state": {
       "_model_module": "@jupyter-widgets/base",
       "_model_module_version": "1.2.0",
       "_model_name": "LayoutModel",
       "_view_count": null,
       "_view_module": "@jupyter-widgets/base",
       "_view_module_version": "1.2.0",
       "_view_name": "LayoutView",
       "align_content": null,
       "align_items": null,
       "align_self": null,
       "border": null,
       "bottom": null,
       "display": null,
       "flex": null,
       "flex_flow": null,
       "grid_area": null,
       "grid_auto_columns": null,
       "grid_auto_flow": null,
       "grid_auto_rows": null,
       "grid_column": null,
       "grid_gap": null,
       "grid_row": null,
       "grid_template_areas": null,
       "grid_template_columns": null,
       "grid_template_rows": null,
       "height": null,
       "justify_content": null,
       "justify_items": null,
       "left": null,
       "margin": null,
       "max_height": null,
       "max_width": null,
       "min_height": null,
       "min_width": null,
       "object_fit": null,
       "object_position": null,
       "order": null,
       "overflow": null,
       "overflow_x": null,
       "overflow_y": null,
       "padding": null,
       "right": null,
       "top": null,
       "visibility": null,
       "width": null
      }
     },
     "3c4fe5a9e77d4b7e88b0d9b9ed7af83d": {
      "model_module": "@jupyter-widgets/base",
      "model_module_version": "1.2.0",
      "model_name": "LayoutModel",
      "state": {
       "_model_module": "@jupyter-widgets/base",
       "_model_module_version": "1.2.0",
       "_model_name": "LayoutModel",
       "_view_count": null,
       "_view_module": "@jupyter-widgets/base",
       "_view_module_version": "1.2.0",
       "_view_name": "LayoutView",
       "align_content": null,
       "align_items": null,
       "align_self": null,
       "border": null,
       "bottom": null,
       "display": null,
       "flex": null,
       "flex_flow": null,
       "grid_area": null,
       "grid_auto_columns": null,
       "grid_auto_flow": null,
       "grid_auto_rows": null,
       "grid_column": null,
       "grid_gap": null,
       "grid_row": null,
       "grid_template_areas": null,
       "grid_template_columns": null,
       "grid_template_rows": null,
       "height": null,
       "justify_content": null,
       "justify_items": null,
       "left": null,
       "margin": null,
       "max_height": null,
       "max_width": null,
       "min_height": null,
       "min_width": null,
       "object_fit": null,
       "object_position": null,
       "order": null,
       "overflow": null,
       "overflow_x": null,
       "overflow_y": null,
       "padding": null,
       "right": null,
       "top": null,
       "visibility": null,
       "width": null
      }
     },
     "3da2560dab3e4c1fbe8eaaec815ad3bb": {
      "model_module": "@jupyter-widgets/controls",
      "model_module_version": "1.5.0",
      "model_name": "HBoxModel",
      "state": {
       "_dom_classes": [],
       "_model_module": "@jupyter-widgets/controls",
       "_model_module_version": "1.5.0",
       "_model_name": "HBoxModel",
       "_view_count": null,
       "_view_module": "@jupyter-widgets/controls",
       "_view_module_version": "1.5.0",
       "_view_name": "HBoxView",
       "box_style": "",
       "children": [
        "IPY_MODEL_e4249e1e510a414aa834416626d9928d",
        "IPY_MODEL_1d0e181b52f348c99451e331f8e7214a",
        "IPY_MODEL_fd05a5ab34724ff8a2d4a3ec284c8cfd"
       ],
       "layout": "IPY_MODEL_3472ac014dc3469f9cf20585b9d394b2"
      }
     },
     "3db2846280de4c63be684a11a3da1a2d": {
      "model_module": "@jupyter-widgets/base",
      "model_module_version": "1.2.0",
      "model_name": "LayoutModel",
      "state": {
       "_model_module": "@jupyter-widgets/base",
       "_model_module_version": "1.2.0",
       "_model_name": "LayoutModel",
       "_view_count": null,
       "_view_module": "@jupyter-widgets/base",
       "_view_module_version": "1.2.0",
       "_view_name": "LayoutView",
       "align_content": null,
       "align_items": null,
       "align_self": null,
       "border": null,
       "bottom": null,
       "display": null,
       "flex": null,
       "flex_flow": null,
       "grid_area": null,
       "grid_auto_columns": null,
       "grid_auto_flow": null,
       "grid_auto_rows": null,
       "grid_column": null,
       "grid_gap": null,
       "grid_row": null,
       "grid_template_areas": null,
       "grid_template_columns": null,
       "grid_template_rows": null,
       "height": null,
       "justify_content": null,
       "justify_items": null,
       "left": null,
       "margin": null,
       "max_height": null,
       "max_width": null,
       "min_height": null,
       "min_width": null,
       "object_fit": null,
       "object_position": null,
       "order": null,
       "overflow": null,
       "overflow_x": null,
       "overflow_y": null,
       "padding": null,
       "right": null,
       "top": null,
       "visibility": null,
       "width": null
      }
     },
     "47b829b92cc54a94a06d039017302ae6": {
      "model_module": "@jupyter-widgets/controls",
      "model_module_version": "1.5.0",
      "model_name": "DescriptionStyleModel",
      "state": {
       "_model_module": "@jupyter-widgets/controls",
       "_model_module_version": "1.5.0",
       "_model_name": "DescriptionStyleModel",
       "_view_count": null,
       "_view_module": "@jupyter-widgets/base",
       "_view_module_version": "1.2.0",
       "_view_name": "StyleView",
       "description_width": ""
      }
     },
     "4b8d23849f65470786ee51e774eadc70": {
      "model_module": "@jupyter-widgets/controls",
      "model_module_version": "1.5.0",
      "model_name": "HTMLModel",
      "state": {
       "_dom_classes": [],
       "_model_module": "@jupyter-widgets/controls",
       "_model_module_version": "1.5.0",
       "_model_name": "HTMLModel",
       "_view_count": null,
       "_view_module": "@jupyter-widgets/controls",
       "_view_module_version": "1.5.0",
       "_view_name": "HTMLView",
       "description": "",
       "description_tooltip": null,
       "layout": "IPY_MODEL_c9f21e4893bd4f16bd1ccb4f6b6c6e21",
       "placeholder": "​",
       "style": "IPY_MODEL_70773879246b493ebe97262f44a7291b",
       "value": "Downloading: 100%"
      }
     },
     "4e17025acd7f435584773f60683f0f6e": {
      "model_module": "@jupyter-widgets/controls",
      "model_module_version": "1.5.0",
      "model_name": "DescriptionStyleModel",
      "state": {
       "_model_module": "@jupyter-widgets/controls",
       "_model_module_version": "1.5.0",
       "_model_name": "DescriptionStyleModel",
       "_view_count": null,
       "_view_module": "@jupyter-widgets/base",
       "_view_module_version": "1.2.0",
       "_view_name": "StyleView",
       "description_width": ""
      }
     },
     "4ed351dc60c341b3b8a32fb1b38a51da": {
      "model_module": "@jupyter-widgets/controls",
      "model_module_version": "1.5.0",
      "model_name": "HTMLModel",
      "state": {
       "_dom_classes": [],
       "_model_module": "@jupyter-widgets/controls",
       "_model_module_version": "1.5.0",
       "_model_name": "HTMLModel",
       "_view_count": null,
       "_view_module": "@jupyter-widgets/controls",
       "_view_module_version": "1.5.0",
       "_view_name": "HTMLView",
       "description": "",
       "description_tooltip": null,
       "layout": "IPY_MODEL_20537cd2f70242a390d949d3584c2dab",
       "placeholder": "​",
       "style": "IPY_MODEL_7135e878aa06424ab70aa91154e62bde",
       "value": " 107k/107k [00:00&lt;00:00, 1.88MB/s]"
      }
     },
     "5a10e8c05ccf4d599a89eb9fb0f0971b": {
      "model_module": "@jupyter-widgets/controls",
      "model_module_version": "1.5.0",
      "model_name": "FloatProgressModel",
      "state": {
       "_dom_classes": [],
       "_model_module": "@jupyter-widgets/controls",
       "_model_module_version": "1.5.0",
       "_model_name": "FloatProgressModel",
       "_view_count": null,
       "_view_module": "@jupyter-widgets/controls",
       "_view_module_version": "1.5.0",
       "_view_name": "ProgressView",
       "bar_style": "success",
       "description": "",
       "description_tooltip": null,
       "layout": "IPY_MODEL_99c90c1182364ea69a75ee72277c9524",
       "max": 2205.0,
       "min": 0.0,
       "orientation": "horizontal",
       "style": "IPY_MODEL_be276ea137fc4eff8f0637a708b34a6e",
       "value": 2205.0
      }
     },
     "5be1f0625fef45e09cb00e12f368fc40": {
      "model_module": "@jupyter-widgets/base",
      "model_module_version": "1.2.0",
      "model_name": "LayoutModel",
      "state": {
       "_model_module": "@jupyter-widgets/base",
       "_model_module_version": "1.2.0",
       "_model_name": "LayoutModel",
       "_view_count": null,
       "_view_module": "@jupyter-widgets/base",
       "_view_module_version": "1.2.0",
       "_view_name": "LayoutView",
       "align_content": null,
       "align_items": null,
       "align_self": null,
       "border": null,
       "bottom": null,
       "display": null,
       "flex": null,
       "flex_flow": null,
       "grid_area": null,
       "grid_auto_columns": null,
       "grid_auto_flow": null,
       "grid_auto_rows": null,
       "grid_column": null,
       "grid_gap": null,
       "grid_row": null,
       "grid_template_areas": null,
       "grid_template_columns": null,
       "grid_template_rows": null,
       "height": null,
       "justify_content": null,
       "justify_items": null,
       "left": null,
       "margin": null,
       "max_height": null,
       "max_width": null,
       "min_height": null,
       "min_width": null,
       "object_fit": null,
       "object_position": null,
       "order": null,
       "overflow": null,
       "overflow_x": null,
       "overflow_y": null,
       "padding": null,
       "right": null,
       "top": null,
       "visibility": null,
       "width": null
      }
     },
     "5f2e8bdf88e743e1970d06cfaff5abcd": {
      "model_module": "@jupyter-widgets/base",
      "model_module_version": "1.2.0",
      "model_name": "LayoutModel",
      "state": {
       "_model_module": "@jupyter-widgets/base",
       "_model_module_version": "1.2.0",
       "_model_name": "LayoutModel",
       "_view_count": null,
       "_view_module": "@jupyter-widgets/base",
       "_view_module_version": "1.2.0",
       "_view_name": "LayoutView",
       "align_content": null,
       "align_items": null,
       "align_self": null,
       "border": null,
       "bottom": null,
       "display": null,
       "flex": null,
       "flex_flow": null,
       "grid_area": null,
       "grid_auto_columns": null,
       "grid_auto_flow": null,
       "grid_auto_rows": null,
       "grid_column": null,
       "grid_gap": null,
       "grid_row": null,
       "grid_template_areas": null,
       "grid_template_columns": null,
       "grid_template_rows": null,
       "height": null,
       "justify_content": null,
       "justify_items": null,
       "left": null,
       "margin": null,
       "max_height": null,
       "max_width": null,
       "min_height": null,
       "min_width": null,
       "object_fit": null,
       "object_position": null,
       "order": null,
       "overflow": null,
       "overflow_x": null,
       "overflow_y": null,
       "padding": null,
       "right": null,
       "top": null,
       "visibility": null,
       "width": null
      }
     },
     "6ad5bfac5a7d4c60abbea5e539369596": {
      "model_module": "@jupyter-widgets/controls",
      "model_module_version": "1.5.0",
      "model_name": "HBoxModel",
      "state": {
       "_dom_classes": [],
       "_model_module": "@jupyter-widgets/controls",
       "_model_module_version": "1.5.0",
       "_model_name": "HBoxModel",
       "_view_count": null,
       "_view_module": "@jupyter-widgets/controls",
       "_view_module_version": "1.5.0",
       "_view_name": "HBoxView",
       "box_style": "",
       "children": [
        "IPY_MODEL_f5719ad9c1dd4ffe89e23ee3586c0a3e",
        "IPY_MODEL_9e52416acb8243af952cd51dc3a6755b",
        "IPY_MODEL_4ed351dc60c341b3b8a32fb1b38a51da"
       ],
       "layout": "IPY_MODEL_5be1f0625fef45e09cb00e12f368fc40"
      }
     },
     "6c79b7f282f748ac9ccd4d7b65ae502d": {
      "model_module": "@jupyter-widgets/base",
      "model_module_version": "1.2.0",
      "model_name": "LayoutModel",
      "state": {
       "_model_module": "@jupyter-widgets/base",
       "_model_module_version": "1.2.0",
       "_model_name": "LayoutModel",
       "_view_count": null,
       "_view_module": "@jupyter-widgets/base",
       "_view_module_version": "1.2.0",
       "_view_name": "LayoutView",
       "align_content": null,
       "align_items": null,
       "align_self": null,
       "border": null,
       "bottom": null,
       "display": null,
       "flex": null,
       "flex_flow": null,
       "grid_area": null,
       "grid_auto_columns": null,
       "grid_auto_flow": null,
       "grid_auto_rows": null,
       "grid_column": null,
       "grid_gap": null,
       "grid_row": null,
       "grid_template_areas": null,
       "grid_template_columns": null,
       "grid_template_rows": null,
       "height": null,
       "justify_content": null,
       "justify_items": null,
       "left": null,
       "margin": null,
       "max_height": null,
       "max_width": null,
       "min_height": null,
       "min_width": null,
       "object_fit": null,
       "object_position": null,
       "order": null,
       "overflow": null,
       "overflow_x": null,
       "overflow_y": null,
       "padding": null,
       "right": null,
       "top": null,
       "visibility": null,
       "width": null
      }
     },
     "6c7ac15a05ef4c289e4618e8d0266bf7": {
      "model_module": "@jupyter-widgets/controls",
      "model_module_version": "1.5.0",
      "model_name": "ProgressStyleModel",
      "state": {
       "_model_module": "@jupyter-widgets/controls",
       "_model_module_version": "1.5.0",
       "_model_name": "ProgressStyleModel",
       "_view_count": null,
       "_view_module": "@jupyter-widgets/base",
       "_view_module_version": "1.2.0",
       "_view_name": "StyleView",
       "bar_color": null,
       "description_width": ""
      }
     },
     "6d31ac53d0a84dcfb4ed38919f4b166d": {
      "model_module": "@jupyter-widgets/base",
      "model_module_version": "1.2.0",
      "model_name": "LayoutModel",
      "state": {
       "_model_module": "@jupyter-widgets/base",
       "_model_module_version": "1.2.0",
       "_model_name": "LayoutModel",
       "_view_count": null,
       "_view_module": "@jupyter-widgets/base",
       "_view_module_version": "1.2.0",
       "_view_name": "LayoutView",
       "align_content": null,
       "align_items": null,
       "align_self": null,
       "border": null,
       "bottom": null,
       "display": null,
       "flex": null,
       "flex_flow": null,
       "grid_area": null,
       "grid_auto_columns": null,
       "grid_auto_flow": null,
       "grid_auto_rows": null,
       "grid_column": null,
       "grid_gap": null,
       "grid_row": null,
       "grid_template_areas": null,
       "grid_template_columns": null,
       "grid_template_rows": null,
       "height": null,
       "justify_content": null,
       "justify_items": null,
       "left": null,
       "margin": null,
       "max_height": null,
       "max_width": null,
       "min_height": null,
       "min_width": null,
       "object_fit": null,
       "object_position": null,
       "order": null,
       "overflow": null,
       "overflow_x": null,
       "overflow_y": null,
       "padding": null,
       "right": null,
       "top": null,
       "visibility": null,
       "width": null
      }
     },
     "70773879246b493ebe97262f44a7291b": {
      "model_module": "@jupyter-widgets/controls",
      "model_module_version": "1.5.0",
      "model_name": "DescriptionStyleModel",
      "state": {
       "_model_module": "@jupyter-widgets/controls",
       "_model_module_version": "1.5.0",
       "_model_name": "DescriptionStyleModel",
       "_view_count": null,
       "_view_module": "@jupyter-widgets/base",
       "_view_module_version": "1.2.0",
       "_view_name": "StyleView",
       "description_width": ""
      }
     },
     "7135e878aa06424ab70aa91154e62bde": {
      "model_module": "@jupyter-widgets/controls",
      "model_module_version": "1.5.0",
      "model_name": "DescriptionStyleModel",
      "state": {
       "_model_module": "@jupyter-widgets/controls",
       "_model_module_version": "1.5.0",
       "_model_name": "DescriptionStyleModel",
       "_view_count": null,
       "_view_module": "@jupyter-widgets/base",
       "_view_module_version": "1.2.0",
       "_view_name": "StyleView",
       "description_width": ""
      }
     },
     "7223dd0bd3a64d35b050550e024e7b50": {
      "model_module": "@jupyter-widgets/controls",
      "model_module_version": "1.5.0",
      "model_name": "HTMLModel",
      "state": {
       "_dom_classes": [],
       "_model_module": "@jupyter-widgets/controls",
       "_model_module_version": "1.5.0",
       "_model_name": "HTMLModel",
       "_view_count": null,
       "_view_module": "@jupyter-widgets/controls",
       "_view_module_version": "1.5.0",
       "_view_name": "HTMLView",
       "description": "",
       "description_tooltip": null,
       "layout": "IPY_MODEL_d226c18e2f9342b4a74b0099f4fc2f32",
       "placeholder": "​",
       "style": "IPY_MODEL_4e17025acd7f435584773f60683f0f6e",
       "value": " 29.0/29.0 [00:00&lt;00:00, 1.03kB/s]"
      }
     },
     "74de398119fe495fb90f7b6640b339d2": {
      "model_module": "@jupyter-widgets/base",
      "model_module_version": "1.2.0",
      "model_name": "LayoutModel",
      "state": {
       "_model_module": "@jupyter-widgets/base",
       "_model_module_version": "1.2.0",
       "_model_name": "LayoutModel",
       "_view_count": null,
       "_view_module": "@jupyter-widgets/base",
       "_view_module_version": "1.2.0",
       "_view_name": "LayoutView",
       "align_content": null,
       "align_items": null,
       "align_self": null,
       "border": null,
       "bottom": null,
       "display": null,
       "flex": null,
       "flex_flow": null,
       "grid_area": null,
       "grid_auto_columns": null,
       "grid_auto_flow": null,
       "grid_auto_rows": null,
       "grid_column": null,
       "grid_gap": null,
       "grid_row": null,
       "grid_template_areas": null,
       "grid_template_columns": null,
       "grid_template_rows": null,
       "height": null,
       "justify_content": null,
       "justify_items": null,
       "left": null,
       "margin": null,
       "max_height": null,
       "max_width": null,
       "min_height": null,
       "min_width": null,
       "object_fit": null,
       "object_position": null,
       "order": null,
       "overflow": null,
       "overflow_x": null,
       "overflow_y": null,
       "padding": null,
       "right": null,
       "top": null,
       "visibility": null,
       "width": null
      }
     },
     "755d0b71bc1e4c25979623586456210f": {
      "model_module": "@jupyter-widgets/base",
      "model_module_version": "1.2.0",
      "model_name": "LayoutModel",
      "state": {
       "_model_module": "@jupyter-widgets/base",
       "_model_module_version": "1.2.0",
       "_model_name": "LayoutModel",
       "_view_count": null,
       "_view_module": "@jupyter-widgets/base",
       "_view_module_version": "1.2.0",
       "_view_name": "LayoutView",
       "align_content": null,
       "align_items": null,
       "align_self": null,
       "border": null,
       "bottom": null,
       "display": null,
       "flex": null,
       "flex_flow": null,
       "grid_area": null,
       "grid_auto_columns": null,
       "grid_auto_flow": null,
       "grid_auto_rows": null,
       "grid_column": null,
       "grid_gap": null,
       "grid_row": null,
       "grid_template_areas": null,
       "grid_template_columns": null,
       "grid_template_rows": null,
       "height": null,
       "justify_content": null,
       "justify_items": null,
       "left": null,
       "margin": null,
       "max_height": null,
       "max_width": null,
       "min_height": null,
       "min_width": null,
       "object_fit": null,
       "object_position": null,
       "order": null,
       "overflow": null,
       "overflow_x": null,
       "overflow_y": null,
       "padding": null,
       "right": null,
       "top": null,
       "visibility": null,
       "width": null
      }
     },
     "760c32eb17fc48199252c57aa89778ef": {
      "model_module": "@jupyter-widgets/controls",
      "model_module_version": "1.5.0",
      "model_name": "FloatProgressModel",
      "state": {
       "_dom_classes": [],
       "_model_module": "@jupyter-widgets/controls",
       "_model_module_version": "1.5.0",
       "_model_name": "FloatProgressModel",
       "_view_count": null,
       "_view_module": "@jupyter-widgets/controls",
       "_view_module_version": "1.5.0",
       "_view_name": "ProgressView",
       "bar_style": "success",
       "description": "",
       "description_tooltip": null,
       "layout": "IPY_MODEL_d751b2dd02964369b87d370adb923151",
       "max": 2202.0,
       "min": 0.0,
       "orientation": "horizontal",
       "style": "IPY_MODEL_c47557464b024d73bf86630bd2f20fb6",
       "value": 2202.0
      }
     },
     "789246aad632486281949dd608b9fb1f": {
      "model_module": "@jupyter-widgets/controls",
      "model_module_version": "1.5.0",
      "model_name": "HBoxModel",
      "state": {
       "_dom_classes": [],
       "_model_module": "@jupyter-widgets/controls",
       "_model_module_version": "1.5.0",
       "_model_name": "HBoxModel",
       "_view_count": null,
       "_view_module": "@jupyter-widgets/controls",
       "_view_module_version": "1.5.0",
       "_view_name": "HBoxView",
       "box_style": "",
       "children": [
        "IPY_MODEL_a27b52d5157c4e2ebcf5001924cfcd26",
        "IPY_MODEL_d5252f11fc814397a3942bfd9efe66f8",
        "IPY_MODEL_9d11260effa44c4496ec7a8091c454d6"
       ],
       "layout": "IPY_MODEL_5f2e8bdf88e743e1970d06cfaff5abcd"
      }
     },
     "7e4bc8ee74664d4c918444a2e6c655c2": {
      "model_module": "@jupyter-widgets/base",
      "model_module_version": "1.2.0",
      "model_name": "LayoutModel",
      "state": {
       "_model_module": "@jupyter-widgets/base",
       "_model_module_version": "1.2.0",
       "_model_name": "LayoutModel",
       "_view_count": null,
       "_view_module": "@jupyter-widgets/base",
       "_view_module_version": "1.2.0",
       "_view_name": "LayoutView",
       "align_content": null,
       "align_items": null,
       "align_self": null,
       "border": null,
       "bottom": null,
       "display": null,
       "flex": null,
       "flex_flow": null,
       "grid_area": null,
       "grid_auto_columns": null,
       "grid_auto_flow": null,
       "grid_auto_rows": null,
       "grid_column": null,
       "grid_gap": null,
       "grid_row": null,
       "grid_template_areas": null,
       "grid_template_columns": null,
       "grid_template_rows": null,
       "height": null,
       "justify_content": null,
       "justify_items": null,
       "left": null,
       "margin": null,
       "max_height": null,
       "max_width": null,
       "min_height": null,
       "min_width": null,
       "object_fit": null,
       "object_position": null,
       "order": null,
       "overflow": null,
       "overflow_x": null,
       "overflow_y": null,
       "padding": null,
       "right": null,
       "top": null,
       "visibility": null,
       "width": null
      }
     },
     "839d49aafa3a4db2bb40db6942a03b23": {
      "model_module": "@jupyter-widgets/controls",
      "model_module_version": "1.5.0",
      "model_name": "DescriptionStyleModel",
      "state": {
       "_model_module": "@jupyter-widgets/controls",
       "_model_module_version": "1.5.0",
       "_model_name": "DescriptionStyleModel",
       "_view_count": null,
       "_view_module": "@jupyter-widgets/base",
       "_view_module_version": "1.2.0",
       "_view_name": "StyleView",
       "description_width": ""
      }
     },
     "8d311764b2bf49029597ac400d568671": {
      "model_module": "@jupyter-widgets/controls",
      "model_module_version": "1.5.0",
      "model_name": "HTMLModel",
      "state": {
       "_dom_classes": [],
       "_model_module": "@jupyter-widgets/controls",
       "_model_module_version": "1.5.0",
       "_model_name": "HTMLModel",
       "_view_count": null,
       "_view_module": "@jupyter-widgets/controls",
       "_view_module_version": "1.5.0",
       "_view_name": "HTMLView",
       "description": "",
       "description_tooltip": null,
       "layout": "IPY_MODEL_a2ddfda46571476293ad13bec26a24d8",
       "placeholder": "​",
       "style": "IPY_MODEL_34371f1c037d40c6b901394f993d5945",
       "value": " 5.76k/? [00:00&lt;00:00, 183kB/s]"
      }
     },
     "8f4b59c8137648a5bc8700360810c124": {
      "model_module": "@jupyter-widgets/base",
      "model_module_version": "1.2.0",
      "model_name": "LayoutModel",
      "state": {
       "_model_module": "@jupyter-widgets/base",
       "_model_module_version": "1.2.0",
       "_model_name": "LayoutModel",
       "_view_count": null,
       "_view_module": "@jupyter-widgets/base",
       "_view_module_version": "1.2.0",
       "_view_name": "LayoutView",
       "align_content": null,
       "align_items": null,
       "align_self": null,
       "border": null,
       "bottom": null,
       "display": null,
       "flex": null,
       "flex_flow": null,
       "grid_area": null,
       "grid_auto_columns": null,
       "grid_auto_flow": null,
       "grid_auto_rows": null,
       "grid_column": null,
       "grid_gap": null,
       "grid_row": null,
       "grid_template_areas": null,
       "grid_template_columns": null,
       "grid_template_rows": null,
       "height": null,
       "justify_content": null,
       "justify_items": null,
       "left": null,
       "margin": null,
       "max_height": null,
       "max_width": null,
       "min_height": null,
       "min_width": null,
       "object_fit": null,
       "object_position": null,
       "order": null,
       "overflow": null,
       "overflow_x": null,
       "overflow_y": null,
       "padding": null,
       "right": null,
       "top": null,
       "visibility": null,
       "width": null
      }
     },
     "968c26603d9d43eeaa0612b926dd0a63": {
      "model_module": "@jupyter-widgets/controls",
      "model_module_version": "1.5.0",
      "model_name": "ProgressStyleModel",
      "state": {
       "_model_module": "@jupyter-widgets/controls",
       "_model_module_version": "1.5.0",
       "_model_name": "ProgressStyleModel",
       "_view_count": null,
       "_view_module": "@jupyter-widgets/base",
       "_view_module_version": "1.2.0",
       "_view_name": "StyleView",
       "bar_color": null,
       "description_width": ""
      }
     },
     "99c90c1182364ea69a75ee72277c9524": {
      "model_module": "@jupyter-widgets/base",
      "model_module_version": "1.2.0",
      "model_name": "LayoutModel",
      "state": {
       "_model_module": "@jupyter-widgets/base",
       "_model_module_version": "1.2.0",
       "_model_name": "LayoutModel",
       "_view_count": null,
       "_view_module": "@jupyter-widgets/base",
       "_view_module_version": "1.2.0",
       "_view_name": "LayoutView",
       "align_content": null,
       "align_items": null,
       "align_self": null,
       "border": null,
       "bottom": null,
       "display": null,
       "flex": null,
       "flex_flow": null,
       "grid_area": null,
       "grid_auto_columns": null,
       "grid_auto_flow": null,
       "grid_auto_rows": null,
       "grid_column": null,
       "grid_gap": null,
       "grid_row": null,
       "grid_template_areas": null,
       "grid_template_columns": null,
       "grid_template_rows": null,
       "height": null,
       "justify_content": null,
       "justify_items": null,
       "left": null,
       "margin": null,
       "max_height": null,
       "max_width": null,
       "min_height": null,
       "min_width": null,
       "object_fit": null,
       "object_position": null,
       "order": null,
       "overflow": null,
       "overflow_x": null,
       "overflow_y": null,
       "padding": null,
       "right": null,
       "top": null,
       "visibility": null,
       "width": null
      }
     },
     "9bf2c13a2e1c4e8fb35f877f76fd3c90": {
      "model_module": "@jupyter-widgets/controls",
      "model_module_version": "1.5.0",
      "model_name": "DescriptionStyleModel",
      "state": {
       "_model_module": "@jupyter-widgets/controls",
       "_model_module_version": "1.5.0",
       "_model_name": "DescriptionStyleModel",
       "_view_count": null,
       "_view_module": "@jupyter-widgets/base",
       "_view_module_version": "1.2.0",
       "_view_name": "StyleView",
       "description_width": ""
      }
     },
     "9c2dcf2bc38f4b54bda46846b0ff1590": {
      "model_module": "@jupyter-widgets/controls",
      "model_module_version": "1.5.0",
      "model_name": "HBoxModel",
      "state": {
       "_dom_classes": [],
       "_model_module": "@jupyter-widgets/controls",
       "_model_module_version": "1.5.0",
       "_model_name": "HBoxModel",
       "_view_count": null,
       "_view_module": "@jupyter-widgets/controls",
       "_view_module_version": "1.5.0",
       "_view_name": "HBoxView",
       "box_style": "",
       "children": [
        "IPY_MODEL_33ce40bc5cc5454abbd256a3ba6895f0",
        "IPY_MODEL_5a10e8c05ccf4d599a89eb9fb0f0971b",
        "IPY_MODEL_8d311764b2bf49029597ac400d568671"
       ],
       "layout": "IPY_MODEL_c861ef1e616b4dc9a2e4ff3a0a189a3c"
      }
     },
     "9cefdc83070c491a9a847a41fdeb0119": {
      "model_module": "@jupyter-widgets/controls",
      "model_module_version": "1.5.0",
      "model_name": "ProgressStyleModel",
      "state": {
       "_model_module": "@jupyter-widgets/controls",
       "_model_module_version": "1.5.0",
       "_model_name": "ProgressStyleModel",
       "_view_count": null,
       "_view_module": "@jupyter-widgets/base",
       "_view_module_version": "1.2.0",
       "_view_name": "StyleView",
       "bar_color": null,
       "description_width": ""
      }
     },
     "9d11260effa44c4496ec7a8091c454d6": {
      "model_module": "@jupyter-widgets/controls",
      "model_module_version": "1.5.0",
      "model_name": "HTMLModel",
      "state": {
       "_dom_classes": [],
       "_model_module": "@jupyter-widgets/controls",
       "_model_module_version": "1.5.0",
       "_model_name": "HTMLModel",
       "_view_count": null,
       "_view_module": "@jupyter-widgets/controls",
       "_view_module_version": "1.5.0",
       "_view_name": "HTMLView",
       "description": "",
       "description_tooltip": null,
       "layout": "IPY_MODEL_2061615311ef440fa3f4fdeabd09a09e",
       "placeholder": "​",
       "style": "IPY_MODEL_caaee077ddf945a094ff67629775a76c",
       "value": " 624/624 [00:00&lt;00:00, 21.7kB/s]"
      }
     },
     "9e52416acb8243af952cd51dc3a6755b": {
      "model_module": "@jupyter-widgets/controls",
      "model_module_version": "1.5.0",
      "model_name": "FloatProgressModel",
      "state": {
       "_dom_classes": [],
       "_model_module": "@jupyter-widgets/controls",
       "_model_module_version": "1.5.0",
       "_model_name": "FloatProgressModel",
       "_view_count": null,
       "_view_module": "@jupyter-widgets/controls",
       "_view_module_version": "1.5.0",
       "_view_name": "ProgressView",
       "bar_style": "success",
       "description": "",
       "description_tooltip": null,
       "layout": "IPY_MODEL_e5f2694282c841ef8f8b6ba7dc4b71ec",
       "max": 109540.0,
       "min": 0.0,
       "orientation": "horizontal",
       "style": "IPY_MODEL_0c6ff749888a41bfaf63474baf096d58",
       "value": 109540.0
      }
     },
     "a2042de9990a490aa9adbb857a05bb8d": {
      "model_module": "@jupyter-widgets/base",
      "model_module_version": "1.2.0",
      "model_name": "LayoutModel",
      "state": {
       "_model_module": "@jupyter-widgets/base",
       "_model_module_version": "1.2.0",
       "_model_name": "LayoutModel",
       "_view_count": null,
       "_view_module": "@jupyter-widgets/base",
       "_view_module_version": "1.2.0",
       "_view_name": "LayoutView",
       "align_content": null,
       "align_items": null,
       "align_self": null,
       "border": null,
       "bottom": null,
       "display": null,
       "flex": null,
       "flex_flow": null,
       "grid_area": null,
       "grid_auto_columns": null,
       "grid_auto_flow": null,
       "grid_auto_rows": null,
       "grid_column": null,
       "grid_gap": null,
       "grid_row": null,
       "grid_template_areas": null,
       "grid_template_columns": null,
       "grid_template_rows": null,
       "height": null,
       "justify_content": null,
       "justify_items": null,
       "left": null,
       "margin": null,
       "max_height": null,
       "max_width": null,
       "min_height": null,
       "min_width": null,
       "object_fit": null,
       "object_position": null,
       "order": null,
       "overflow": null,
       "overflow_x": null,
       "overflow_y": null,
       "padding": null,
       "right": null,
       "top": null,
       "visibility": null,
       "width": null
      }
     },
     "a27b52d5157c4e2ebcf5001924cfcd26": {
      "model_module": "@jupyter-widgets/controls",
      "model_module_version": "1.5.0",
      "model_name": "HTMLModel",
      "state": {
       "_dom_classes": [],
       "_model_module": "@jupyter-widgets/controls",
       "_model_module_version": "1.5.0",
       "_model_name": "HTMLModel",
       "_view_count": null,
       "_view_module": "@jupyter-widgets/controls",
       "_view_module_version": "1.5.0",
       "_view_name": "HTMLView",
       "description": "",
       "description_tooltip": null,
       "layout": "IPY_MODEL_c2e46a81126d4ec6b330d2eb5f1db0c8",
       "placeholder": "​",
       "style": "IPY_MODEL_cab8e3e9c408416dbd7385ebbb4be45e",
       "value": "Downloading: 100%"
      }
     },
     "a2ddfda46571476293ad13bec26a24d8": {
      "model_module": "@jupyter-widgets/base",
      "model_module_version": "1.2.0",
      "model_name": "LayoutModel",
      "state": {
       "_model_module": "@jupyter-widgets/base",
       "_model_module_version": "1.2.0",
       "_model_name": "LayoutModel",
       "_view_count": null,
       "_view_module": "@jupyter-widgets/base",
       "_view_module_version": "1.2.0",
       "_view_name": "LayoutView",
       "align_content": null,
       "align_items": null,
       "align_self": null,
       "border": null,
       "bottom": null,
       "display": null,
       "flex": null,
       "flex_flow": null,
       "grid_area": null,
       "grid_auto_columns": null,
       "grid_auto_flow": null,
       "grid_auto_rows": null,
       "grid_column": null,
       "grid_gap": null,
       "grid_row": null,
       "grid_template_areas": null,
       "grid_template_columns": null,
       "grid_template_rows": null,
       "height": null,
       "justify_content": null,
       "justify_items": null,
       "left": null,
       "margin": null,
       "max_height": null,
       "max_width": null,
       "min_height": null,
       "min_width": null,
       "object_fit": null,
       "object_position": null,
       "order": null,
       "overflow": null,
       "overflow_x": null,
       "overflow_y": null,
       "padding": null,
       "right": null,
       "top": null,
       "visibility": null,
       "width": null
      }
     },
     "a501ac108de44712b606f54a68a44a11": {
      "model_module": "@jupyter-widgets/controls",
      "model_module_version": "1.5.0",
      "model_name": "HBoxModel",
      "state": {
       "_dom_classes": [],
       "_model_module": "@jupyter-widgets/controls",
       "_model_module_version": "1.5.0",
       "_model_name": "HBoxModel",
       "_view_count": null,
       "_view_module": "@jupyter-widgets/controls",
       "_view_module_version": "1.5.0",
       "_view_name": "HBoxView",
       "box_style": "",
       "children": [
        "IPY_MODEL_16a5e504bb2e42bfbcae4e8c32a86374",
        "IPY_MODEL_ffada0d011784fbf9b82387fcf462736",
        "IPY_MODEL_df63d3b06d5c4db2ad3d1e48b9a96ef2"
       ],
       "layout": "IPY_MODEL_755d0b71bc1e4c25979623586456210f"
      }
     },
     "b1ba00bd2e5a4162b3d1821e569daecc": {
      "model_module": "@jupyter-widgets/controls",
      "model_module_version": "1.5.0",
      "model_name": "ProgressStyleModel",
      "state": {
       "_model_module": "@jupyter-widgets/controls",
       "_model_module_version": "1.5.0",
       "_model_name": "ProgressStyleModel",
       "_view_count": null,
       "_view_module": "@jupyter-widgets/base",
       "_view_module_version": "1.2.0",
       "_view_name": "StyleView",
       "bar_color": null,
       "description_width": ""
      }
     },
     "b910fbe69f424ba68c6a0895e5c30dd7": {
      "model_module": "@jupyter-widgets/controls",
      "model_module_version": "1.5.0",
      "model_name": "DescriptionStyleModel",
      "state": {
       "_model_module": "@jupyter-widgets/controls",
       "_model_module_version": "1.5.0",
       "_model_name": "DescriptionStyleModel",
       "_view_count": null,
       "_view_module": "@jupyter-widgets/base",
       "_view_module_version": "1.2.0",
       "_view_name": "StyleView",
       "description_width": ""
      }
     },
     "be276ea137fc4eff8f0637a708b34a6e": {
      "model_module": "@jupyter-widgets/controls",
      "model_module_version": "1.5.0",
      "model_name": "ProgressStyleModel",
      "state": {
       "_model_module": "@jupyter-widgets/controls",
       "_model_module_version": "1.5.0",
       "_model_name": "ProgressStyleModel",
       "_view_count": null,
       "_view_module": "@jupyter-widgets/base",
       "_view_module_version": "1.2.0",
       "_view_name": "StyleView",
       "bar_color": null,
       "description_width": ""
      }
     },
     "c2e46a81126d4ec6b330d2eb5f1db0c8": {
      "model_module": "@jupyter-widgets/base",
      "model_module_version": "1.2.0",
      "model_name": "LayoutModel",
      "state": {
       "_model_module": "@jupyter-widgets/base",
       "_model_module_version": "1.2.0",
       "_model_name": "LayoutModel",
       "_view_count": null,
       "_view_module": "@jupyter-widgets/base",
       "_view_module_version": "1.2.0",
       "_view_name": "LayoutView",
       "align_content": null,
       "align_items": null,
       "align_self": null,
       "border": null,
       "bottom": null,
       "display": null,
       "flex": null,
       "flex_flow": null,
       "grid_area": null,
       "grid_auto_columns": null,
       "grid_auto_flow": null,
       "grid_auto_rows": null,
       "grid_column": null,
       "grid_gap": null,
       "grid_row": null,
       "grid_template_areas": null,
       "grid_template_columns": null,
       "grid_template_rows": null,
       "height": null,
       "justify_content": null,
       "justify_items": null,
       "left": null,
       "margin": null,
       "max_height": null,
       "max_width": null,
       "min_height": null,
       "min_width": null,
       "object_fit": null,
       "object_position": null,
       "order": null,
       "overflow": null,
       "overflow_x": null,
       "overflow_y": null,
       "padding": null,
       "right": null,
       "top": null,
       "visibility": null,
       "width": null
      }
     },
     "c47557464b024d73bf86630bd2f20fb6": {
      "model_module": "@jupyter-widgets/controls",
      "model_module_version": "1.5.0",
      "model_name": "ProgressStyleModel",
      "state": {
       "_model_module": "@jupyter-widgets/controls",
       "_model_module_version": "1.5.0",
       "_model_name": "ProgressStyleModel",
       "_view_count": null,
       "_view_module": "@jupyter-widgets/base",
       "_view_module_version": "1.2.0",
       "_view_name": "StyleView",
       "bar_color": null,
       "description_width": ""
      }
     },
     "c861ef1e616b4dc9a2e4ff3a0a189a3c": {
      "model_module": "@jupyter-widgets/base",
      "model_module_version": "1.2.0",
      "model_name": "LayoutModel",
      "state": {
       "_model_module": "@jupyter-widgets/base",
       "_model_module_version": "1.2.0",
       "_model_name": "LayoutModel",
       "_view_count": null,
       "_view_module": "@jupyter-widgets/base",
       "_view_module_version": "1.2.0",
       "_view_name": "LayoutView",
       "align_content": null,
       "align_items": null,
       "align_self": null,
       "border": null,
       "bottom": null,
       "display": null,
       "flex": null,
       "flex_flow": null,
       "grid_area": null,
       "grid_auto_columns": null,
       "grid_auto_flow": null,
       "grid_auto_rows": null,
       "grid_column": null,
       "grid_gap": null,
       "grid_row": null,
       "grid_template_areas": null,
       "grid_template_columns": null,
       "grid_template_rows": null,
       "height": null,
       "justify_content": null,
       "justify_items": null,
       "left": null,
       "margin": null,
       "max_height": null,
       "max_width": null,
       "min_height": null,
       "min_width": null,
       "object_fit": null,
       "object_position": null,
       "order": null,
       "overflow": null,
       "overflow_x": null,
       "overflow_y": null,
       "padding": null,
       "right": null,
       "top": null,
       "visibility": null,
       "width": null
      }
     },
     "c9f21e4893bd4f16bd1ccb4f6b6c6e21": {
      "model_module": "@jupyter-widgets/base",
      "model_module_version": "1.2.0",
      "model_name": "LayoutModel",
      "state": {
       "_model_module": "@jupyter-widgets/base",
       "_model_module_version": "1.2.0",
       "_model_name": "LayoutModel",
       "_view_count": null,
       "_view_module": "@jupyter-widgets/base",
       "_view_module_version": "1.2.0",
       "_view_name": "LayoutView",
       "align_content": null,
       "align_items": null,
       "align_self": null,
       "border": null,
       "bottom": null,
       "display": null,
       "flex": null,
       "flex_flow": null,
       "grid_area": null,
       "grid_auto_columns": null,
       "grid_auto_flow": null,
       "grid_auto_rows": null,
       "grid_column": null,
       "grid_gap": null,
       "grid_row": null,
       "grid_template_areas": null,
       "grid_template_columns": null,
       "grid_template_rows": null,
       "height": null,
       "justify_content": null,
       "justify_items": null,
       "left": null,
       "margin": null,
       "max_height": null,
       "max_width": null,
       "min_height": null,
       "min_width": null,
       "object_fit": null,
       "object_position": null,
       "order": null,
       "overflow": null,
       "overflow_x": null,
       "overflow_y": null,
       "padding": null,
       "right": null,
       "top": null,
       "visibility": null,
       "width": null
      }
     },
     "caaee077ddf945a094ff67629775a76c": {
      "model_module": "@jupyter-widgets/controls",
      "model_module_version": "1.5.0",
      "model_name": "DescriptionStyleModel",
      "state": {
       "_model_module": "@jupyter-widgets/controls",
       "_model_module_version": "1.5.0",
       "_model_name": "DescriptionStyleModel",
       "_view_count": null,
       "_view_module": "@jupyter-widgets/base",
       "_view_module_version": "1.2.0",
       "_view_name": "StyleView",
       "description_width": ""
      }
     },
     "cab8e3e9c408416dbd7385ebbb4be45e": {
      "model_module": "@jupyter-widgets/controls",
      "model_module_version": "1.5.0",
      "model_name": "DescriptionStyleModel",
      "state": {
       "_model_module": "@jupyter-widgets/controls",
       "_model_module_version": "1.5.0",
       "_model_name": "DescriptionStyleModel",
       "_view_count": null,
       "_view_module": "@jupyter-widgets/base",
       "_view_module_version": "1.2.0",
       "_view_name": "StyleView",
       "description_width": ""
      }
     },
     "cd2e46f44aeb42b4af97ed66fb4f2007": {
      "model_module": "@jupyter-widgets/base",
      "model_module_version": "1.2.0",
      "model_name": "LayoutModel",
      "state": {
       "_model_module": "@jupyter-widgets/base",
       "_model_module_version": "1.2.0",
       "_model_name": "LayoutModel",
       "_view_count": null,
       "_view_module": "@jupyter-widgets/base",
       "_view_module_version": "1.2.0",
       "_view_name": "LayoutView",
       "align_content": null,
       "align_items": null,
       "align_self": null,
       "border": null,
       "bottom": null,
       "display": null,
       "flex": null,
       "flex_flow": null,
       "grid_area": null,
       "grid_auto_columns": null,
       "grid_auto_flow": null,
       "grid_auto_rows": null,
       "grid_column": null,
       "grid_gap": null,
       "grid_row": null,
       "grid_template_areas": null,
       "grid_template_columns": null,
       "grid_template_rows": null,
       "height": null,
       "justify_content": null,
       "justify_items": null,
       "left": null,
       "margin": null,
       "max_height": null,
       "max_width": null,
       "min_height": null,
       "min_width": null,
       "object_fit": null,
       "object_position": null,
       "order": null,
       "overflow": null,
       "overflow_x": null,
       "overflow_y": null,
       "padding": null,
       "right": null,
       "top": null,
       "visibility": null,
       "width": null
      }
     },
     "d226c18e2f9342b4a74b0099f4fc2f32": {
      "model_module": "@jupyter-widgets/base",
      "model_module_version": "1.2.0",
      "model_name": "LayoutModel",
      "state": {
       "_model_module": "@jupyter-widgets/base",
       "_model_module_version": "1.2.0",
       "_model_name": "LayoutModel",
       "_view_count": null,
       "_view_module": "@jupyter-widgets/base",
       "_view_module_version": "1.2.0",
       "_view_name": "LayoutView",
       "align_content": null,
       "align_items": null,
       "align_self": null,
       "border": null,
       "bottom": null,
       "display": null,
       "flex": null,
       "flex_flow": null,
       "grid_area": null,
       "grid_auto_columns": null,
       "grid_auto_flow": null,
       "grid_auto_rows": null,
       "grid_column": null,
       "grid_gap": null,
       "grid_row": null,
       "grid_template_areas": null,
       "grid_template_columns": null,
       "grid_template_rows": null,
       "height": null,
       "justify_content": null,
       "justify_items": null,
       "left": null,
       "margin": null,
       "max_height": null,
       "max_width": null,
       "min_height": null,
       "min_width": null,
       "object_fit": null,
       "object_position": null,
       "order": null,
       "overflow": null,
       "overflow_x": null,
       "overflow_y": null,
       "padding": null,
       "right": null,
       "top": null,
       "visibility": null,
       "width": null
      }
     },
     "d5252f11fc814397a3942bfd9efe66f8": {
      "model_module": "@jupyter-widgets/controls",
      "model_module_version": "1.5.0",
      "model_name": "FloatProgressModel",
      "state": {
       "_dom_classes": [],
       "_model_module": "@jupyter-widgets/controls",
       "_model_module_version": "1.5.0",
       "_model_name": "FloatProgressModel",
       "_view_count": null,
       "_view_module": "@jupyter-widgets/controls",
       "_view_module_version": "1.5.0",
       "_view_name": "ProgressView",
       "bar_style": "success",
       "description": "",
       "description_tooltip": null,
       "layout": "IPY_MODEL_a2042de9990a490aa9adbb857a05bb8d",
       "max": 624.0,
       "min": 0.0,
       "orientation": "horizontal",
       "style": "IPY_MODEL_b1ba00bd2e5a4162b3d1821e569daecc",
       "value": 624.0
      }
     },
     "d72835e0483c4a3d984f9453677ce4d8": {
      "model_module": "@jupyter-widgets/base",
      "model_module_version": "1.2.0",
      "model_name": "LayoutModel",
      "state": {
       "_model_module": "@jupyter-widgets/base",
       "_model_module_version": "1.2.0",
       "_model_name": "LayoutModel",
       "_view_count": null,
       "_view_module": "@jupyter-widgets/base",
       "_view_module_version": "1.2.0",
       "_view_name": "LayoutView",
       "align_content": null,
       "align_items": null,
       "align_self": null,
       "border": null,
       "bottom": null,
       "display": null,
       "flex": null,
       "flex_flow": null,
       "grid_area": null,
       "grid_auto_columns": null,
       "grid_auto_flow": null,
       "grid_auto_rows": null,
       "grid_column": null,
       "grid_gap": null,
       "grid_row": null,
       "grid_template_areas": null,
       "grid_template_columns": null,
       "grid_template_rows": null,
       "height": null,
       "justify_content": null,
       "justify_items": null,
       "left": null,
       "margin": null,
       "max_height": null,
       "max_width": null,
       "min_height": null,
       "min_width": null,
       "object_fit": null,
       "object_position": null,
       "order": null,
       "overflow": null,
       "overflow_x": null,
       "overflow_y": null,
       "padding": null,
       "right": null,
       "top": null,
       "visibility": null,
       "width": null
      }
     },
     "d751b2dd02964369b87d370adb923151": {
      "model_module": "@jupyter-widgets/base",
      "model_module_version": "1.2.0",
      "model_name": "LayoutModel",
      "state": {
       "_model_module": "@jupyter-widgets/base",
       "_model_module_version": "1.2.0",
       "_model_name": "LayoutModel",
       "_view_count": null,
       "_view_module": "@jupyter-widgets/base",
       "_view_module_version": "1.2.0",
       "_view_name": "LayoutView",
       "align_content": null,
       "align_items": null,
       "align_self": null,
       "border": null,
       "bottom": null,
       "display": null,
       "flex": null,
       "flex_flow": null,
       "grid_area": null,
       "grid_auto_columns": null,
       "grid_auto_flow": null,
       "grid_auto_rows": null,
       "grid_column": null,
       "grid_gap": null,
       "grid_row": null,
       "grid_template_areas": null,
       "grid_template_columns": null,
       "grid_template_rows": null,
       "height": null,
       "justify_content": null,
       "justify_items": null,
       "left": null,
       "margin": null,
       "max_height": null,
       "max_width": null,
       "min_height": null,
       "min_width": null,
       "object_fit": null,
       "object_position": null,
       "order": null,
       "overflow": null,
       "overflow_x": null,
       "overflow_y": null,
       "padding": null,
       "right": null,
       "top": null,
       "visibility": null,
       "width": null
      }
     },
     "dc348f022aba450f9aa3f555f6750891": {
      "model_module": "@jupyter-widgets/controls",
      "model_module_version": "1.5.0",
      "model_name": "HBoxModel",
      "state": {
       "_dom_classes": [],
       "_model_module": "@jupyter-widgets/controls",
       "_model_module_version": "1.5.0",
       "_model_name": "HBoxModel",
       "_view_count": null,
       "_view_module": "@jupyter-widgets/controls",
       "_view_module_version": "1.5.0",
       "_view_name": "HBoxView",
       "box_style": "",
       "children": [
        "IPY_MODEL_07e0c103e3484ce2a84f9e7576d698b8",
        "IPY_MODEL_760c32eb17fc48199252c57aa89778ef",
        "IPY_MODEL_dca7644afd5a4d05a47e77c8e204dd6a"
       ],
       "layout": "IPY_MODEL_2ed6ab482e8b4cc9a28188bb536c2bef"
      }
     },
     "dca7644afd5a4d05a47e77c8e204dd6a": {
      "model_module": "@jupyter-widgets/controls",
      "model_module_version": "1.5.0",
      "model_name": "HTMLModel",
      "state": {
       "_dom_classes": [],
       "_model_module": "@jupyter-widgets/controls",
       "_model_module_version": "1.5.0",
       "_model_name": "HTMLModel",
       "_view_count": null,
       "_view_module": "@jupyter-widgets/controls",
       "_view_module_version": "1.5.0",
       "_view_name": "HTMLView",
       "description": "",
       "description_tooltip": null,
       "layout": "IPY_MODEL_cd2e46f44aeb42b4af97ed66fb4f2007",
       "placeholder": "​",
       "style": "IPY_MODEL_9bf2c13a2e1c4e8fb35f877f76fd3c90",
       "value": " 5.83k/? [00:00&lt;00:00, 201kB/s]"
      }
     },
     "df63d3b06d5c4db2ad3d1e48b9a96ef2": {
      "model_module": "@jupyter-widgets/controls",
      "model_module_version": "1.5.0",
      "model_name": "HTMLModel",
      "state": {
       "_dom_classes": [],
       "_model_module": "@jupyter-widgets/controls",
       "_model_module_version": "1.5.0",
       "_model_name": "HTMLModel",
       "_view_count": null,
       "_view_module": "@jupyter-widgets/controls",
       "_view_module_version": "1.5.0",
       "_view_name": "HTMLView",
       "description": "",
       "description_tooltip": null,
       "layout": "IPY_MODEL_7e4bc8ee74664d4c918444a2e6c655c2",
       "placeholder": "​",
       "style": "IPY_MODEL_076c66bfde7c4acd8ede33c6fe8284e9",
       "value": " 393M/393M [00:12&lt;00:00, 41.0MB/s]"
      }
     },
     "e4249e1e510a414aa834416626d9928d": {
      "model_module": "@jupyter-widgets/controls",
      "model_module_version": "1.5.0",
      "model_name": "HTMLModel",
      "state": {
       "_dom_classes": [],
       "_model_module": "@jupyter-widgets/controls",
       "_model_module_version": "1.5.0",
       "_model_name": "HTMLModel",
       "_view_count": null,
       "_view_module": "@jupyter-widgets/controls",
       "_view_module_version": "1.5.0",
       "_view_name": "HTMLView",
       "description": "",
       "description_tooltip": null,
       "layout": "IPY_MODEL_3825072416104f2680697689cdf3cac9",
       "placeholder": "​",
       "style": "IPY_MODEL_f78a7fc7f8044fbdbca9390154b820fd",
       "value": "Downloading builder script: "
      }
     },
     "e5f2694282c841ef8f8b6ba7dc4b71ec": {
      "model_module": "@jupyter-widgets/base",
      "model_module_version": "1.2.0",
      "model_name": "LayoutModel",
      "state": {
       "_model_module": "@jupyter-widgets/base",
       "_model_module_version": "1.2.0",
       "_model_name": "LayoutModel",
       "_view_count": null,
       "_view_module": "@jupyter-widgets/base",
       "_view_module_version": "1.2.0",
       "_view_name": "LayoutView",
       "align_content": null,
       "align_items": null,
       "align_self": null,
       "border": null,
       "bottom": null,
       "display": null,
       "flex": null,
       "flex_flow": null,
       "grid_area": null,
       "grid_auto_columns": null,
       "grid_auto_flow": null,
       "grid_auto_rows": null,
       "grid_column": null,
       "grid_gap": null,
       "grid_row": null,
       "grid_template_areas": null,
       "grid_template_columns": null,
       "grid_template_rows": null,
       "height": null,
       "justify_content": null,
       "justify_items": null,
       "left": null,
       "margin": null,
       "max_height": null,
       "max_width": null,
       "min_height": null,
       "min_width": null,
       "object_fit": null,
       "object_position": null,
       "order": null,
       "overflow": null,
       "overflow_x": null,
       "overflow_y": null,
       "padding": null,
       "right": null,
       "top": null,
       "visibility": null,
       "width": null
      }
     },
     "f5719ad9c1dd4ffe89e23ee3586c0a3e": {
      "model_module": "@jupyter-widgets/controls",
      "model_module_version": "1.5.0",
      "model_name": "HTMLModel",
      "state": {
       "_dom_classes": [],
       "_model_module": "@jupyter-widgets/controls",
       "_model_module_version": "1.5.0",
       "_model_name": "HTMLModel",
       "_view_count": null,
       "_view_module": "@jupyter-widgets/controls",
       "_view_module_version": "1.5.0",
       "_view_name": "HTMLView",
       "description": "",
       "description_tooltip": null,
       "layout": "IPY_MODEL_3db2846280de4c63be684a11a3da1a2d",
       "placeholder": "​",
       "style": "IPY_MODEL_47b829b92cc54a94a06d039017302ae6",
       "value": "Downloading: 100%"
      }
     },
     "f78a7fc7f8044fbdbca9390154b820fd": {
      "model_module": "@jupyter-widgets/controls",
      "model_module_version": "1.5.0",
      "model_name": "DescriptionStyleModel",
      "state": {
       "_model_module": "@jupyter-widgets/controls",
       "_model_module_version": "1.5.0",
       "_model_name": "DescriptionStyleModel",
       "_view_count": null,
       "_view_module": "@jupyter-widgets/base",
       "_view_module_version": "1.2.0",
       "_view_name": "StyleView",
       "description_width": ""
      }
     },
     "fbb4c6d7dfc6475b89f8c50a54cc9f2b": {
      "model_module": "@jupyter-widgets/controls",
      "model_module_version": "1.5.0",
      "model_name": "FloatProgressModel",
      "state": {
       "_dom_classes": [],
       "_model_module": "@jupyter-widgets/controls",
       "_model_module_version": "1.5.0",
       "_model_name": "FloatProgressModel",
       "_view_count": null,
       "_view_module": "@jupyter-widgets/controls",
       "_view_module_version": "1.5.0",
       "_view_name": "ProgressView",
       "bar_style": "success",
       "description": "",
       "description_tooltip": null,
       "layout": "IPY_MODEL_6c79b7f282f748ac9ccd4d7b65ae502d",
       "max": 29.0,
       "min": 0.0,
       "orientation": "horizontal",
       "style": "IPY_MODEL_968c26603d9d43eeaa0612b926dd0a63",
       "value": 29.0
      }
     },
     "fd05a5ab34724ff8a2d4a3ec284c8cfd": {
      "model_module": "@jupyter-widgets/controls",
      "model_module_version": "1.5.0",
      "model_name": "HTMLModel",
      "state": {
       "_dom_classes": [],
       "_model_module": "@jupyter-widgets/controls",
       "_model_module_version": "1.5.0",
       "_model_name": "HTMLModel",
       "_view_count": null,
       "_view_module": "@jupyter-widgets/controls",
       "_view_module_version": "1.5.0",
       "_view_name": "HTMLView",
       "description": "",
       "description_tooltip": null,
       "layout": "IPY_MODEL_6d31ac53d0a84dcfb4ed38919f4b166d",
       "placeholder": "​",
       "style": "IPY_MODEL_b910fbe69f424ba68c6a0895e5c30dd7",
       "value": " 5.27k/? [00:00&lt;00:00, 175kB/s]"
      }
     },
     "ff6db8f0692c45b78f38fd3e86ad538a": {
      "model_module": "@jupyter-widgets/controls",
      "model_module_version": "1.5.0",
      "model_name": "HBoxModel",
      "state": {
       "_dom_classes": [],
       "_model_module": "@jupyter-widgets/controls",
       "_model_module_version": "1.5.0",
       "_model_name": "HBoxModel",
       "_view_count": null,
       "_view_module": "@jupyter-widgets/controls",
       "_view_module_version": "1.5.0",
       "_view_name": "HBoxView",
       "box_style": "",
       "children": [
        "IPY_MODEL_4b8d23849f65470786ee51e774eadc70",
        "IPY_MODEL_fbb4c6d7dfc6475b89f8c50a54cc9f2b",
        "IPY_MODEL_7223dd0bd3a64d35b050550e024e7b50"
       ],
       "layout": "IPY_MODEL_328825fec7654460a646bdbed10de34a"
      }
     },
     "ffada0d011784fbf9b82387fcf462736": {
      "model_module": "@jupyter-widgets/controls",
      "model_module_version": "1.5.0",
      "model_name": "FloatProgressModel",
      "state": {
       "_dom_classes": [],
       "_model_module": "@jupyter-widgets/controls",
       "_model_module_version": "1.5.0",
       "_model_name": "FloatProgressModel",
       "_view_count": null,
       "_view_module": "@jupyter-widgets/controls",
       "_view_module_version": "1.5.0",
       "_view_name": "ProgressView",
       "bar_style": "success",
       "description": "",
       "description_tooltip": null,
       "layout": "IPY_MODEL_3c4fe5a9e77d4b7e88b0d9b9ed7af83d",
       "max": 411577189.0,
       "min": 0.0,
       "orientation": "horizontal",
       "style": "IPY_MODEL_9cefdc83070c491a9a847a41fdeb0119",
       "value": 411577189.0
      }
     }
    },
    "version_major": 2,
    "version_minor": 0
   }
  }
 },
 "nbformat": 4,
 "nbformat_minor": 5
}
